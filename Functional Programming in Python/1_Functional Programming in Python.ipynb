{
 "cells": [
  {
   "cell_type": "markdown",
   "metadata": {},
   "source": [
    "# Functional Programming in Python\n",
    "\n",
    "[Tutorial playlist](https://www.youtube.com/playlist?list=PLP8GkvaIxJP1z5bu4NX_bFrEInBkAgTMr)   \n",
    "[中文文档](https://docs.python.org/zh-cn/3/howto/functional.html)"
   ]
  },
  {
   "cell_type": "markdown",
   "metadata": {},
   "source": [
    "## Immutable Data Structures\n",
    "\n",
    "Immutable data structures cannot be modified in-place and this can help reduce bugs"
   ]
  },
  {
   "cell_type": "code",
   "execution_count": 13,
   "metadata": {
    "ExecuteTime": {
     "end_time": "2021-03-19T23:29:29.024667Z",
     "start_time": "2021-03-19T23:29:29.018035Z"
    }
   },
   "outputs": [],
   "source": [
    "import collections\n",
    "\n",
    "Scientist = collections.namedtuple('Scientist',[\n",
    "    'name',\n",
    "    'field',\n",
    "    'born',\n",
    "    'nobel',\n",
    "])"
   ]
  },
  {
   "cell_type": "code",
   "execution_count": 59,
   "metadata": {
    "ExecuteTime": {
     "end_time": "2021-03-20T00:04:05.889243Z",
     "start_time": "2021-03-20T00:04:05.876592Z"
    }
   },
   "outputs": [],
   "source": [
    "scientists = (\n",
    "    Scientist(name=' Ada Lovelace', field='math', born=1815, nobel=False),\n",
    "    Scientist(name=' Emmy Noether', field='math', born=1882, nobel=False),\n",
    "    Scientist(name='Marie Curie', field='physics', born=1867, nobel=True),\n",
    "    Scientist(name=' Tu-Youyou', field='chemistry', born=1930, nobel=True),\n",
    "    Scientist(name=' Ada-Yonath', field='chemistry', born=1939, nobel=True),\n",
    "    Scientist(name=' Vera Rubin', field='astronomy',born=1928, nobel=False),\n",
    "    Scientist(name='Sally Ride', field='physics', born=1951, nobel=False),\n",
    ")"
   ]
  },
  {
   "cell_type": "code",
   "execution_count": 17,
   "metadata": {
    "ExecuteTime": {
     "end_time": "2021-03-19T23:35:09.458217Z",
     "start_time": "2021-03-19T23:35:09.452278Z"
    }
   },
   "outputs": [
    {
     "data": {
      "text/plain": [
       "' Ada Lovelace'"
      ]
     },
     "execution_count": 17,
     "metadata": {},
     "output_type": "execute_result"
    }
   ],
   "source": [
    "scientists[0].name"
   ]
  },
  {
   "cell_type": "code",
   "execution_count": 16,
   "metadata": {
    "ExecuteTime": {
     "end_time": "2021-03-19T23:31:43.031584Z",
     "start_time": "2021-03-19T23:31:43.027301Z"
    }
   },
   "outputs": [
    {
     "name": "stdout",
     "output_type": "stream",
     "text": [
      "(Scientist(name=' Ada Lovelace', field='math', born=1815, nobel=False),\n",
      " Scientist(name=' Emmy Noether', field='math', born=1882, nobel=False),\n",
      " Scientist(name='Marie Curie', field='physics', born=1867, nobel=True),\n",
      " Scientist(name=' Tu-Youyou', field='chemistry', born=1930, nobel=True),\n",
      " Scientist(name=' Ada-Yonath', field=' chemistry', born=1939, nobel=True),\n",
      " Scientist(name=' Vera Rubin', field='astronomy', born=1928, nobel=False),\n",
      " Scientist(name='Sally Ride', field='physics', born=1951, nobel=False))\n"
     ]
    }
   ],
   "source": [
    "from pprint import pprint\n",
    "\n",
    "pprint(scientists)"
   ]
  },
  {
   "cell_type": "markdown",
   "metadata": {},
   "source": [
    "## The `filter()` Function"
   ]
  },
  {
   "cell_type": "code",
   "execution_count": 19,
   "metadata": {
    "ExecuteTime": {
     "end_time": "2021-03-19T23:35:28.704531Z",
     "start_time": "2021-03-19T23:35:28.697870Z"
    }
   },
   "outputs": [
    {
     "data": {
      "text/plain": [
       "<filter at 0x7ff4b9d69490>"
      ]
     },
     "execution_count": 19,
     "metadata": {},
     "output_type": "execute_result"
    }
   ],
   "source": [
    "filter(lambda x: x.nobel is True, scientists)"
   ]
  },
  {
   "cell_type": "code",
   "execution_count": 20,
   "metadata": {
    "ExecuteTime": {
     "end_time": "2021-03-19T23:35:53.075940Z",
     "start_time": "2021-03-19T23:35:53.072270Z"
    }
   },
   "outputs": [],
   "source": [
    "fs = filter(lambda x: x.nobel is True, scientists)"
   ]
  },
  {
   "cell_type": "code",
   "execution_count": 21,
   "metadata": {
    "ExecuteTime": {
     "end_time": "2021-03-19T23:36:01.010416Z",
     "start_time": "2021-03-19T23:36:01.005422Z"
    }
   },
   "outputs": [
    {
     "data": {
      "text/plain": [
       "Scientist(name='Marie Curie', field='physics', born=1867, nobel=True)"
      ]
     },
     "execution_count": 21,
     "metadata": {},
     "output_type": "execute_result"
    }
   ],
   "source": [
    "next(fs)"
   ]
  },
  {
   "cell_type": "code",
   "execution_count": 22,
   "metadata": {
    "ExecuteTime": {
     "end_time": "2021-03-19T23:36:06.998418Z",
     "start_time": "2021-03-19T23:36:06.994217Z"
    }
   },
   "outputs": [
    {
     "data": {
      "text/plain": [
       "Scientist(name=' Tu-Youyou', field='chemistry', born=1930, nobel=True)"
      ]
     },
     "execution_count": 22,
     "metadata": {},
     "output_type": "execute_result"
    }
   ],
   "source": [
    "next(fs)"
   ]
  },
  {
   "cell_type": "code",
   "execution_count": 23,
   "metadata": {
    "ExecuteTime": {
     "end_time": "2021-03-19T23:36:08.384802Z",
     "start_time": "2021-03-19T23:36:08.380572Z"
    }
   },
   "outputs": [
    {
     "data": {
      "text/plain": [
       "Scientist(name=' Ada-Yonath', field=' chemistry', born=1939, nobel=True)"
      ]
     },
     "execution_count": 23,
     "metadata": {},
     "output_type": "execute_result"
    }
   ],
   "source": [
    "next(fs)"
   ]
  },
  {
   "cell_type": "code",
   "execution_count": 24,
   "metadata": {
    "ExecuteTime": {
     "end_time": "2021-03-19T23:36:09.856024Z",
     "start_time": "2021-03-19T23:36:09.841678Z"
    }
   },
   "outputs": [
    {
     "ename": "StopIteration",
     "evalue": "",
     "output_type": "error",
     "traceback": [
      "\u001b[0;31m---------------------------------------------------------------------------\u001b[0m",
      "\u001b[0;31mStopIteration\u001b[0m                             Traceback (most recent call last)",
      "\u001b[0;32m<ipython-input-24-cc337a681289>\u001b[0m in \u001b[0;36m<module>\u001b[0;34m\u001b[0m\n\u001b[0;32m----> 1\u001b[0;31m \u001b[0mnext\u001b[0m\u001b[0;34m(\u001b[0m\u001b[0mfs\u001b[0m\u001b[0;34m)\u001b[0m\u001b[0;34m\u001b[0m\u001b[0;34m\u001b[0m\u001b[0m\n\u001b[0m",
      "\u001b[0;31mStopIteration\u001b[0m: "
     ]
    }
   ],
   "source": [
    "next(fs)"
   ]
  },
  {
   "cell_type": "code",
   "execution_count": 27,
   "metadata": {
    "ExecuteTime": {
     "end_time": "2021-03-19T23:36:52.074187Z",
     "start_time": "2021-03-19T23:36:52.064926Z"
    }
   },
   "outputs": [
    {
     "data": {
      "text/plain": [
       "(Scientist(name='Marie Curie', field='physics', born=1867, nobel=True),\n",
       " Scientist(name=' Tu-Youyou', field='chemistry', born=1930, nobel=True),\n",
       " Scientist(name=' Ada-Yonath', field=' chemistry', born=1939, nobel=True))"
      ]
     },
     "execution_count": 27,
     "metadata": {},
     "output_type": "execute_result"
    }
   ],
   "source": [
    "fs = tuple(filter(lambda x: x.nobel is True, scientists))\n",
    "fs"
   ]
  },
  {
   "cell_type": "code",
   "execution_count": 28,
   "metadata": {
    "ExecuteTime": {
     "end_time": "2021-03-19T23:37:31.286417Z",
     "start_time": "2021-03-19T23:37:31.282064Z"
    }
   },
   "outputs": [
    {
     "name": "stdout",
     "output_type": "stream",
     "text": [
      "(Scientist(name=' Ada Lovelace', field='math', born=1815, nobel=False),\n",
      " Scientist(name=' Emmy Noether', field='math', born=1882, nobel=False),\n",
      " Scientist(name='Marie Curie', field='physics', born=1867, nobel=True),\n",
      " Scientist(name=' Tu-Youyou', field='chemistry', born=1930, nobel=True),\n",
      " Scientist(name=' Ada-Yonath', field=' chemistry', born=1939, nobel=True),\n",
      " Scientist(name=' Vera Rubin', field='astronomy', born=1928, nobel=False),\n",
      " Scientist(name='Sally Ride', field='physics', born=1951, nobel=False))\n"
     ]
    }
   ],
   "source": [
    "pprint(tuple(filter(lambda x: True, scientists)))"
   ]
  },
  {
   "cell_type": "code",
   "execution_count": 29,
   "metadata": {
    "ExecuteTime": {
     "end_time": "2021-03-19T23:37:56.411403Z",
     "start_time": "2021-03-19T23:37:56.407093Z"
    }
   },
   "outputs": [
    {
     "name": "stdout",
     "output_type": "stream",
     "text": [
      "(Scientist(name='Marie Curie', field='physics', born=1867, nobel=True),\n",
      " Scientist(name='Sally Ride', field='physics', born=1951, nobel=False))\n"
     ]
    }
   ],
   "source": [
    "pprint(tuple(filter(lambda x: x.field == 'physics', scientists)))"
   ]
  },
  {
   "cell_type": "code",
   "execution_count": 30,
   "metadata": {
    "ExecuteTime": {
     "end_time": "2021-03-19T23:38:20.062738Z",
     "start_time": "2021-03-19T23:38:20.058792Z"
    }
   },
   "outputs": [
    {
     "name": "stdout",
     "output_type": "stream",
     "text": [
      "(Scientist(name='Marie Curie', field='physics', born=1867, nobel=True),)\n"
     ]
    }
   ],
   "source": [
    "pprint(tuple(filter(lambda x: x.field == 'physics' and x.nobel, scientists)))"
   ]
  },
  {
   "cell_type": "code",
   "execution_count": 31,
   "metadata": {
    "ExecuteTime": {
     "end_time": "2021-03-19T23:38:45.916750Z",
     "start_time": "2021-03-19T23:38:45.912496Z"
    }
   },
   "outputs": [
    {
     "name": "stdout",
     "output_type": "stream",
     "text": [
      "Scientist(name='Marie Curie', field='physics', born=1867, nobel=True)\n",
      "Scientist(name=' Tu-Youyou', field='chemistry', born=1930, nobel=True)\n",
      "Scientist(name=' Ada-Yonath', field=' chemistry', born=1939, nobel=True)\n"
     ]
    }
   ],
   "source": [
    "for x in scientists:\n",
    "    if x.nobel is True:\n",
    "        print(x)"
   ]
  },
  {
   "cell_type": "code",
   "execution_count": 32,
   "metadata": {
    "ExecuteTime": {
     "end_time": "2021-03-19T23:39:32.641297Z",
     "start_time": "2021-03-19T23:39:32.638099Z"
    }
   },
   "outputs": [],
   "source": [
    "def nobel_filter(x):\n",
    "    return x.nobel is True"
   ]
  },
  {
   "cell_type": "code",
   "execution_count": 33,
   "metadata": {
    "ExecuteTime": {
     "end_time": "2021-03-19T23:39:49.204223Z",
     "start_time": "2021-03-19T23:39:49.197886Z"
    }
   },
   "outputs": [
    {
     "name": "stdout",
     "output_type": "stream",
     "text": [
      "(Scientist(name='Marie Curie', field='physics', born=1867, nobel=True),\n",
      " Scientist(name=' Tu-Youyou', field='chemistry', born=1930, nobel=True),\n",
      " Scientist(name=' Ada-Yonath', field=' chemistry', born=1939, nobel=True))\n"
     ]
    }
   ],
   "source": [
    "pprint(tuple(filter(nobel_filter, scientists)))"
   ]
  },
  {
   "cell_type": "code",
   "execution_count": 35,
   "metadata": {
    "ExecuteTime": {
     "end_time": "2021-03-19T23:40:39.924267Z",
     "start_time": "2021-03-19T23:40:39.918834Z"
    }
   },
   "outputs": [
    {
     "data": {
      "text/plain": [
       "[Scientist(name='Marie Curie', field='physics', born=1867, nobel=True),\n",
       " Scientist(name=' Tu-Youyou', field='chemistry', born=1930, nobel=True),\n",
       " Scientist(name=' Ada-Yonath', field=' chemistry', born=1939, nobel=True)]"
      ]
     },
     "execution_count": 35,
     "metadata": {},
     "output_type": "execute_result"
    }
   ],
   "source": [
    "# list comprehension\n",
    "[x for x in scientists if x.nobel is True]"
   ]
  },
  {
   "cell_type": "code",
   "execution_count": 36,
   "metadata": {
    "ExecuteTime": {
     "end_time": "2021-03-19T23:41:42.822996Z",
     "start_time": "2021-03-19T23:41:42.815887Z"
    }
   },
   "outputs": [
    {
     "name": "stdout",
     "output_type": "stream",
     "text": [
      "[Scientist(name='Marie Curie', field='physics', born=1867, nobel=True),\n",
      " Scientist(name=' Tu-Youyou', field='chemistry', born=1930, nobel=True),\n",
      " Scientist(name=' Ada-Yonath', field=' chemistry', born=1939, nobel=True)]\n"
     ]
    }
   ],
   "source": [
    "pprint([x for x in scientists if x.nobel is True])"
   ]
  },
  {
   "cell_type": "code",
   "execution_count": 37,
   "metadata": {
    "ExecuteTime": {
     "end_time": "2021-03-19T23:42:37.457647Z",
     "start_time": "2021-03-19T23:42:37.453039Z"
    }
   },
   "outputs": [
    {
     "name": "stdout",
     "output_type": "stream",
     "text": [
      "(Scientist(name='Marie Curie', field='physics', born=1867, nobel=True),\n",
      " Scientist(name=' Tu-Youyou', field='chemistry', born=1930, nobel=True),\n",
      " Scientist(name=' Ada-Yonath', field=' chemistry', born=1939, nobel=True))\n"
     ]
    }
   ],
   "source": [
    "pprint(tuple([x for x in scientists if x.nobel is True]))"
   ]
  },
  {
   "cell_type": "code",
   "execution_count": 38,
   "metadata": {
    "ExecuteTime": {
     "end_time": "2021-03-19T23:42:54.126821Z",
     "start_time": "2021-03-19T23:42:54.122883Z"
    }
   },
   "outputs": [
    {
     "name": "stdout",
     "output_type": "stream",
     "text": [
      "(Scientist(name='Marie Curie', field='physics', born=1867, nobel=True),\n",
      " Scientist(name=' Tu-Youyou', field='chemistry', born=1930, nobel=True),\n",
      " Scientist(name=' Ada-Yonath', field=' chemistry', born=1939, nobel=True))\n"
     ]
    }
   ],
   "source": [
    "# not need to use list as imtermediate\n",
    "pprint(tuple(x for x in scientists if x.nobel is True))"
   ]
  },
  {
   "cell_type": "code",
   "execution_count": 39,
   "metadata": {
    "ExecuteTime": {
     "end_time": "2021-03-19T23:44:11.237809Z",
     "start_time": "2021-03-19T23:44:11.232299Z"
    }
   },
   "outputs": [
    {
     "data": {
      "text/plain": [
       "(1, 2, 3)"
      ]
     },
     "execution_count": 39,
     "metadata": {},
     "output_type": "execute_result"
    }
   ],
   "source": [
    "tuple([1,2,3])"
   ]
  },
  {
   "cell_type": "code",
   "execution_count": 40,
   "metadata": {
    "ExecuteTime": {
     "end_time": "2021-03-19T23:44:16.711581Z",
     "start_time": "2021-03-19T23:44:16.695886Z"
    }
   },
   "outputs": [
    {
     "ename": "TypeError",
     "evalue": "tuple expected at most 1 argument, got 3",
     "output_type": "error",
     "traceback": [
      "\u001b[0;31m---------------------------------------------------------------------------\u001b[0m",
      "\u001b[0;31mTypeError\u001b[0m                                 Traceback (most recent call last)",
      "\u001b[0;32m<ipython-input-40-84c309a51e92>\u001b[0m in \u001b[0;36m<module>\u001b[0;34m\u001b[0m\n\u001b[0;32m----> 1\u001b[0;31m \u001b[0mtuple\u001b[0m\u001b[0;34m(\u001b[0m\u001b[0;36m1\u001b[0m\u001b[0;34m,\u001b[0m\u001b[0;36m2\u001b[0m\u001b[0;34m,\u001b[0m\u001b[0;36m3\u001b[0m\u001b[0;34m)\u001b[0m\u001b[0;34m\u001b[0m\u001b[0;34m\u001b[0m\u001b[0m\n\u001b[0m",
      "\u001b[0;31mTypeError\u001b[0m: tuple expected at most 1 argument, got 3"
     ]
    }
   ],
   "source": [
    "tuple(1,2,3)"
   ]
  },
  {
   "cell_type": "markdown",
   "metadata": {},
   "source": [
    "## The `map()` Function"
   ]
  },
  {
   "cell_type": "code",
   "execution_count": 41,
   "metadata": {
    "ExecuteTime": {
     "end_time": "2021-03-19T23:48:02.173664Z",
     "start_time": "2021-03-19T23:48:02.169607Z"
    }
   },
   "outputs": [],
   "source": [
    "names_and_ages = tuple(map(lambda x: {'name': x.name, 'age': 2017 - x.born}, scientists))"
   ]
  },
  {
   "cell_type": "code",
   "execution_count": 42,
   "metadata": {
    "ExecuteTime": {
     "end_time": "2021-03-19T23:48:07.990070Z",
     "start_time": "2021-03-19T23:48:07.984517Z"
    }
   },
   "outputs": [
    {
     "data": {
      "text/plain": [
       "({'name': ' Ada Lovelace', 'age': 202},\n",
       " {'name': ' Emmy Noether', 'age': 135},\n",
       " {'name': 'Marie Curie', 'age': 150},\n",
       " {'name': ' Tu-Youyou', 'age': 87},\n",
       " {'name': ' Ada-Yonath', 'age': 78},\n",
       " {'name': ' Vera Rubin', 'age': 89},\n",
       " {'name': 'Sally Ride', 'age': 66})"
      ]
     },
     "execution_count": 42,
     "metadata": {},
     "output_type": "execute_result"
    }
   ],
   "source": [
    "names_and_ages"
   ]
  },
  {
   "cell_type": "code",
   "execution_count": 43,
   "metadata": {
    "ExecuteTime": {
     "end_time": "2021-03-19T23:48:23.805749Z",
     "start_time": "2021-03-19T23:48:23.801848Z"
    }
   },
   "outputs": [
    {
     "name": "stdout",
     "output_type": "stream",
     "text": [
      "({'age': 202, 'name': ' Ada Lovelace'},\n",
      " {'age': 135, 'name': ' Emmy Noether'},\n",
      " {'age': 150, 'name': 'Marie Curie'},\n",
      " {'age': 87, 'name': ' Tu-Youyou'},\n",
      " {'age': 78, 'name': ' Ada-Yonath'},\n",
      " {'age': 89, 'name': ' Vera Rubin'},\n",
      " {'age': 66, 'name': 'Sally Ride'})\n"
     ]
    }
   ],
   "source": [
    "pprint(names_and_ages)"
   ]
  },
  {
   "cell_type": "code",
   "execution_count": 44,
   "metadata": {
    "ExecuteTime": {
     "end_time": "2021-03-19T23:49:12.122306Z",
     "start_time": "2021-03-19T23:49:12.116049Z"
    }
   },
   "outputs": [
    {
     "data": {
      "text/plain": [
       "[{'name': ' Ada Lovelace', 'age': 202},\n",
       " {'name': ' Emmy Noether', 'age': 135},\n",
       " {'name': 'Marie Curie', 'age': 150},\n",
       " {'name': ' Tu-Youyou', 'age': 87},\n",
       " {'name': ' Ada-Yonath', 'age': 78},\n",
       " {'name': ' Vera Rubin', 'age': 89},\n",
       " {'name': 'Sally Ride', 'age': 66}]"
      ]
     },
     "execution_count": 44,
     "metadata": {},
     "output_type": "execute_result"
    }
   ],
   "source": [
    "# list comprehension\n",
    "[{'name': x.name, 'age': 2017 - x.born} for x in scientists]"
   ]
  },
  {
   "cell_type": "code",
   "execution_count": 45,
   "metadata": {
    "ExecuteTime": {
     "end_time": "2021-03-19T23:49:53.565598Z",
     "start_time": "2021-03-19T23:49:53.559237Z"
    }
   },
   "outputs": [
    {
     "data": {
      "text/plain": [
       "({'name': ' Ada Lovelace', 'age': 202},\n",
       " {'name': ' Emmy Noether', 'age': 135},\n",
       " {'name': 'Marie Curie', 'age': 150},\n",
       " {'name': ' Tu-Youyou', 'age': 87},\n",
       " {'name': ' Ada-Yonath', 'age': 78},\n",
       " {'name': ' Vera Rubin', 'age': 89},\n",
       " {'name': 'Sally Ride', 'age': 66})"
      ]
     },
     "execution_count": 45,
     "metadata": {},
     "output_type": "execute_result"
    }
   ],
   "source": [
    "# generator\n",
    "tuple({'name': x.name, 'age': 2017 - x.born} for x in scientists)"
   ]
  },
  {
   "cell_type": "code",
   "execution_count": 46,
   "metadata": {
    "ExecuteTime": {
     "end_time": "2021-03-19T23:50:53.216762Z",
     "start_time": "2021-03-19T23:50:53.207061Z"
    }
   },
   "outputs": [
    {
     "data": {
      "text/plain": [
       "({'name': ' ADA LOVELACE', 'age': 202},\n",
       " {'name': ' EMMY NOETHER', 'age': 135},\n",
       " {'name': 'MARIE CURIE', 'age': 150},\n",
       " {'name': ' TU-YOUYOU', 'age': 87},\n",
       " {'name': ' ADA-YONATH', 'age': 78},\n",
       " {'name': ' VERA RUBIN', 'age': 89},\n",
       " {'name': 'SALLY RIDE', 'age': 66})"
      ]
     },
     "execution_count": 46,
     "metadata": {},
     "output_type": "execute_result"
    }
   ],
   "source": [
    "tuple({'name': x.name.upper(), 'age': 2017 - x.born} for x in scientists)"
   ]
  },
  {
   "cell_type": "markdown",
   "metadata": {},
   "source": [
    "## The `reduce()` Function"
   ]
  },
  {
   "cell_type": "code",
   "execution_count": 47,
   "metadata": {
    "ExecuteTime": {
     "end_time": "2021-03-19T23:52:32.534953Z",
     "start_time": "2021-03-19T23:52:32.531702Z"
    }
   },
   "outputs": [],
   "source": [
    "from functools import reduce"
   ]
  },
  {
   "cell_type": "code",
   "execution_count": 48,
   "metadata": {
    "ExecuteTime": {
     "end_time": "2021-03-19T23:53:04.529742Z",
     "start_time": "2021-03-19T23:53:04.525242Z"
    }
   },
   "outputs": [],
   "source": [
    "names_and_ages = tuple({'name': x.name.upper(), 'age': 2017 - x.born} for x in scientists)"
   ]
  },
  {
   "cell_type": "code",
   "execution_count": 50,
   "metadata": {
    "ExecuteTime": {
     "end_time": "2021-03-19T23:53:20.410750Z",
     "start_time": "2021-03-19T23:53:20.406859Z"
    }
   },
   "outputs": [
    {
     "name": "stdout",
     "output_type": "stream",
     "text": [
      "({'age': 202, 'name': ' ADA LOVELACE'},\n",
      " {'age': 135, 'name': ' EMMY NOETHER'},\n",
      " {'age': 150, 'name': 'MARIE CURIE'},\n",
      " {'age': 87, 'name': ' TU-YOUYOU'},\n",
      " {'age': 78, 'name': ' ADA-YONATH'},\n",
      " {'age': 89, 'name': ' VERA RUBIN'},\n",
      " {'age': 66, 'name': 'SALLY RIDE'})\n"
     ]
    }
   ],
   "source": [
    "pprint(names_and_ages)"
   ]
  },
  {
   "cell_type": "code",
   "execution_count": 52,
   "metadata": {
    "ExecuteTime": {
     "end_time": "2021-03-19T23:54:32.202191Z",
     "start_time": "2021-03-19T23:54:32.196421Z"
    }
   },
   "outputs": [
    {
     "data": {
      "text/plain": [
       "807"
      ]
     },
     "execution_count": 52,
     "metadata": {},
     "output_type": "execute_result"
    }
   ],
   "source": [
    "total_age = reduce(lambda acc, val: acc + val['age'], names_and_ages, 0)\n",
    "total_age"
   ]
  },
  {
   "cell_type": "code",
   "execution_count": 53,
   "metadata": {
    "ExecuteTime": {
     "end_time": "2021-03-19T23:55:11.507769Z",
     "start_time": "2021-03-19T23:55:11.499953Z"
    }
   },
   "outputs": [
    {
     "data": {
      "text/plain": [
       "807"
      ]
     },
     "execution_count": 53,
     "metadata": {},
     "output_type": "execute_result"
    }
   ],
   "source": [
    "sum(x['age'] for x in names_and_ages)"
   ]
  },
  {
   "cell_type": "code",
   "execution_count": 54,
   "metadata": {
    "ExecuteTime": {
     "end_time": "2021-03-19T23:56:30.181736Z",
     "start_time": "2021-03-19T23:56:30.177973Z"
    }
   },
   "outputs": [],
   "source": [
    "def reducer(acc, val):\n",
    "    acc[val.field].append(val.name)\n",
    "    return acc"
   ]
  },
  {
   "cell_type": "code",
   "execution_count": 60,
   "metadata": {
    "ExecuteTime": {
     "end_time": "2021-03-20T00:04:09.177427Z",
     "start_time": "2021-03-20T00:04:09.172811Z"
    }
   },
   "outputs": [],
   "source": [
    "scientists_by_field = reduce(reducer, scientists, {'math': [], 'physics': [], 'chemistry': [], 'astronomy': []})"
   ]
  },
  {
   "cell_type": "code",
   "execution_count": 61,
   "metadata": {
    "ExecuteTime": {
     "end_time": "2021-03-20T00:04:18.528708Z",
     "start_time": "2021-03-20T00:04:18.525056Z"
    }
   },
   "outputs": [
    {
     "name": "stdout",
     "output_type": "stream",
     "text": [
      "{'astronomy': [' Vera Rubin'],\n",
      " 'chemistry': [' Tu-Youyou', ' Ada-Yonath'],\n",
      " 'math': [' Ada Lovelace', ' Emmy Noether'],\n",
      " 'physics': ['Marie Curie', 'Sally Ride']}\n"
     ]
    }
   ],
   "source": [
    "pprint(scientists_by_field)"
   ]
  },
  {
   "cell_type": "code",
   "execution_count": 62,
   "metadata": {
    "ExecuteTime": {
     "end_time": "2021-03-20T00:04:21.988504Z",
     "start_time": "2021-03-20T00:04:21.985225Z"
    }
   },
   "outputs": [],
   "source": [
    "import collections\n",
    "scientists_by_field = reduce(reducer, scientists, collections.defaultdict(list))"
   ]
  },
  {
   "cell_type": "code",
   "execution_count": 63,
   "metadata": {
    "ExecuteTime": {
     "end_time": "2021-03-20T00:04:22.489938Z",
     "start_time": "2021-03-20T00:04:22.485838Z"
    }
   },
   "outputs": [
    {
     "name": "stdout",
     "output_type": "stream",
     "text": [
      "defaultdict(<class 'list'>,\n",
      "            {'astronomy': [' Vera Rubin'],\n",
      "             'chemistry': [' Tu-Youyou', ' Ada-Yonath'],\n",
      "             'math': [' Ada Lovelace', ' Emmy Noether'],\n",
      "             'physics': ['Marie Curie', 'Sally Ride']})\n"
     ]
    }
   ],
   "source": [
    "pprint(scientists_by_field)"
   ]
  },
  {
   "cell_type": "markdown",
   "metadata": {},
   "source": [
    "defaultdict"
   ]
  },
  {
   "cell_type": "code",
   "execution_count": 64,
   "metadata": {
    "ExecuteTime": {
     "end_time": "2021-03-20T00:04:56.786002Z",
     "start_time": "2021-03-20T00:04:56.783030Z"
    }
   },
   "outputs": [],
   "source": [
    "dd = collections.defaultdict(list)"
   ]
  },
  {
   "cell_type": "code",
   "execution_count": 65,
   "metadata": {
    "ExecuteTime": {
     "end_time": "2021-03-20T00:05:02.574525Z",
     "start_time": "2021-03-20T00:05:02.566131Z"
    }
   },
   "outputs": [
    {
     "data": {
      "text/plain": [
       "defaultdict(list, {})"
      ]
     },
     "execution_count": 65,
     "metadata": {},
     "output_type": "execute_result"
    }
   ],
   "source": [
    "dd"
   ]
  },
  {
   "cell_type": "code",
   "execution_count": 66,
   "metadata": {
    "ExecuteTime": {
     "end_time": "2021-03-20T00:05:38.088699Z",
     "start_time": "2021-03-20T00:05:38.081619Z"
    }
   },
   "outputs": [
    {
     "data": {
      "text/plain": [
       "[]"
      ]
     },
     "execution_count": 66,
     "metadata": {},
     "output_type": "execute_result"
    }
   ],
   "source": [
    "dd['doesnetexist']"
   ]
  },
  {
   "cell_type": "code",
   "execution_count": 67,
   "metadata": {
    "ExecuteTime": {
     "end_time": "2021-03-20T00:05:46.196754Z",
     "start_time": "2021-03-20T00:05:46.192428Z"
    }
   },
   "outputs": [
    {
     "data": {
      "text/plain": [
       "defaultdict(list, {'doesnetexist': []})"
      ]
     },
     "execution_count": 67,
     "metadata": {},
     "output_type": "execute_result"
    }
   ],
   "source": [
    "dd"
   ]
  },
  {
   "cell_type": "code",
   "execution_count": 68,
   "metadata": {
    "ExecuteTime": {
     "end_time": "2021-03-20T00:06:03.201711Z",
     "start_time": "2021-03-20T00:06:03.197527Z"
    }
   },
   "outputs": [
    {
     "data": {
      "text/plain": [
       "[]"
      ]
     },
     "execution_count": 68,
     "metadata": {},
     "output_type": "execute_result"
    }
   ],
   "source": [
    "dd['doesnetexist---2']"
   ]
  },
  {
   "cell_type": "code",
   "execution_count": 69,
   "metadata": {
    "ExecuteTime": {
     "end_time": "2021-03-20T00:06:14.229100Z",
     "start_time": "2021-03-20T00:06:14.224762Z"
    }
   },
   "outputs": [
    {
     "data": {
      "text/plain": [
       "defaultdict(list, {'doesnetexist': [], 'doesnetexist---2': []})"
      ]
     },
     "execution_count": 69,
     "metadata": {},
     "output_type": "execute_result"
    }
   ],
   "source": [
    "dd"
   ]
  },
  {
   "cell_type": "code",
   "execution_count": 70,
   "metadata": {
    "ExecuteTime": {
     "end_time": "2021-03-20T00:06:43.695655Z",
     "start_time": "2021-03-20T00:06:43.692208Z"
    }
   },
   "outputs": [],
   "source": [
    "dd['xyz'].append(1)"
   ]
  },
  {
   "cell_type": "code",
   "execution_count": 71,
   "metadata": {
    "ExecuteTime": {
     "end_time": "2021-03-20T00:06:53.152716Z",
     "start_time": "2021-03-20T00:06:53.149576Z"
    }
   },
   "outputs": [],
   "source": [
    "dd['xyz'].append(2)"
   ]
  },
  {
   "cell_type": "code",
   "execution_count": 72,
   "metadata": {
    "ExecuteTime": {
     "end_time": "2021-03-20T00:07:03.565265Z",
     "start_time": "2021-03-20T00:07:03.562307Z"
    }
   },
   "outputs": [],
   "source": [
    "dd['xyz'].append(3)"
   ]
  },
  {
   "cell_type": "code",
   "execution_count": 73,
   "metadata": {
    "ExecuteTime": {
     "end_time": "2021-03-20T00:07:08.282864Z",
     "start_time": "2021-03-20T00:07:08.278166Z"
    }
   },
   "outputs": [
    {
     "data": {
      "text/plain": [
       "defaultdict(list,\n",
       "            {'doesnetexist': [], 'doesnetexist---2': [], 'xyz': [1, 2, 3]})"
      ]
     },
     "execution_count": 73,
     "metadata": {},
     "output_type": "execute_result"
    }
   ],
   "source": [
    "dd"
   ]
  },
  {
   "cell_type": "code",
   "execution_count": 74,
   "metadata": {
    "ExecuteTime": {
     "end_time": "2021-03-20T00:07:47.882226Z",
     "start_time": "2021-03-20T00:07:47.879248Z"
    }
   },
   "outputs": [],
   "source": [
    "import itertools"
   ]
  },
  {
   "cell_type": "code",
   "execution_count": 75,
   "metadata": {
    "ExecuteTime": {
     "end_time": "2021-03-20T00:09:20.054705Z",
     "start_time": "2021-03-20T00:09:20.047848Z"
    }
   },
   "outputs": [],
   "source": [
    "scientists_by_field5 = {item[0]: list(item[1]) for item in itertools.groupby(scientists, lambda x: x.field)}"
   ]
  },
  {
   "cell_type": "code",
   "execution_count": 76,
   "metadata": {
    "ExecuteTime": {
     "end_time": "2021-03-20T00:09:39.863422Z",
     "start_time": "2021-03-20T00:09:39.858481Z"
    }
   },
   "outputs": [
    {
     "data": {
      "text/plain": [
       "{'math': [Scientist(name=' Ada Lovelace', field='math', born=1815, nobel=False),\n",
       "  Scientist(name=' Emmy Noether', field='math', born=1882, nobel=False)],\n",
       " 'physics': [Scientist(name='Sally Ride', field='physics', born=1951, nobel=False)],\n",
       " 'chemistry': [Scientist(name=' Tu-Youyou', field='chemistry', born=1930, nobel=True),\n",
       "  Scientist(name=' Ada-Yonath', field='chemistry', born=1939, nobel=True)],\n",
       " 'astronomy': [Scientist(name=' Vera Rubin', field='astronomy', born=1928, nobel=False)]}"
      ]
     },
     "execution_count": 76,
     "metadata": {},
     "output_type": "execute_result"
    }
   ],
   "source": [
    "scientists_by_field5"
   ]
  },
  {
   "cell_type": "code",
   "execution_count": 77,
   "metadata": {
    "ExecuteTime": {
     "end_time": "2021-03-20T00:12:43.908065Z",
     "start_time": "2021-03-20T00:12:43.901138Z"
    }
   },
   "outputs": [],
   "source": [
    "# lambda function for fun\n",
    "import functools\n",
    "scientists_by_field = functools.reduce(lambda acc, val:{**acc, **{val.field: acc[val.field] + [val.name]}}, scientists, {'math': [], 'physics': [], 'chemistry': [], 'astronomy': []})"
   ]
  },
  {
   "cell_type": "code",
   "execution_count": 78,
   "metadata": {
    "ExecuteTime": {
     "end_time": "2021-03-20T00:12:52.124841Z",
     "start_time": "2021-03-20T00:12:52.120338Z"
    }
   },
   "outputs": [
    {
     "name": "stdout",
     "output_type": "stream",
     "text": [
      "{'astronomy': [' Vera Rubin'],\n",
      " 'chemistry': [' Tu-Youyou', ' Ada-Yonath'],\n",
      " 'math': [' Ada Lovelace', ' Emmy Noether'],\n",
      " 'physics': ['Marie Curie', 'Sally Ride']}\n"
     ]
    }
   ],
   "source": [
    "pprint(scientists_by_field)"
   ]
  }
 ],
 "metadata": {
  "kernelspec": {
   "display_name": "Python 3.8.5 64-bit ('anaconda3': virtualenv)",
   "language": "python",
   "name": "python385jvsc74a57bd0938701773c18e3ce2c60181a27e2521bd97432b6c3184b81d58699fd76760877"
  },
  "language_info": {
   "codemirror_mode": {
    "name": "ipython",
    "version": 3
   },
   "file_extension": ".py",
   "mimetype": "text/x-python",
   "name": "python",
   "nbconvert_exporter": "python",
   "pygments_lexer": "ipython3",
   "version": "3.8.5"
  },
  "toc": {
   "base_numbering": 1,
   "nav_menu": {},
   "number_sections": true,
   "sideBar": true,
   "skip_h1_title": false,
   "title_cell": "Table of Contents",
   "title_sidebar": "Contents",
   "toc_cell": false,
   "toc_position": {},
   "toc_section_display": true,
   "toc_window_display": false
  },
  "varInspector": {
   "cols": {
    "lenName": 16,
    "lenType": 16,
    "lenVar": 40
   },
   "kernels_config": {
    "python": {
     "delete_cmd_postfix": "",
     "delete_cmd_prefix": "del ",
     "library": "var_list.py",
     "varRefreshCmd": "print(var_dic_list())"
    },
    "r": {
     "delete_cmd_postfix": ") ",
     "delete_cmd_prefix": "rm(",
     "library": "var_list.r",
     "varRefreshCmd": "cat(var_dic_list()) "
    }
   },
   "types_to_exclude": [
    "module",
    "function",
    "builtin_function_or_method",
    "instance",
    "_Feature"
   ],
   "window_display": false
  }
 },
 "nbformat": 4,
 "nbformat_minor": 4
}
