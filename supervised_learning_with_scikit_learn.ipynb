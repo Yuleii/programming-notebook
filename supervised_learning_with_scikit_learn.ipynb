{
 "cells": [
  {
   "cell_type": "markdown",
   "metadata": {
    "toc": true
   },
   "source": [
    "<h1>Table of Contents<span class=\"tocSkip\"></span></h1>\n",
    "<div class=\"toc\"><ul class=\"toc-item\"><li><span><a href=\"#Classification\" data-toc-modified-id=\"Classification-1\"><span class=\"toc-item-num\">1&nbsp;&nbsp;</span>Classification</a></span><ul class=\"toc-item\"><li><span><a href=\"#Supervised-learning\" data-toc-modified-id=\"Supervised-learning-1.1\"><span class=\"toc-item-num\">1.1&nbsp;&nbsp;</span>Supervised learning</a></span><ul class=\"toc-item\"><li><span><a href=\"#Unsupervised-learning:-Uses-unlabeled-data\" data-toc-modified-id=\"Unsupervised-learning:-Uses-unlabeled-data-1.1.1\"><span class=\"toc-item-num\">1.1.1&nbsp;&nbsp;</span>Unsupervised learning: Uses unlabeled data</a></span></li><li><span><a href=\"#Reinforcement-learning\" data-toc-modified-id=\"Reinforcement-learning-1.1.2\"><span class=\"toc-item-num\">1.1.2&nbsp;&nbsp;</span>Reinforcement learning</a></span></li><li><span><a href=\"#Supervised-learning\" data-toc-modified-id=\"Supervised-learning-1.1.3\"><span class=\"toc-item-num\">1.1.3&nbsp;&nbsp;</span>Supervised learning</a></span></li><li><span><a href=\"#Naming-conventions\" data-toc-modified-id=\"Naming-conventions-1.1.4\"><span class=\"toc-item-num\">1.1.4&nbsp;&nbsp;</span>Naming conventions</a></span></li><li><span><a href=\"#Supervised-learning-in-Python\" data-toc-modified-id=\"Supervised-learning-in-Python-1.1.5\"><span class=\"toc-item-num\">1.1.5&nbsp;&nbsp;</span>Supervised learning in Python</a></span></li></ul></li><li><span><a href=\"#Exploratory-data-analysis\" data-toc-modified-id=\"Exploratory-data-analysis-1.2\"><span class=\"toc-item-num\">1.2&nbsp;&nbsp;</span>Exploratory data analysis</a></span><ul class=\"toc-item\"><li><span><a href=\"#The-Iris-dataset\" data-toc-modified-id=\"The-Iris-dataset-1.2.1\"><span class=\"toc-item-num\">1.2.1&nbsp;&nbsp;</span>The Iris dataset</a></span></li><li><span><a href=\"#The-Iris-dataset-in-scikit-learn\" data-toc-modified-id=\"The-Iris-dataset-in-scikit-learn-1.2.2\"><span class=\"toc-item-num\">1.2.2&nbsp;&nbsp;</span>The Iris dataset in scikit-learn</a></span></li><li><span><a href=\"#Exploratory-data-analysis-(EDA)\" data-toc-modified-id=\"Exploratory-data-analysis-(EDA)-1.2.3\"><span class=\"toc-item-num\">1.2.3&nbsp;&nbsp;</span>Exploratory data analysis (EDA)</a></span></li><li><span><a href=\"#Visual-EDA\" data-toc-modified-id=\"Visual-EDA-1.2.4\"><span class=\"toc-item-num\">1.2.4&nbsp;&nbsp;</span>Visual EDA</a></span></li></ul></li><li><span><a href=\"#The-classification-challenge\" data-toc-modified-id=\"The-classification-challenge-1.3\"><span class=\"toc-item-num\">1.3&nbsp;&nbsp;</span>The classification challenge</a></span><ul class=\"toc-item\"><li><span><a href=\"#k-Nearest-Neighbors\" data-toc-modified-id=\"k-Nearest-Neighbors-1.3.1\"><span class=\"toc-item-num\">1.3.1&nbsp;&nbsp;</span>k-Nearest Neighbors</a></span></li><li><span><a href=\"#Scikit-learn-fit-and-predict\" data-toc-modified-id=\"Scikit-learn-fit-and-predict-1.3.2\"><span class=\"toc-item-num\">1.3.2&nbsp;&nbsp;</span>Scikit-learn fit and predict</a></span></li><li><span><a href=\"#Using-scikit-learn-to-fit-a-classifier\" data-toc-modified-id=\"Using-scikit-learn-to-fit-a-classifier-1.3.3\"><span class=\"toc-item-num\">1.3.3&nbsp;&nbsp;</span>Using scikit-learn to fit a classifier</a></span></li><li><span><a href=\"#Predicting-on-unlabeled-data`\" data-toc-modified-id=\"Predicting-on-unlabeled-data`-1.3.4\"><span class=\"toc-item-num\">1.3.4&nbsp;&nbsp;</span>Predicting on unlabeled data`</a></span></li></ul></li><li><span><a href=\"#Measuring-model-performance\" data-toc-modified-id=\"Measuring-model-performance-1.4\"><span class=\"toc-item-num\">1.4&nbsp;&nbsp;</span>Measuring model performance</a></span><ul class=\"toc-item\"><li><span><a href=\"#Measuring-model-performance\" data-toc-modified-id=\"Measuring-model-performance-1.4.1\"><span class=\"toc-item-num\">1.4.1&nbsp;&nbsp;</span>Measuring model performance</a></span></li><li><span><a href=\"#Train/test-split\" data-toc-modified-id=\"Train/test-split-1.4.2\"><span class=\"toc-item-num\">1.4.2&nbsp;&nbsp;</span>Train/test split</a></span></li><li><span><a href=\"#Model-complexity\" data-toc-modified-id=\"Model-complexity-1.4.3\"><span class=\"toc-item-num\">1.4.3&nbsp;&nbsp;</span>Model complexity</a></span></li><li><span><a href=\"#Exercise:-The-digits-recognition-dataset\" data-toc-modified-id=\"Exercise:-The-digits-recognition-dataset-1.4.4\"><span class=\"toc-item-num\">1.4.4&nbsp;&nbsp;</span>Exercise: The digits recognition dataset</a></span></li></ul></li></ul></li><li><span><a href=\"#Regression\" data-toc-modified-id=\"Regression-2\"><span class=\"toc-item-num\">2&nbsp;&nbsp;</span>Regression</a></span><ul class=\"toc-item\"><li><span><a href=\"#Introduction-to-regression\" data-toc-modified-id=\"Introduction-to-regression-2.1\"><span class=\"toc-item-num\">2.1&nbsp;&nbsp;</span>Introduction to regression</a></span><ul class=\"toc-item\"><li><span><a href=\"#Boston-housing-data\" data-toc-modified-id=\"Boston-housing-data-2.1.1\"><span class=\"toc-item-num\">2.1.1&nbsp;&nbsp;</span>Boston housing data</a></span></li><li><span><a href=\"#Creating-feature-and-target-arrays\" data-toc-modified-id=\"Creating-feature-and-target-arrays-2.1.2\"><span class=\"toc-item-num\">2.1.2&nbsp;&nbsp;</span>Creating feature and target arrays</a></span></li><li><span><a href=\"#Predicting-house-value-from-a-single-feature\" data-toc-modified-id=\"Predicting-house-value-from-a-single-feature-2.1.3\"><span class=\"toc-item-num\">2.1.3&nbsp;&nbsp;</span>Predicting house value from a single feature</a></span></li><li><span><a href=\"#Plotting-house-value-vs.-number-of-rooms\" data-toc-modified-id=\"Plotting-house-value-vs.-number-of-rooms-2.1.4\"><span class=\"toc-item-num\">2.1.4&nbsp;&nbsp;</span>Plotting house value vs. number of rooms</a></span></li><li><span><a href=\"#Fitting-a-regression-model\" data-toc-modified-id=\"Fitting-a-regression-model-2.1.5\"><span class=\"toc-item-num\">2.1.5&nbsp;&nbsp;</span>Fitting a regression model</a></span></li></ul></li><li><span><a href=\"#The-basics-of-linear-regression\" data-toc-modified-id=\"The-basics-of-linear-regression-2.2\"><span class=\"toc-item-num\">2.2&nbsp;&nbsp;</span>The basics of linear regression</a></span><ul class=\"toc-item\"><li><span><a href=\"#Regression-mechanics\" data-toc-modified-id=\"Regression-mechanics-2.2.1\"><span class=\"toc-item-num\">2.2.1&nbsp;&nbsp;</span>Regression mechanics</a></span></li><li><span><a href=\"#The-loss-function\" data-toc-modified-id=\"The-loss-function-2.2.2\"><span class=\"toc-item-num\">2.2.2&nbsp;&nbsp;</span>The loss function</a></span></li><li><span><a href=\"#Linear-regression-in-higher-dimensions\" data-toc-modified-id=\"Linear-regression-in-higher-dimensions-2.2.3\"><span class=\"toc-item-num\">2.2.3&nbsp;&nbsp;</span>Linear regression in higher dimensions</a></span></li><li><span><a href=\"#Linear-regression-on-all-features\" data-toc-modified-id=\"Linear-regression-on-all-features-2.2.4\"><span class=\"toc-item-num\">2.2.4&nbsp;&nbsp;</span>Linear regression on all features</a></span></li></ul></li><li><span><a href=\"#Cross-validation\" data-toc-modified-id=\"Cross-validation-2.3\"><span class=\"toc-item-num\">2.3&nbsp;&nbsp;</span>Cross-validation</a></span><ul class=\"toc-item\"><li><span><a href=\"#Cross-validation-motivation\" data-toc-modified-id=\"Cross-validation-motivation-2.3.1\"><span class=\"toc-item-num\">2.3.1&nbsp;&nbsp;</span>Cross-validation motivation</a></span></li><li><span><a href=\"#Cross-validation-and-model-performance\" data-toc-modified-id=\"Cross-validation-and-model-performance-2.3.2\"><span class=\"toc-item-num\">2.3.2&nbsp;&nbsp;</span>Cross-validation and model performance</a></span></li><li><span><a href=\"#Cross-validation-in-scikit-learn\" data-toc-modified-id=\"Cross-validation-in-scikit-learn-2.3.3\"><span class=\"toc-item-num\">2.3.3&nbsp;&nbsp;</span>Cross-validation in scikit-learn</a></span></li></ul></li><li><span><a href=\"#Regularized-regression\" data-toc-modified-id=\"Regularized-regression-2.4\"><span class=\"toc-item-num\">2.4&nbsp;&nbsp;</span>Regularized regression</a></span><ul class=\"toc-item\"><li><span><a href=\"#Ridge-regression\" data-toc-modified-id=\"Ridge-regression-2.4.1\"><span class=\"toc-item-num\">2.4.1&nbsp;&nbsp;</span>Ridge regression</a></span></li><li><span><a href=\"#Lasso-regression\" data-toc-modified-id=\"Lasso-regression-2.4.2\"><span class=\"toc-item-num\">2.4.2&nbsp;&nbsp;</span>Lasso regression</a></span></li><li><span><a href=\"#Lasso-regression-for-feature-selection\" data-toc-modified-id=\"Lasso-regression-for-feature-selection-2.4.3\"><span class=\"toc-item-num\">2.4.3&nbsp;&nbsp;</span>Lasso regression for feature selection</a></span></li></ul></li></ul></li><li><span><a href=\"#Fine-tuning-your-model\" data-toc-modified-id=\"Fine-tuning-your-model-3\"><span class=\"toc-item-num\">3&nbsp;&nbsp;</span>Fine-tuning your model</a></span><ul class=\"toc-item\"><li><span><a href=\"#How-good-is-your-model?\" data-toc-modified-id=\"How-good-is-your-model?-3.1\"><span class=\"toc-item-num\">3.1&nbsp;&nbsp;</span>How good is your model?</a></span><ul class=\"toc-item\"><li><span><a href=\"#Classification-metrics\" data-toc-modified-id=\"Classification-metrics-3.1.1\"><span class=\"toc-item-num\">3.1.1&nbsp;&nbsp;</span>Classification metrics</a></span></li><li><span><a href=\"#Class-imbalance-example:-Emails\" data-toc-modified-id=\"Class-imbalance-example:-Emails-3.1.2\"><span class=\"toc-item-num\">3.1.2&nbsp;&nbsp;</span>Class imbalance example: Emails</a></span></li><li><span><a href=\"#Diagnosing-classification-predictions\" data-toc-modified-id=\"Diagnosing-classification-predictions-3.1.3\"><span class=\"toc-item-num\">3.1.3&nbsp;&nbsp;</span>Diagnosing classification predictions</a></span></li><li><span><a href=\"#Metrics-from-the-confusion-matrix\" data-toc-modified-id=\"Metrics-from-the-confusion-matrix-3.1.4\"><span class=\"toc-item-num\">3.1.4&nbsp;&nbsp;</span>Metrics from the confusion matrix</a></span></li></ul></li><li><span><a href=\"#Logistic-regression-and-the-ROC-curve\" data-toc-modified-id=\"Logistic-regression-and-the-ROC-curve-3.2\"><span class=\"toc-item-num\">3.2&nbsp;&nbsp;</span>Logistic regression and the ROC curve</a></span><ul class=\"toc-item\"><li><span><a href=\"#Logistic-regression-for-binary-classification\" data-toc-modified-id=\"Logistic-regression-for-binary-classification-3.2.1\"><span class=\"toc-item-num\">3.2.1&nbsp;&nbsp;</span>Logistic regression for binary classification</a></span></li><li><span><a href=\"#Probability-thresholds\" data-toc-modified-id=\"Probability-thresholds-3.2.2\"><span class=\"toc-item-num\">3.2.2&nbsp;&nbsp;</span>Probability thresholds</a></span></li><li><span><a href=\"#Plotting-the-ROC-curve\" data-toc-modified-id=\"Plotting-the-ROC-curve-3.2.3\"><span class=\"toc-item-num\">3.2.3&nbsp;&nbsp;</span>Plotting the ROC curve</a></span></li></ul></li></ul></li></ul></div>"
   ]
  },
  {
   "cell_type": "markdown",
   "metadata": {},
   "source": [
    "# Classification"
   ]
  },
  {
   "cell_type": "markdown",
   "metadata": {},
   "source": [
    "## Supervised learning"
   ]
  },
  {
   "cell_type": "markdown",
   "metadata": {},
   "source": [
    "### Unsupervised learning: Uses unlabeled data\n",
    "\n",
    "- Uncovering hidden patterns from unlabeled data\n",
    "- Example:\n",
    "    - Grouping customers into distinct categories (Clustering)"
   ]
  },
  {
   "cell_type": "markdown",
   "metadata": {},
   "source": [
    "### Reinforcement learning\n",
    "\n",
    "- Software agents interact with an environment\n",
    "    - Learn how to optimize their behavior\n",
    "    - Given a system of rewards and punishments \n",
    "    - Draws inspiration from behavioral psychology\n",
    "    \n",
    "- Applications\n",
    "    - Economics\n",
    "    - Genetics\n",
    "    - Game playing\n",
    "    \n",
    "- AlphaGo: First computer to defeat the world champion in Go"
   ]
  },
  {
   "cell_type": "markdown",
   "metadata": {},
   "source": [
    "### Supervised learning\n",
    "- Predictor variables/features and a target variable\n",
    "- Aim: Predict the target variable, given the predictor variables\n",
    "    - Classification: Target variable consists of categories\n",
    "    - Regression: Target variable is continuous"
   ]
  },
  {
   "cell_type": "markdown",
   "metadata": {},
   "source": [
    "### Naming conventions\n",
    "\n",
    "- Features = predictor variables = independent variables\n",
    "- Target variable = dependent variable = response variable"
   ]
  },
  {
   "cell_type": "markdown",
   "metadata": {},
   "source": [
    "### Supervised learning in Python\n",
    "- We will use scikit-learn/sklearn\n",
    "    - Integrates well with the SciPy stack\n",
    "    \n",
    "- Other libraries\n",
    "    - TensorFlow\n",
    "    - keras"
   ]
  },
  {
   "cell_type": "markdown",
   "metadata": {},
   "source": [
    "## Exploratory data analysis"
   ]
  },
  {
   "cell_type": "markdown",
   "metadata": {},
   "source": [
    "### The Iris dataset\n",
    "\n",
    "Features:\n",
    "- Petal length\n",
    "- Petal width\n",
    "- Sepal length\n",
    "- Sepal width\n",
    "\n",
    "Target variable: Species:\n",
    "- Versicolor\n",
    "- Virginica\n",
    "- Setosa"
   ]
  },
  {
   "cell_type": "markdown",
   "metadata": {},
   "source": [
    "### The Iris dataset in scikit-learn"
   ]
  },
  {
   "cell_type": "code",
   "execution_count": 2,
   "metadata": {},
   "outputs": [
    {
     "data": {
      "text/plain": [
       "sklearn.utils.Bunch"
      ]
     },
     "execution_count": 2,
     "metadata": {},
     "output_type": "execute_result"
    }
   ],
   "source": [
    "from sklearn import datasets\n",
    "import pandas as pd\n",
    "import numpy as np\n",
    "import matplotlib.pyplot as plt\n",
    "\n",
    "plt.style.use('ggplot') \n",
    "iris = datasets.load_iris() \n",
    "type(iris)"
   ]
  },
  {
   "cell_type": "code",
   "execution_count": 53,
   "metadata": {},
   "outputs": [
    {
     "name": "stdout",
     "output_type": "stream",
     "text": [
      "dict_keys(['data', 'target', 'target_names', 'DESCR', 'feature_names', 'filename'])\n"
     ]
    }
   ],
   "source": [
    "print(iris.keys())"
   ]
  },
  {
   "cell_type": "code",
   "execution_count": 54,
   "metadata": {},
   "outputs": [
    {
     "data": {
      "text/plain": [
       "(numpy.ndarray, numpy.ndarray)"
      ]
     },
     "execution_count": 54,
     "metadata": {},
     "output_type": "execute_result"
    }
   ],
   "source": [
    "type(iris.data), type(iris.target)"
   ]
  },
  {
   "cell_type": "code",
   "execution_count": 55,
   "metadata": {},
   "outputs": [
    {
     "data": {
      "text/plain": [
       "(150, 4)"
      ]
     },
     "execution_count": 55,
     "metadata": {},
     "output_type": "execute_result"
    }
   ],
   "source": [
    "iris.data.shape"
   ]
  },
  {
   "cell_type": "code",
   "execution_count": 56,
   "metadata": {},
   "outputs": [
    {
     "data": {
      "text/plain": [
       "array(['setosa', 'versicolor', 'virginica'], dtype='<U10')"
      ]
     },
     "execution_count": 56,
     "metadata": {},
     "output_type": "execute_result"
    }
   ],
   "source": [
    "iris.target_names"
   ]
  },
  {
   "cell_type": "markdown",
   "metadata": {},
   "source": [
    "### Exploratory data analysis (EDA)"
   ]
  },
  {
   "cell_type": "code",
   "execution_count": 57,
   "metadata": {},
   "outputs": [
    {
     "name": "stdout",
     "output_type": "stream",
     "text": [
      "   sepal length (cm)  sepal width (cm)  petal length (cm)  petal width (cm)\n",
      "0                5.1               3.5                1.4               0.2\n",
      "1                4.9               3.0                1.4               0.2\n",
      "2                4.7               3.2                1.3               0.2\n",
      "3                4.6               3.1                1.5               0.2\n",
      "4                5.0               3.6                1.4               0.2\n"
     ]
    }
   ],
   "source": [
    "X = iris.data\n",
    "y = iris.target\n",
    "df = pd.DataFrame(X, columns=iris.feature_names) \n",
    "print(df.head())"
   ]
  },
  {
   "cell_type": "markdown",
   "metadata": {},
   "source": [
    "### Visual EDA"
   ]
  },
  {
   "cell_type": "code",
   "execution_count": 58,
   "metadata": {},
   "outputs": [
    {
     "data": {
      "image/png": "[encoded data removed]",
      "text/plain": [
       "<Figure size 576x576 with 16 Axes>"
      ]
     },
     "metadata": {},
     "output_type": "display_data"
    }
   ],
   "source": [
    "_ = pd.plotting.scatter_matrix(df, c = y, figsize = [8, 8], s=150, marker = 'D')"
   ]
  },
  {
   "cell_type": "markdown",
   "metadata": {},
   "source": [
    "## The classification challenge"
   ]
  },
  {
   "cell_type": "markdown",
   "metadata": {},
   "source": [
    "### k-Nearest Neighbors\n",
    "\n",
    "- Basic idea: Predict the label of a data point by\n",
    "    - Looking at the ‘k’ closest labeled data points\n",
    "    - Taking a majority vote"
   ]
  },
  {
   "cell_type": "markdown",
   "metadata": {},
   "source": [
    "### Scikit-learn fit and predict\n",
    "\n",
    "- All machine learning models implemented as Python classes\n",
    "    - They implement the algorithms for learning and predicting\n",
    "    - Store the information learned from the data\n",
    "    \n",
    "- Training a model on the data = ‘\u0000tting’ a model to the data\n",
    "    - `.fit()` method\n",
    "    - To predict the labels of new data: `.predict()` method"
   ]
  },
  {
   "cell_type": "markdown",
   "metadata": {},
   "source": [
    "### Using scikit-learn to fit a classifier"
   ]
  },
  {
   "cell_type": "code",
   "execution_count": 59,
   "metadata": {},
   "outputs": [
    {
     "data": {
      "text/plain": [
       "KNeighborsClassifier(algorithm='auto', leaf_size=30, metric='minkowski',\n",
       "                     metric_params=None, n_jobs=None, n_neighbors=6, p=2,\n",
       "                     weights='uniform')"
      ]
     },
     "execution_count": 59,
     "metadata": {},
     "output_type": "execute_result"
    }
   ],
   "source": [
    "from sklearn.neighbors import KNeighborsClassifier \n",
    "knn = KNeighborsClassifier(n_neighbors=6) \n",
    "knn.fit(iris['data'], iris['target'])"
   ]
  },
  {
   "cell_type": "code",
   "execution_count": 60,
   "metadata": {},
   "outputs": [
    {
     "data": {
      "text/plain": [
       "(150, 4)"
      ]
     },
     "execution_count": 60,
     "metadata": {},
     "output_type": "execute_result"
    }
   ],
   "source": [
    "iris['data'].shape"
   ]
  },
  {
   "cell_type": "code",
   "execution_count": 61,
   "metadata": {},
   "outputs": [
    {
     "data": {
      "text/plain": [
       "(150,)"
      ]
     },
     "execution_count": 61,
     "metadata": {},
     "output_type": "execute_result"
    }
   ],
   "source": [
    "iris['target'].shape # targets needs to be a single column with the same # of observation as the feature data"
   ]
  },
  {
   "cell_type": "markdown",
   "metadata": {},
   "source": [
    "### Predicting on unlabeled data`"
   ]
  },
  {
   "cell_type": "code",
   "execution_count": 62,
   "metadata": {},
   "outputs": [
    {
     "data": {
      "text/plain": [
       "(3, 4)"
      ]
     },
     "execution_count": 62,
     "metadata": {},
     "output_type": "execute_result"
    }
   ],
   "source": [
    "X_new = np.array(\n",
    "[\n",
    "    [5.6, 2.8, 3.9, 1.1],\n",
    "    [5.7, 3.2, 3.8, 1.3],\n",
    "    [4.7, 3.2, 1.3, 0.2]\n",
    "])   # feature in columns and observation in rows\n",
    "prediction = knn.predict(X_new) \n",
    "X_new.shape # 3 obsevation and 4 colums"
   ]
  },
  {
   "cell_type": "code",
   "execution_count": 63,
   "metadata": {},
   "outputs": [
    {
     "name": "stdout",
     "output_type": "stream",
     "text": [
      "Prediction: [1 1 0]\n"
     ]
    }
   ],
   "source": [
    "print('Prediction: {}'.format(prediction))"
   ]
  },
  {
   "cell_type": "markdown",
   "metadata": {},
   "source": [
    "## Measuring model performance\n"
   ]
  },
  {
   "cell_type": "markdown",
   "metadata": {},
   "source": [
    "### Measuring model performance\n",
    "\n",
    "- In classification, accuracy is a commonly used metric\n",
    "- Accuracy = Fraction of correct predictions\n",
    "- Which data should be used to compute accuracy?\n",
    "- How well will the model perform on new data?\n",
    "\n",
    "\n",
    "- Could compute accuracy on data used to fit classifier\n",
    "- NOT indicative of ability to generalize\n",
    "- Split data into **training** and **test** set\n",
    "- Fit/train the classifier on the training set\n",
    "- Make predictions on test set\n",
    "- Compare predictions with the known labels"
   ]
  },
  {
   "cell_type": "markdown",
   "metadata": {},
   "source": [
    "### Train/test split"
   ]
  },
  {
   "cell_type": "code",
   "execution_count": 64,
   "metadata": {},
   "outputs": [
    {
     "name": "stdout",
     "output_type": "stream",
     "text": [
      "Test set predictions:\n",
      "[2 1 2 2 1 0 1 0 0 1 0 2 0 2 2 0 0 0 1 0 2 2 2 0 1 1 1 0 0 1 2 2 0 0 1 2 2\n",
      " 1 1 2 1 1 0 2 1]\n"
     ]
    }
   ],
   "source": [
    "from sklearn.model_selection import train_test_split\n",
    "\n",
    "# use train_test_split function to randomly split data\n",
    "# firast argument is feature data, the second the targets or labels\n",
    "# returns the training data, test data, training labels, test labels\n",
    "# by default split the data into 75% training data and 25% test data, we specify the size using the test_size \n",
    "# stratify=y:perform the split so that the split reflects the labels on your data, that is the labels to be distributed in train and test sets as they are in original dataset.\n",
    "X_train, X_test, y_train, y_test = train_test_split(X, y, test_size=0.3,\n",
    "    random_state=21, stratify=y) \n",
    "knn = KNeighborsClassifier(n_neighbors=8)\n",
    "knn.fit(X_train, y_train)\n",
    "y_pred = knn.predict(X_test)\n",
    "\n",
    "print(\"Test set predictions:\")\n",
    "print(y_pred)"
   ]
  },
  {
   "cell_type": "code",
   "execution_count": 65,
   "metadata": {},
   "outputs": [
    {
     "data": {
      "text/plain": [
       "0.9555555555555556"
      ]
     },
     "execution_count": 65,
     "metadata": {},
     "output_type": "execute_result"
    }
   ],
   "source": [
    "# check out accuracy of the model\n",
    "knn.score(X_test, y_test)"
   ]
  },
  {
   "cell_type": "markdown",
   "metadata": {},
   "source": [
    "### Model complexity\n",
    "\n",
    "- Larger k = smoother decision boundary = less complex model\n",
    "- Smaller k = more complex model = can lead to overfitting"
   ]
  },
  {
   "cell_type": "markdown",
   "metadata": {},
   "source": [
    "### Exercise: The digits recognition dataset"
   ]
  },
  {
   "cell_type": "code",
   "execution_count": 71,
   "metadata": {},
   "outputs": [
    {
     "name": "stdout",
     "output_type": "stream",
     "text": [
      "dict_keys(['data', 'target', 'target_names', 'images', 'DESCR'])\n",
      ".. _digits_dataset:\n",
      "\n",
      "Optical recognition of handwritten digits dataset\n",
      "--------------------------------------------------\n",
      "\n",
      "**Data Set Characteristics:**\n",
      "\n",
      "    :Number of Instances: 5620\n",
      "    :Number of Attributes: 64\n",
      "    :Attribute Information: 8x8 image of integer pixels in the range 0..16.\n",
      "    :Missing Attribute Values: None\n",
      "    :Creator: E. Alpaydin (alpaydin '@' boun.edu.tr)\n",
      "    :Date: July; 1998\n",
      "\n",
      "This is a copy of the test set of the UCI ML hand-written digits datasets\n",
      "https://archive.ics.uci.edu/ml/datasets/Optical+Recognition+of+Handwritten+Digits\n",
      "\n",
      "The data set contains images of hand-written digits: 10 classes where\n",
      "each class refers to a digit.\n",
      "\n",
      "Preprocessing programs made available by NIST were used to extract\n",
      "normalized bitmaps of handwritten digits from a preprinted form. From a\n",
      "total of 43 people, 30 contributed to the training set and different 13\n",
      "to the test set. 32x32 bitmaps are divided into nonoverlapping blocks of\n",
      "4x4 and the number of on pixels are counted in each block. This generates\n",
      "an input matrix of 8x8 where each element is an integer in the range\n",
      "0..16. This reduces dimensionality and gives invariance to small\n",
      "distortions.\n",
      "\n",
      "For info on NIST preprocessing routines, see M. D. Garris, J. L. Blue, G.\n",
      "T. Candela, D. L. Dimmick, J. Geist, P. J. Grother, S. A. Janet, and C.\n",
      "L. Wilson, NIST Form-Based Handprint Recognition System, NISTIR 5469,\n",
      "1994.\n",
      "\n",
      ".. topic:: References\n",
      "\n",
      "  - C. Kaynak (1995) Methods of Combining Multiple Classifiers and Their\n",
      "    Applications to Handwritten Digit Recognition, MSc Thesis, Institute of\n",
      "    Graduate Studies in Science and Engineering, Bogazici University.\n",
      "  - E. Alpaydin, C. Kaynak (1998) Cascading Classifiers, Kybernetika.\n",
      "  - Ken Tang and Ponnuthurai N. Suganthan and Xi Yao and A. Kai Qin.\n",
      "    Linear dimensionalityreduction using relevance weighted LDA. School of\n",
      "    Electrical and Electronic Engineering Nanyang Technological University.\n",
      "    2005.\n",
      "  - Claudio Gentile. A New Approximate Maximal Margin Classification\n",
      "    Algorithm. NIPS. 2000.\n",
      "(1797, 8, 8)\n",
      "(1797, 64)\n"
     ]
    },
    {
     "data": {
      "image/png": "[encoded data removed]",
      "text/plain": [
       "<Figure size 432x288 with 1 Axes>"
      ]
     },
     "metadata": {},
     "output_type": "display_data"
    }
   ],
   "source": [
    "# Import necessary modules\n",
    "from sklearn import datasets\n",
    "import matplotlib.pyplot as plt\n",
    "\n",
    "# Load the digits dataset: digits\n",
    "digits = datasets.load_digits()\n",
    "\n",
    "# Print the keys and DESCR of the dataset\n",
    "print(digits.keys())\n",
    "print(digits.DESCR)\n",
    "\n",
    "# Print the shape of the images and data keys\n",
    "print(digits.images.shape)\n",
    "print(digits.data.shape)\n",
    "\n",
    "# Display the 1011th image\n",
    "plt.imshow(digits.images[1010], cmap=plt.cm.gray_r, interpolation='nearest')\n",
    "plt.show()"
   ]
  },
  {
   "cell_type": "markdown",
   "metadata": {},
   "source": [
    "Train/Test Split + Fit/Predict/Accuracy"
   ]
  },
  {
   "cell_type": "code",
   "execution_count": 72,
   "metadata": {},
   "outputs": [
    {
     "name": "stdout",
     "output_type": "stream",
     "text": [
      "0.9833333333333333\n"
     ]
    }
   ],
   "source": [
    "# Import necessary modules\n",
    "from sklearn.neighbors import KNeighborsClassifier\n",
    "from sklearn.model_selection import train_test_split\n",
    "\n",
    "# Create feature and target arrays\n",
    "X = digits.data\n",
    "y = digits.target\n",
    "\n",
    "# Split into training and test set\n",
    "X_train, X_test, y_train, y_test = train_test_split(X, y, test_size = 0.2, random_state=42, stratify=y)\n",
    "\n",
    "# Create a k-NN classifier with 7 neighbors: knn\n",
    "knn = KNeighborsClassifier(n_neighbors=7)\n",
    "\n",
    "# Fit the classifier to the training data\n",
    "knn.fit(X_train, y_train)\n",
    "\n",
    "# Print the accuracy\n",
    "print(knn.score(X_test, y_test))"
   ]
  },
  {
   "cell_type": "markdown",
   "metadata": {},
   "source": [
    "Overfitting and underfitting\n",
    "\n",
    "In this exercise, you will compute and plot the training and testing accuracy scores for a variety of different neighbor values. By observing how the accuracy scores differ for the training and testing sets with different values of k, you will develop your intuition for overfitting and underfitting."
   ]
  },
  {
   "cell_type": "code",
   "execution_count": 73,
   "metadata": {},
   "outputs": [
    {
     "data": {
      "image/png": "[encoded data removed]",
      "text/plain": [
       "<Figure size 432x288 with 1 Axes>"
      ]
     },
     "metadata": {},
     "output_type": "display_data"
    }
   ],
   "source": [
    "# Setup arrays to store train and test accuracies\n",
    "neighbors = np.arange(1, 9)\n",
    "train_accuracy = np.empty(len(neighbors))\n",
    "test_accuracy = np.empty(len(neighbors))\n",
    "\n",
    "# Loop over different values of k\n",
    "for i, k in enumerate(neighbors):\n",
    "    # Setup a k-NN Classifier with k neighbors: knn\n",
    "    knn = KNeighborsClassifier(n_neighbors=k)\n",
    "\n",
    "    # Fit the classifier to the training data\n",
    "    knn.fit(X_train, y_train)\n",
    "    \n",
    "    #Compute accuracy on the training set\n",
    "    train_accuracy[i] = knn.score(X_train, y_train)\n",
    "\n",
    "    #Compute accuracy on the testing set\n",
    "    test_accuracy[i] = knn.score(X_test, y_test)\n",
    "\n",
    "# Generate plot\n",
    "plt.title('k-NN: Varying Number of Neighbors')\n",
    "plt.plot(neighbors, test_accuracy, label = 'Testing Accuracy')\n",
    "plt.plot(neighbors, train_accuracy, label = 'Training Accuracy')\n",
    "plt.legend()\n",
    "plt.xlabel('Number of Neighbors')\n",
    "plt.ylabel('Accuracy')\n",
    "plt.show()\n",
    "\n",
    "# It looks like the test accuracy is highest when using 3 and 5 neighbors. \n",
    "# Using 8 neighbors or more seems to result in a simple model that underfits the data. "
   ]
  },
  {
   "cell_type": "markdown",
   "metadata": {},
   "source": [
    "# Regression"
   ]
  },
  {
   "cell_type": "markdown",
   "metadata": {},
   "source": [
    "## Introduction to regression"
   ]
  },
  {
   "cell_type": "markdown",
   "metadata": {},
   "source": [
    "### Boston housing data"
   ]
  },
  {
   "cell_type": "code",
   "execution_count": 21,
   "metadata": {},
   "outputs": [
    {
     "name": "stdout",
     "output_type": "stream",
     "text": [
      "      CRIM    ZN  INDUS  CHAS    NOX     RM   AGE     DIS  RAD    TAX  \\\n",
      "0  0.00632  18.0   2.31   0.0  0.538  6.575  65.2  4.0900  1.0  296.0   \n",
      "1  0.02731   0.0   7.07   0.0  0.469  6.421  78.9  4.9671  2.0  242.0   \n",
      "2  0.02729   0.0   7.07   0.0  0.469  7.185  61.1  4.9671  2.0  242.0   \n",
      "3  0.03237   0.0   2.18   0.0  0.458  6.998  45.8  6.0622  3.0  222.0   \n",
      "4  0.06905   0.0   2.18   0.0  0.458  7.147  54.2  6.0622  3.0  222.0   \n",
      "\n",
      "   PTRATIO       B  LSTAT  MEDV  \n",
      "0     15.3  396.90   4.98  24.0  \n",
      "1     17.8  396.90   9.14  21.6  \n",
      "2     17.8  392.83   4.03  34.7  \n",
      "3     18.7  394.63   2.94  33.4  \n",
      "4     18.7  396.90   5.33  36.2  \n"
     ]
    }
   ],
   "source": [
    "from sklearn import datasets\n",
    "boston_data = datasets.load_boston()\n",
    "\n",
    "# change to dataframe \n",
    "boston = pd.DataFrame(boston_data.data, columns=boston_data.feature_names)\n",
    "boston['MEDV'] = pd.Series(boston_data.target)\n",
    "print(boston.head())"
   ]
  },
  {
   "cell_type": "markdown",
   "metadata": {},
   "source": [
    "### Creating feature and target arrays"
   ]
  },
  {
   "cell_type": "code",
   "execution_count": 22,
   "metadata": {},
   "outputs": [],
   "source": [
    "X = boston.drop('MEDV', axis=1).values\n",
    "y = boston['MEDV'].values"
   ]
  },
  {
   "cell_type": "markdown",
   "metadata": {},
   "source": [
    "### Predicting house value from a single feature"
   ]
  },
  {
   "cell_type": "code",
   "execution_count": 23,
   "metadata": {},
   "outputs": [
    {
     "data": {
      "text/plain": [
       "(numpy.ndarray, numpy.ndarray)"
      ]
     },
     "execution_count": 23,
     "metadata": {},
     "output_type": "execute_result"
    }
   ],
   "source": [
    "# single feature: the average num of romms in a block\n",
    "X_rooms = X[:,5] # fifth column\n",
    "# check type\n",
    "type(X_rooms), type(y)"
   ]
  },
  {
   "cell_type": "code",
   "execution_count": 24,
   "metadata": {},
   "outputs": [
    {
     "data": {
      "text/plain": [
       "(506, 1)"
      ]
     },
     "execution_count": 24,
     "metadata": {},
     "output_type": "execute_result"
    }
   ],
   "source": [
    "# Keep the first dimension, but add another dimension of size one to X,from (506,) to (506, 1)\n",
    "y = y.reshape(-1, 1)\n",
    "X_rooms = X_rooms.reshape(-1, 1) \n",
    "X_rooms.shape "
   ]
  },
  {
   "cell_type": "markdown",
   "metadata": {},
   "source": [
    "### Plotting house value vs. number of rooms"
   ]
  },
  {
   "cell_type": "code",
   "execution_count": 25,
   "metadata": {},
   "outputs": [
    {
     "data": {
      "image/png": "[encoded data removed]",
      "text/plain": [
       "<Figure size 432x288 with 1 Axes>"
      ]
     },
     "metadata": {
      "needs_background": "light"
     },
     "output_type": "display_data"
    }
   ],
   "source": [
    "plt.scatter(X_rooms, y) \n",
    "plt.ylabel('Value of house /1000 ($)') \n",
    "plt.xlabel('Number of rooms') \n",
    "plt.show();\n",
    "\n",
    "# more rooms leads to higher prices"
   ]
  },
  {
   "cell_type": "markdown",
   "metadata": {},
   "source": [
    "### Fitting a regression model"
   ]
  },
  {
   "cell_type": "code",
   "execution_count": 26,
   "metadata": {},
   "outputs": [],
   "source": [
    "import numpy as np\n",
    "from sklearn.linear_model import LinearRegression\n",
    "\n",
    "# instantiate LinearRegression as reg\n",
    "reg = LinearRegression()\n",
    "# fit regressor to the data\n",
    "reg.fit(X_rooms, y)\n",
    "# check out the regressors predictions over the range of the data by using np.linspace between the maximum\n",
    "# and minimum number of rooms and make prediction for this data\n",
    "prediction_space = np.linspace(min(X_rooms),\n",
    "    max(X_rooms)).reshape(-1, 1)"
   ]
  },
  {
   "cell_type": "code",
   "execution_count": 27,
   "metadata": {},
   "outputs": [
    {
     "data": {
      "image/png": "[encoded data removed]",
      "text/plain": [
       "<Figure size 432x288 with 1 Axes>"
      ]
     },
     "metadata": {
      "needs_background": "light"
     },
     "output_type": "display_data"
    }
   ],
   "source": [
    "plt.scatter(X_rooms, y, color='blue') \n",
    "plt.plot(prediction_space, reg.predict(prediction_space),\n",
    "    color='black', linewidth=3)\n",
    "plt.show()"
   ]
  },
  {
   "cell_type": "markdown",
   "metadata": {},
   "source": [
    "## The basics of linear regression"
   ]
  },
  {
   "cell_type": "markdown",
   "metadata": {},
   "source": [
    "### Regression mechanics\n",
    "\n",
    "- y = ax + b\n",
    "- x = single feature\n",
    "- a, b = parameters of model\n",
    "\n",
    "- How do we choose a and b?\n",
    "- Define an **error functions** for any given line\n",
    "    - Choose the line that minimizes the error function"
   ]
  },
  {
   "cell_type": "markdown",
   "metadata": {},
   "source": [
    "### The loss function\n",
    "\n",
    "Ordinary least squares(OLS): Minimize sum of squares of residuals"
   ]
  },
  {
   "cell_type": "markdown",
   "metadata": {},
   "source": [
    "### Linear regression in higher dimensions\n",
    "\n",
    "$y = a_1x_1 +a_2x_2 + b$\n",
    "\n",
    "- To fit a linear regression model here:\n",
    "    - Need to specify 3 variables\n",
    "    \n",
    "- In higher dimensions:\n",
    "    - Must specify coefficient for each feature and the variable b   \n",
    "       $y = a_1x_1 +a_2x_2 + a_3x_3+ \\dots +a_nx_n +b$\n",
    "       \n",
    "- Scikit-learn API works exactly the same way: \n",
    "    - Pass two arrays: Features, and target"
   ]
  },
  {
   "cell_type": "markdown",
   "metadata": {},
   "source": [
    "### Linear regression on all features"
   ]
  },
  {
   "cell_type": "code",
   "execution_count": 28,
   "metadata": {},
   "outputs": [
    {
     "data": {
      "text/plain": [
       "0.711226005748496"
      ]
     },
     "execution_count": 28,
     "metadata": {},
     "output_type": "execute_result"
    }
   ],
   "source": [
    "from sklearn.model_selection import train_test_split \n",
    "from sklearn.linear_model import LinearRegression\n",
    "\n",
    "X_train, X_test, y_train, y_test = train_test_split(X, y, test_size = 0.3, random_state=42)\n",
    "reg_all = LinearRegression()\n",
    "reg_all.fit(X_train, y_train) \n",
    "y_pred = reg_all.predict(X_test)\n",
    "reg_all.score(X_test, y_test)"
   ]
  },
  {
   "cell_type": "markdown",
   "metadata": {},
   "source": [
    "## Cross-validation\n",
    "Cross-validation is a vital step in evaluating a model. It maximizes the amount of data that is used to train the model, as during the course of training, the model is not only trained, but also tested on all of the available data."
   ]
  },
  {
   "cell_type": "markdown",
   "metadata": {},
   "source": [
    "### Cross-validation motivation\n",
    "\n",
    "- Model performance is dependent on way the data is split\n",
    "- Not representative of the model’s ability to generalize\n",
    "- Solution: Cross-validation!\n",
    "\n",
    "### Cross-validation and model performance\n",
    "- Cross-validation and model performance\n",
    "- 10 folds = 10-fold CV\n",
    "- k folds = k-fold CV\n",
    "- More folds = More computationally expensive"
   ]
  },
  {
   "cell_type": "markdown",
   "metadata": {},
   "source": [
    "### Cross-validation in scikit-learn"
   ]
  },
  {
   "cell_type": "code",
   "execution_count": 29,
   "metadata": {},
   "outputs": [
    {
     "name": "stdout",
     "output_type": "stream",
     "text": [
      "[ 0.63919994  0.71386698  0.58702344  0.07923081 -0.25294154]\n"
     ]
    }
   ],
   "source": [
    "from sklearn.model_selection import cross_val_score \n",
    "from sklearn.linear_model import LinearRegression\n",
    "\n",
    "# instantiate model\n",
    "reg = LinearRegression()\n",
    "# call cross val score with the regressor, the feature data and the target data as the first three positional argument \n",
    "# specify the numver of fold with cv\n",
    "cv_results = cross_val_score(reg, X, y, cv=5) \n",
    "# the length of the array is the number of folds utilized\n",
    "# note that the score reported is R square(default score for linear regression)\n",
    "print(cv_results)"
   ]
  },
  {
   "cell_type": "code",
   "execution_count": 30,
   "metadata": {},
   "outputs": [
    {
     "data": {
      "text/plain": [
       "0.3532759243958772"
      ]
     },
     "execution_count": 30,
     "metadata": {},
     "output_type": "execute_result"
    }
   ],
   "source": [
    "np.mean(cv_results)"
   ]
  },
  {
   "cell_type": "markdown",
   "metadata": {},
   "source": [
    "## Regularized regression\n",
    "\n",
    "[Linear least squares, Lasso,ridge regression有何本质区别?](https://www.zhihu.com/question/38121173)\n",
    "\n",
    "Why regularize?\n",
    "- Recall: Linear regression minimizes a loss function\n",
    "- It chooses a coefficient for each feature variable\n",
    "- Large coefficients can lead to overfitting\n",
    "- Penalizing large coefficients: Regularization"
   ]
  },
  {
   "cell_type": "markdown",
   "metadata": {},
   "source": [
    "### Ridge regression\n",
    "\n",
    "- Loss function = OLS loss function + $\\alpha * \\sum_{i=1}^n \\alpha_i^2$\n",
    "- Alpha: Parameter we need to choose\n",
    "- Picking alpha here is similar to picking k in k-NN\n",
    "- Hyperparameter tuning (More in Chapter 3)\n",
    "- Alpha controls model complexity\n",
    "    - Alpha = 0: We get back OLS (Can lead to overfitting)\n",
    "    - Very high alpha: Can lead to underfitting"
   ]
  },
  {
   "cell_type": "code",
   "execution_count": 37,
   "metadata": {},
   "outputs": [
    {
     "data": {
      "text/plain": [
       "0.6996938275127313"
      ]
     },
     "execution_count": 37,
     "metadata": {},
     "output_type": "execute_result"
    }
   ],
   "source": [
    "from sklearn.linear_model import Ridge\n",
    "\n",
    "X_train, X_test, y_train, y_test = train_test_split(X, y, test_size = 0.3, random_state=42)\n",
    "# set up alpha, normalize insure all the variables are on the same scale \n",
    "ridge = Ridge(alpha=0.1, normalize=True) \n",
    "ridge.fit(X_train, y_train)\n",
    "ridge_pred = ridge.predict(X_test)\n",
    "ridge.score(X_test, y_test)"
   ]
  },
  {
   "cell_type": "markdown",
   "metadata": {},
   "source": [
    "### Lasso regression\n",
    "\n",
    "- Loss function = OLS loss function + $\\alpha * \\sum_{i=1}^n |\\alpha_i|$"
   ]
  },
  {
   "cell_type": "code",
   "execution_count": 33,
   "metadata": {},
   "outputs": [
    {
     "data": {
      "text/plain": [
       "0.5950229535328551"
      ]
     },
     "execution_count": 33,
     "metadata": {},
     "output_type": "execute_result"
    }
   ],
   "source": [
    "from sklearn.linear_model import Lasso\n",
    "\n",
    "X_train, X_test, y_train, y_test = train_test_split(X, y,\n",
    "    test_size = 0.3, random_state=42)\n",
    "lasso = Lasso(alpha=0.1, normalize=True) \n",
    "# Fit the regressor to the data\n",
    "lasso.fit(X_train, y_train)\n",
    "lasso_pred = lasso.predict(X_test) \n",
    "lasso.score(X_test, y_test)"
   ]
  },
  {
   "cell_type": "markdown",
   "metadata": {},
   "source": [
    "### Lasso regression for feature selection\n",
    "\n",
    "- Can be used to **select important features** of a dataset\n",
    "- Shrinks the coefficients of less important features to exactly 0"
   ]
  },
  {
   "cell_type": "code",
   "execution_count": 38,
   "metadata": {},
   "outputs": [
    {
     "data": {
      "image/png": "[encoded data removed]",
      "text/plain": [
       "<Figure size 432x288 with 1 Axes>"
      ]
     },
     "metadata": {
      "needs_background": "light"
     },
     "output_type": "display_data"
    }
   ],
   "source": [
    "from sklearn.linear_model import Lasso \n",
    "names = boston.drop('MEDV', axis=1).columns \n",
    "lasso = Lasso(alpha=0.1)\n",
    "# Compute and print the coefficients,extract the coef attribute and store in lasso coef\n",
    "lasso_coef = lasso.fit(X, y).coef_\n",
    "# plotting the coefficients as a function of feature name\n",
    "_ = plt.plot(range(len(names)), lasso_coef)\n",
    "_ = plt.xticks(range(len(names)), names, rotation=60) \n",
    "_ = plt.ylabel('Coefficients')\n",
    "plt.show()\n",
    "# Lasso selected out the 'RM' feature as being the most important for predicting \n",
    "# Boston house prices, while shrinking the coefficients of certain other features to 0."
   ]
  },
  {
   "cell_type": "markdown",
   "metadata": {},
   "source": [
    "# Fine-tuning your model\n"
   ]
  },
  {
   "cell_type": "markdown",
   "metadata": {},
   "source": [
    "## How good is your model?"
   ]
  },
  {
   "cell_type": "markdown",
   "metadata": {},
   "source": [
    "### Classification metrics\n",
    "\n",
    "- Measuring model performance with accuracy:\n",
    "    - Fraction of correctly classified samples\n",
    "    - Not always a useful metric\n",
    "    \n",
    "### Class imbalance example: Emails\n",
    "\n",
    "- Spam classification\n",
    "    - 99% of emails are real; 1% of emails are spam\n",
    "- Could build a classifier that predicts ALL emails as real\n",
    "    - 99% accurate!\n",
    "    - But horrible at actually classifying spam\n",
    "    - Fails at its original purpose\n",
    "- Need more nuanced metrics\n",
    "\n",
    "### Diagnosing classification predictions\n",
    "\n",
    "- Confusion matrix   \n",
    "\n",
    "|                    | Predicted: Spam Email | Predicted: Real Email |\n",
    "|--------------------|-----------------------|-----------------------|\n",
    "| Actual: Spam Email | True Positive         | False Negative        |\n",
    "| Actual: Real Email | False Positive        | True Negative         |\n",
    "\n",
    "### Metrics from the confusion matrix\n",
    "\n",
    "- Accuracy:$\\frac{tp+tn}{tp+tn+fp+fn}$\n",
    "\n",
    "- Precision:$\\frac{tp}{tp+fp}$\n",
    "\n",
    "- Recall: $\\frac{tp}{tp+fn}$\n",
    "\n",
    "- F1score: $2* \\frac{Precision* Recall}{Precisio+Recall}$\n",
    "\n",
    "- High precision: Not many real emails predicted as spam\n",
    "\n",
    "- High recall: Predicted most spam emails correctly"
   ]
  },
  {
   "cell_type": "code",
   "execution_count": 80,
   "metadata": {},
   "outputs": [],
   "source": [
    "iris = datasets.load_iris() \n",
    "X = iris.data\n",
    "y = iris.target\n",
    "df = pd.DataFrame(X, columns=iris.feature_names) \n",
    "\n",
    "# Import necessary modules\n",
    "from sklearn.metrics import classification_report \n",
    "from sklearn.metrics import confusion_matrix\n",
    "\n",
    "# Instantiate a k-NN classifier: knn\n",
    "knn = KNeighborsClassifier(n_neighbors=8)\n",
    "# Create training and test set\n",
    "X_train, X_test, y_train, y_test = train_test_split(X, y,\n",
    "    test_size=0.4, random_state=42)\n",
    "# Fit the classifier to the training data\n",
    "knn.fit(X_train, y_train)\n",
    "# Predict the labels of the test data: y_pred\n",
    "y_pred = knn.predict(X_test)"
   ]
  },
  {
   "cell_type": "code",
   "execution_count": 81,
   "metadata": {},
   "outputs": [
    {
     "name": "stdout",
     "output_type": "stream",
     "text": [
      "[[23  0  0]\n",
      " [ 0 19  0]\n",
      " [ 0  1 17]]\n"
     ]
    }
   ],
   "source": [
    "# compute confusion matrix\n",
    "print(confusion_matrix(y_test, y_pred))"
   ]
  },
  {
   "cell_type": "code",
   "execution_count": 82,
   "metadata": {},
   "outputs": [
    {
     "name": "stdout",
     "output_type": "stream",
     "text": [
      "              precision    recall  f1-score   support\n",
      "\n",
      "           0       1.00      1.00      1.00        23\n",
      "           1       0.95      1.00      0.97        19\n",
      "           2       1.00      0.94      0.97        18\n",
      "\n",
      "    accuracy                           0.98        60\n",
      "   macro avg       0.98      0.98      0.98        60\n",
      "weighted avg       0.98      0.98      0.98        60\n",
      "\n"
     ]
    }
   ],
   "source": [
    "# compute result matrix\n",
    "print(classification_report(y_test, y_pred))"
   ]
  },
  {
   "cell_type": "markdown",
   "metadata": {},
   "source": [
    "## Logistic regression and the ROC curve"
   ]
  },
  {
   "cell_type": "markdown",
   "metadata": {},
   "source": [
    "### Logistic regression for binary classification\n",
    "\n",
    "- Logistic regression outputs probabilities\n",
    "- If the probability ‘p’ is greater than 0.5:\n",
    "    - The data is labeled ‘1’\n",
    "- If the probability ‘p’ is less than 0.5:\n",
    "    - The data is labeled ‘0’"
   ]
  },
  {
   "cell_type": "code",
   "execution_count": 5,
   "metadata": {},
   "outputs": [],
   "source": [
    "voting = pd.read_csv(\"data/voting.csv\")\n",
    "\n",
    "# X = voting.drop('MEDV', axis=1).values\n",
    "# y = voting['MEDV'].values\n",
    "# # change to dataframe \n",
    "# boston = pd.DataFrame(boston_data.data, columns=boston_data.feature_names)\n",
    "# boston['MEDV'] = pd.Series(boston_data.target)\n",
    "# print(boston.head())"
   ]
  },
  {
   "cell_type": "code",
   "execution_count": 6,
   "metadata": {},
   "outputs": [
    {
     "data": {
      "text/html": [
       "<div>\n",
       "<style scoped>\n",
       "    .dataframe tbody tr th:only-of-type {\n",
       "        vertical-align: middle;\n",
       "    }\n",
       "\n",
       "    .dataframe tbody tr th {\n",
       "        vertical-align: top;\n",
       "    }\n",
       "\n",
       "    .dataframe thead th {\n",
       "        text-align: right;\n",
       "    }\n",
       "</style>\n",
       "<table border=\"1\" class=\"dataframe\">\n",
       "  <thead>\n",
       "    <tr style=\"text-align: right;\">\n",
       "      <th></th>\n",
       "      <th>republican</th>\n",
       "      <th>n</th>\n",
       "      <th>y</th>\n",
       "      <th>n.1</th>\n",
       "      <th>y.1</th>\n",
       "      <th>y.2</th>\n",
       "      <th>y.3</th>\n",
       "      <th>n.2</th>\n",
       "      <th>n.3</th>\n",
       "      <th>n.4</th>\n",
       "      <th>y.4</th>\n",
       "      <th>?</th>\n",
       "      <th>y.5</th>\n",
       "      <th>y.6</th>\n",
       "      <th>y.7</th>\n",
       "      <th>n.5</th>\n",
       "      <th>y.8</th>\n",
       "    </tr>\n",
       "  </thead>\n",
       "  <tbody>\n",
       "    <tr>\n",
       "      <td>0</td>\n",
       "      <td>republican</td>\n",
       "      <td>n</td>\n",
       "      <td>y</td>\n",
       "      <td>n</td>\n",
       "      <td>y</td>\n",
       "      <td>y</td>\n",
       "      <td>y</td>\n",
       "      <td>n</td>\n",
       "      <td>n</td>\n",
       "      <td>n</td>\n",
       "      <td>n</td>\n",
       "      <td>n</td>\n",
       "      <td>y</td>\n",
       "      <td>y</td>\n",
       "      <td>y</td>\n",
       "      <td>n</td>\n",
       "      <td>?</td>\n",
       "    </tr>\n",
       "    <tr>\n",
       "      <td>1</td>\n",
       "      <td>democrat</td>\n",
       "      <td>?</td>\n",
       "      <td>y</td>\n",
       "      <td>y</td>\n",
       "      <td>?</td>\n",
       "      <td>y</td>\n",
       "      <td>y</td>\n",
       "      <td>n</td>\n",
       "      <td>n</td>\n",
       "      <td>n</td>\n",
       "      <td>n</td>\n",
       "      <td>y</td>\n",
       "      <td>n</td>\n",
       "      <td>y</td>\n",
       "      <td>y</td>\n",
       "      <td>n</td>\n",
       "      <td>n</td>\n",
       "    </tr>\n",
       "    <tr>\n",
       "      <td>2</td>\n",
       "      <td>democrat</td>\n",
       "      <td>n</td>\n",
       "      <td>y</td>\n",
       "      <td>y</td>\n",
       "      <td>n</td>\n",
       "      <td>?</td>\n",
       "      <td>y</td>\n",
       "      <td>n</td>\n",
       "      <td>n</td>\n",
       "      <td>n</td>\n",
       "      <td>n</td>\n",
       "      <td>y</td>\n",
       "      <td>n</td>\n",
       "      <td>y</td>\n",
       "      <td>n</td>\n",
       "      <td>n</td>\n",
       "      <td>y</td>\n",
       "    </tr>\n",
       "    <tr>\n",
       "      <td>3</td>\n",
       "      <td>democrat</td>\n",
       "      <td>y</td>\n",
       "      <td>y</td>\n",
       "      <td>y</td>\n",
       "      <td>n</td>\n",
       "      <td>y</td>\n",
       "      <td>y</td>\n",
       "      <td>n</td>\n",
       "      <td>n</td>\n",
       "      <td>n</td>\n",
       "      <td>n</td>\n",
       "      <td>y</td>\n",
       "      <td>?</td>\n",
       "      <td>y</td>\n",
       "      <td>y</td>\n",
       "      <td>y</td>\n",
       "      <td>y</td>\n",
       "    </tr>\n",
       "    <tr>\n",
       "      <td>4</td>\n",
       "      <td>democrat</td>\n",
       "      <td>n</td>\n",
       "      <td>y</td>\n",
       "      <td>y</td>\n",
       "      <td>n</td>\n",
       "      <td>y</td>\n",
       "      <td>y</td>\n",
       "      <td>n</td>\n",
       "      <td>n</td>\n",
       "      <td>n</td>\n",
       "      <td>n</td>\n",
       "      <td>n</td>\n",
       "      <td>n</td>\n",
       "      <td>y</td>\n",
       "      <td>y</td>\n",
       "      <td>y</td>\n",
       "      <td>y</td>\n",
       "    </tr>\n",
       "  </tbody>\n",
       "</table>\n",
       "</div>"
      ],
      "text/plain": [
       "   republican  n  y n.1 y.1 y.2 y.3 n.2 n.3 n.4 y.4  ? y.5 y.6 y.7 n.5 y.8\n",
       "0  republican  n  y   n   y   y   y   n   n   n   n  n   y   y   y   n   ?\n",
       "1    democrat  ?  y   y   ?   y   y   n   n   n   n  y   n   y   y   n   n\n",
       "2    democrat  n  y   y   n   ?   y   n   n   n   n  y   n   y   n   n   y\n",
       "3    democrat  y  y   y   n   y   y   n   n   n   n  y   ?   y   y   y   y\n",
       "4    democrat  n  y   y   n   y   y   n   n   n   n  n   n   y   y   y   y"
      ]
     },
     "execution_count": 6,
     "metadata": {},
     "output_type": "execute_result"
    }
   ],
   "source": [
    "voting.head()"
   ]
  },
  {
   "cell_type": "code",
   "execution_count": null,
   "metadata": {},
   "outputs": [],
   "source": [
    "from sklearn.linear_model import LogisticRegression \n",
    "from sklearn.model_selection import train_test_split\n",
    "\n",
    "logreg = LogisticRegression()\n",
    "X_train, X_test, y_train, y_test = train_test_split(X, y,\n",
    "    test_size=0.4, random_state=42)\n",
    "logreg.fit(X_train, y_train) \n",
    "y_pred = logreg.predict(X_test)"
   ]
  },
  {
   "cell_type": "markdown",
   "metadata": {},
   "source": [
    "### Probability thresholds\n",
    "\n",
    "- By default, logistic regression threshold = 0.5\n",
    "- Not specific to logistic regression\n",
    "    - k-NN classifiers also have thresholds\n",
    "- What happens if we vary the threshold?"
   ]
  },
  {
   "cell_type": "markdown",
   "metadata": {},
   "source": [
    "### Plotting the ROC curve"
   ]
  },
  {
   "cell_type": "code",
   "execution_count": 84,
   "metadata": {},
   "outputs": [
    {
     "ename": "ValueError",
     "evalue": "multiclass format is not supported",
     "output_type": "error",
     "traceback": [
      "\u001b[0;31m---------------------------------------------------------------------------\u001b[0m",
      "\u001b[0;31mValueError\u001b[0m                                Traceback (most recent call last)",
      "\u001b[0;32m<ipython-input-84-d3267cf8006a>\u001b[0m in \u001b[0;36m<module>\u001b[0;34m\u001b[0m\n\u001b[1;32m      1\u001b[0m \u001b[0;32mfrom\u001b[0m \u001b[0msklearn\u001b[0m\u001b[0;34m.\u001b[0m\u001b[0mmetrics\u001b[0m \u001b[0;32mimport\u001b[0m \u001b[0mroc_curve\u001b[0m\u001b[0;34m\u001b[0m\u001b[0;34m\u001b[0m\u001b[0m\n\u001b[1;32m      2\u001b[0m \u001b[0my_pred_prob\u001b[0m \u001b[0;34m=\u001b[0m \u001b[0mlogreg\u001b[0m\u001b[0;34m.\u001b[0m\u001b[0mpredict_proba\u001b[0m\u001b[0;34m(\u001b[0m\u001b[0mX_test\u001b[0m\u001b[0;34m)\u001b[0m\u001b[0;34m[\u001b[0m\u001b[0;34m:\u001b[0m\u001b[0;34m,\u001b[0m\u001b[0;36m1\u001b[0m\u001b[0;34m]\u001b[0m\u001b[0;34m\u001b[0m\u001b[0;34m\u001b[0m\u001b[0m\n\u001b[0;32m----> 3\u001b[0;31m \u001b[0mfpr\u001b[0m\u001b[0;34m,\u001b[0m \u001b[0mtpr\u001b[0m\u001b[0;34m,\u001b[0m \u001b[0mthresholds\u001b[0m \u001b[0;34m=\u001b[0m \u001b[0mroc_curve\u001b[0m\u001b[0;34m(\u001b[0m\u001b[0my_test\u001b[0m\u001b[0;34m,\u001b[0m \u001b[0my_pred_prob\u001b[0m\u001b[0;34m)\u001b[0m\u001b[0;34m\u001b[0m\u001b[0;34m\u001b[0m\u001b[0m\n\u001b[0m\u001b[1;32m      4\u001b[0m \u001b[0mplt\u001b[0m\u001b[0;34m.\u001b[0m\u001b[0mplot\u001b[0m\u001b[0;34m(\u001b[0m\u001b[0;34m[\u001b[0m\u001b[0;36m0\u001b[0m\u001b[0;34m,\u001b[0m \u001b[0;36m1\u001b[0m\u001b[0;34m]\u001b[0m\u001b[0;34m,\u001b[0m \u001b[0;34m[\u001b[0m\u001b[0;36m0\u001b[0m\u001b[0;34m,\u001b[0m \u001b[0;36m1\u001b[0m\u001b[0;34m]\u001b[0m\u001b[0;34m,\u001b[0m \u001b[0;34m'k--'\u001b[0m\u001b[0;34m)\u001b[0m\u001b[0;34m\u001b[0m\u001b[0;34m\u001b[0m\u001b[0m\n\u001b[1;32m      5\u001b[0m \u001b[0mplt\u001b[0m\u001b[0;34m.\u001b[0m\u001b[0mplot\u001b[0m\u001b[0;34m(\u001b[0m\u001b[0mfpr\u001b[0m\u001b[0;34m,\u001b[0m \u001b[0mtpr\u001b[0m\u001b[0;34m,\u001b[0m \u001b[0mlabel\u001b[0m\u001b[0;34m=\u001b[0m\u001b[0;34m'Logistic Regression'\u001b[0m\u001b[0;34m)\u001b[0m\u001b[0;34m\u001b[0m\u001b[0;34m\u001b[0m\u001b[0m\n",
      "\u001b[0;32m/usr/local/anaconda3/lib/python3.7/site-packages/sklearn/metrics/ranking.py\u001b[0m in \u001b[0;36mroc_curve\u001b[0;34m(y_true, y_score, pos_label, sample_weight, drop_intermediate)\u001b[0m\n\u001b[1;32m    620\u001b[0m     \"\"\"\n\u001b[1;32m    621\u001b[0m     fps, tps, thresholds = _binary_clf_curve(\n\u001b[0;32m--> 622\u001b[0;31m         y_true, y_score, pos_label=pos_label, sample_weight=sample_weight)\n\u001b[0m\u001b[1;32m    623\u001b[0m \u001b[0;34m\u001b[0m\u001b[0m\n\u001b[1;32m    624\u001b[0m     \u001b[0;31m# Attempt to drop thresholds corresponding to points in between and\u001b[0m\u001b[0;34m\u001b[0m\u001b[0;34m\u001b[0m\u001b[0;34m\u001b[0m\u001b[0m\n",
      "\u001b[0;32m/usr/local/anaconda3/lib/python3.7/site-packages/sklearn/metrics/ranking.py\u001b[0m in \u001b[0;36m_binary_clf_curve\u001b[0;34m(y_true, y_score, pos_label, sample_weight)\u001b[0m\n\u001b[1;32m    394\u001b[0m     if not (y_type == \"binary\" or\n\u001b[1;32m    395\u001b[0m             (y_type == \"multiclass\" and pos_label is not None)):\n\u001b[0;32m--> 396\u001b[0;31m         \u001b[0;32mraise\u001b[0m \u001b[0mValueError\u001b[0m\u001b[0;34m(\u001b[0m\u001b[0;34m\"{0} format is not supported\"\u001b[0m\u001b[0;34m.\u001b[0m\u001b[0mformat\u001b[0m\u001b[0;34m(\u001b[0m\u001b[0my_type\u001b[0m\u001b[0;34m)\u001b[0m\u001b[0;34m)\u001b[0m\u001b[0;34m\u001b[0m\u001b[0;34m\u001b[0m\u001b[0m\n\u001b[0m\u001b[1;32m    397\u001b[0m \u001b[0;34m\u001b[0m\u001b[0m\n\u001b[1;32m    398\u001b[0m     \u001b[0mcheck_consistent_length\u001b[0m\u001b[0;34m(\u001b[0m\u001b[0my_true\u001b[0m\u001b[0;34m,\u001b[0m \u001b[0my_score\u001b[0m\u001b[0;34m,\u001b[0m \u001b[0msample_weight\u001b[0m\u001b[0;34m)\u001b[0m\u001b[0;34m\u001b[0m\u001b[0;34m\u001b[0m\u001b[0m\n",
      "\u001b[0;31mValueError\u001b[0m: multiclass format is not supported"
     ]
    }
   ],
   "source": [
    "from sklearn.metrics import roc_curve\n",
    "y_pred_prob = logreg.predict_proba(X_test)[:,1]\n",
    "fpr, tpr, thresholds = roc_curve(y_test, y_pred_prob)\n",
    "plt.plot([0, 1], [0, 1], 'k--')\n",
    "plt.plot(fpr, tpr, label='Logistic Regression') \n",
    "plt.xlabel('False Positive Rate') \n",
    "plt.ylabel('True Positive Rate') \n",
    "plt.title('Logistic Regression ROC Curve') \n",
    "plt.show();"
   ]
  },
  {
   "cell_type": "code",
   "execution_count": 51,
   "metadata": {},
   "outputs": [
    {
     "data": {
      "text/plain": [
       "array([0.65194749, 0.113753  , 0.42367192, 0.53326284, 0.73298698,\n",
       "       0.14147127, 0.65201256, 0.29554715, 0.59099377, 0.74828   ,\n",
       "       0.3031024 , 0.2131148 , 0.14223618, 0.20556122, 0.08240537,\n",
       "       0.50131659, 0.2690309 , 0.74639479, 0.54201771, 0.29234538,\n",
       "       0.16852521, 0.34036832, 0.12709588, 0.31003144, 0.36053811,\n",
       "       0.27159334, 0.42747646, 0.24370935, 0.18755633, 0.19399772,\n",
       "       0.07861747, 0.0421944 , 0.78838368, 0.1381607 , 0.13525527,\n",
       "       0.39862097, 0.64751995, 0.13663335, 0.10791494, 0.0689404 ,\n",
       "       0.30268103, 0.43756082, 0.69470825, 0.0689789 , 0.11568716,\n",
       "       0.78554939, 0.48276015, 0.32771509, 0.77330241, 0.17790818,\n",
       "       0.61434026, 0.39057932, 0.40394824, 0.12695215, 0.43250567,\n",
       "       0.7847528 , 0.14814448, 0.10828939, 0.08921448, 0.717639  ])"
      ]
     },
     "execution_count": 51,
     "metadata": {},
     "output_type": "execute_result"
    }
   ],
   "source": [
    "logreg.predict_proba(X_test)[:,1]"
   ]
  },
  {
   "cell_type": "code",
   "execution_count": null,
   "metadata": {},
   "outputs": [],
   "source": []
  }
 ],
 "metadata": {
  "kernelspec": {
   "display_name": "Python 3",
   "language": "python",
   "name": "python3"
  },
  "language_info": {
   "codemirror_mode": {
    "name": "ipython",
    "version": 3
   },
   "file_extension": ".py",
   "mimetype": "text/x-python",
   "name": "python",
   "nbconvert_exporter": "python",
   "pygments_lexer": "ipython3",
   "version": "3.7.4"
  },
  "toc": {
   "base_numbering": 1,
   "nav_menu": {},
   "number_sections": true,
   "sideBar": true,
   "skip_h1_title": false,
   "title_cell": "Table of Contents",
   "title_sidebar": "Contents",
   "toc_cell": true,
   "toc_position": {},
   "toc_section_display": true,
   "toc_window_display": true
  }
 },
 "nbformat": 4,
 "nbformat_minor": 2
}
