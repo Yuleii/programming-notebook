{
 "cells": [
  {
   "cell_type": "markdown",
   "metadata": {
    "toc": true
   },
   "source": [
    "<h1>Table of Contents<span class=\"tocSkip\"></span></h1>\n",
    "<div class=\"toc\"><ul class=\"toc-item\"><li><span><a href=\"#Classification\" data-toc-modified-id=\"Classification-1\"><span class=\"toc-item-num\">1&nbsp;&nbsp;</span>Classification</a></span><ul class=\"toc-item\"><li><span><a href=\"#Supervised-learning\" data-toc-modified-id=\"Supervised-learning-1.1\"><span class=\"toc-item-num\">1.1&nbsp;&nbsp;</span>Supervised learning</a></span><ul class=\"toc-item\"><li><span><a href=\"#Unsupervised-learning:-Uses-unlabeled-data\" data-toc-modified-id=\"Unsupervised-learning:-Uses-unlabeled-data-1.1.1\"><span class=\"toc-item-num\">1.1.1&nbsp;&nbsp;</span>Unsupervised learning: Uses unlabeled data</a></span></li><li><span><a href=\"#Reinforcement-learning\" data-toc-modified-id=\"Reinforcement-learning-1.1.2\"><span class=\"toc-item-num\">1.1.2&nbsp;&nbsp;</span>Reinforcement learning</a></span></li><li><span><a href=\"#Supervised-learning\" data-toc-modified-id=\"Supervised-learning-1.1.3\"><span class=\"toc-item-num\">1.1.3&nbsp;&nbsp;</span>Supervised learning</a></span></li><li><span><a href=\"#Naming-conventions\" data-toc-modified-id=\"Naming-conventions-1.1.4\"><span class=\"toc-item-num\">1.1.4&nbsp;&nbsp;</span>Naming conventions</a></span></li><li><span><a href=\"#Supervised-learning-in-Python\" data-toc-modified-id=\"Supervised-learning-in-Python-1.1.5\"><span class=\"toc-item-num\">1.1.5&nbsp;&nbsp;</span>Supervised learning in Python</a></span></li></ul></li><li><span><a href=\"#Exploratory-data-analysis\" data-toc-modified-id=\"Exploratory-data-analysis-1.2\"><span class=\"toc-item-num\">1.2&nbsp;&nbsp;</span>Exploratory data analysis</a></span><ul class=\"toc-item\"><li><span><a href=\"#The-Iris-dataset\" data-toc-modified-id=\"The-Iris-dataset-1.2.1\"><span class=\"toc-item-num\">1.2.1&nbsp;&nbsp;</span>The Iris dataset</a></span></li><li><span><a href=\"#The-Iris-dataset-in-scikit-learn\" data-toc-modified-id=\"The-Iris-dataset-in-scikit-learn-1.2.2\"><span class=\"toc-item-num\">1.2.2&nbsp;&nbsp;</span>The Iris dataset in scikit-learn</a></span></li><li><span><a href=\"#Exploratory-data-analysis-(EDA)\" data-toc-modified-id=\"Exploratory-data-analysis-(EDA)-1.2.3\"><span class=\"toc-item-num\">1.2.3&nbsp;&nbsp;</span>Exploratory data analysis (EDA)</a></span></li><li><span><a href=\"#Visual-EDA\" data-toc-modified-id=\"Visual-EDA-1.2.4\"><span class=\"toc-item-num\">1.2.4&nbsp;&nbsp;</span>Visual EDA</a></span></li></ul></li><li><span><a href=\"#The-classification-challenge\" data-toc-modified-id=\"The-classification-challenge-1.3\"><span class=\"toc-item-num\">1.3&nbsp;&nbsp;</span>The classification challenge</a></span><ul class=\"toc-item\"><li><span><a href=\"#k-Nearest-Neighbors\" data-toc-modified-id=\"k-Nearest-Neighbors-1.3.1\"><span class=\"toc-item-num\">1.3.1&nbsp;&nbsp;</span>k-Nearest Neighbors</a></span></li><li><span><a href=\"#Scikit-learn-fit-and-predict\" data-toc-modified-id=\"Scikit-learn-fit-and-predict-1.3.2\"><span class=\"toc-item-num\">1.3.2&nbsp;&nbsp;</span>Scikit-learn fit and predict</a></span></li><li><span><a href=\"#Using-scikit-learn-to-fit-a-classifier\" data-toc-modified-id=\"Using-scikit-learn-to-fit-a-classifier-1.3.3\"><span class=\"toc-item-num\">1.3.3&nbsp;&nbsp;</span>Using scikit-learn to fit a classifier</a></span></li><li><span><a href=\"#Predicting-on-unlabeled-data`\" data-toc-modified-id=\"Predicting-on-unlabeled-data`-1.3.4\"><span class=\"toc-item-num\">1.3.4&nbsp;&nbsp;</span>Predicting on unlabeled data`</a></span></li></ul></li><li><span><a href=\"#Measuring-model-performance\" data-toc-modified-id=\"Measuring-model-performance-1.4\"><span class=\"toc-item-num\">1.4&nbsp;&nbsp;</span>Measuring model performance</a></span><ul class=\"toc-item\"><li><span><a href=\"#Measuring-model-performance\" data-toc-modified-id=\"Measuring-model-performance-1.4.1\"><span class=\"toc-item-num\">1.4.1&nbsp;&nbsp;</span>Measuring model performance</a></span></li><li><span><a href=\"#Train/test-split\" data-toc-modified-id=\"Train/test-split-1.4.2\"><span class=\"toc-item-num\">1.4.2&nbsp;&nbsp;</span>Train/test split</a></span></li><li><span><a href=\"#Model-complexity\" data-toc-modified-id=\"Model-complexity-1.4.3\"><span class=\"toc-item-num\">1.4.3&nbsp;&nbsp;</span>Model complexity</a></span></li><li><span><a href=\"#Exercise:-The-digits-recognition-dataset\" data-toc-modified-id=\"Exercise:-The-digits-recognition-dataset-1.4.4\"><span class=\"toc-item-num\">1.4.4&nbsp;&nbsp;</span>Exercise: The digits recognition dataset</a></span></li></ul></li></ul></li><li><span><a href=\"#Regression\" data-toc-modified-id=\"Regression-2\"><span class=\"toc-item-num\">2&nbsp;&nbsp;</span>Regression</a></span><ul class=\"toc-item\"><li><span><a href=\"#Introduction-to-regression\" data-toc-modified-id=\"Introduction-to-regression-2.1\"><span class=\"toc-item-num\">2.1&nbsp;&nbsp;</span>Introduction to regression</a></span><ul class=\"toc-item\"><li><span><a href=\"#Boston-housing-data\" data-toc-modified-id=\"Boston-housing-data-2.1.1\"><span class=\"toc-item-num\">2.1.1&nbsp;&nbsp;</span>Boston housing data</a></span></li><li><span><a href=\"#Creating-feature-and-target-arrays\" data-toc-modified-id=\"Creating-feature-and-target-arrays-2.1.2\"><span class=\"toc-item-num\">2.1.2&nbsp;&nbsp;</span>Creating feature and target arrays</a></span></li><li><span><a href=\"#Predicting-house-value-from-a-single-feature\" data-toc-modified-id=\"Predicting-house-value-from-a-single-feature-2.1.3\"><span class=\"toc-item-num\">2.1.3&nbsp;&nbsp;</span>Predicting house value from a single feature</a></span></li><li><span><a href=\"#Plotting-house-value-vs.-number-of-rooms\" data-toc-modified-id=\"Plotting-house-value-vs.-number-of-rooms-2.1.4\"><span class=\"toc-item-num\">2.1.4&nbsp;&nbsp;</span>Plotting house value vs. number of rooms</a></span></li><li><span><a href=\"#Fitting-a-regression-model\" data-toc-modified-id=\"Fitting-a-regression-model-2.1.5\"><span class=\"toc-item-num\">2.1.5&nbsp;&nbsp;</span>Fitting a regression model</a></span></li></ul></li><li><span><a href=\"#The-basics-of-linear-regression\" data-toc-modified-id=\"The-basics-of-linear-regression-2.2\"><span class=\"toc-item-num\">2.2&nbsp;&nbsp;</span>The basics of linear regression</a></span><ul class=\"toc-item\"><li><span><a href=\"#Regression-mechanics\" data-toc-modified-id=\"Regression-mechanics-2.2.1\"><span class=\"toc-item-num\">2.2.1&nbsp;&nbsp;</span>Regression mechanics</a></span></li><li><span><a href=\"#The-loss-function\" data-toc-modified-id=\"The-loss-function-2.2.2\"><span class=\"toc-item-num\">2.2.2&nbsp;&nbsp;</span>The loss function</a></span></li><li><span><a href=\"#Linear-regression-in-higher-dimensions\" data-toc-modified-id=\"Linear-regression-in-higher-dimensions-2.2.3\"><span class=\"toc-item-num\">2.2.3&nbsp;&nbsp;</span>Linear regression in higher dimensions</a></span></li><li><span><a href=\"#Linear-regression-on-all-features\" data-toc-modified-id=\"Linear-regression-on-all-features-2.2.4\"><span class=\"toc-item-num\">2.2.4&nbsp;&nbsp;</span>Linear regression on all features</a></span></li></ul></li><li><span><a href=\"#Cross-validation\" data-toc-modified-id=\"Cross-validation-2.3\"><span class=\"toc-item-num\">2.3&nbsp;&nbsp;</span>Cross-validation</a></span><ul class=\"toc-item\"><li><span><a href=\"#Cross-validation-motivation\" data-toc-modified-id=\"Cross-validation-motivation-2.3.1\"><span class=\"toc-item-num\">2.3.1&nbsp;&nbsp;</span>Cross-validation motivation</a></span></li><li><span><a href=\"#Cross-validation-and-model-performance\" data-toc-modified-id=\"Cross-validation-and-model-performance-2.3.2\"><span class=\"toc-item-num\">2.3.2&nbsp;&nbsp;</span>Cross-validation and model performance</a></span></li><li><span><a href=\"#Cross-validation-in-scikit-learn\" data-toc-modified-id=\"Cross-validation-in-scikit-learn-2.3.3\"><span class=\"toc-item-num\">2.3.3&nbsp;&nbsp;</span>Cross-validation in scikit-learn</a></span></li></ul></li><li><span><a href=\"#Regularized-regression\" data-toc-modified-id=\"Regularized-regression-2.4\"><span class=\"toc-item-num\">2.4&nbsp;&nbsp;</span>Regularized regression</a></span><ul class=\"toc-item\"><li><span><a href=\"#Ridge-regression\" data-toc-modified-id=\"Ridge-regression-2.4.1\"><span class=\"toc-item-num\">2.4.1&nbsp;&nbsp;</span>Ridge regression</a></span></li><li><span><a href=\"#Lasso-regression\" data-toc-modified-id=\"Lasso-regression-2.4.2\"><span class=\"toc-item-num\">2.4.2&nbsp;&nbsp;</span>Lasso regression</a></span></li><li><span><a href=\"#Lasso-regression-for-feature-selection\" data-toc-modified-id=\"Lasso-regression-for-feature-selection-2.4.3\"><span class=\"toc-item-num\">2.4.3&nbsp;&nbsp;</span>Lasso regression for feature selection</a></span></li></ul></li></ul></li><li><span><a href=\"#Fine-tuning-your-model\" data-toc-modified-id=\"Fine-tuning-your-model-3\"><span class=\"toc-item-num\">3&nbsp;&nbsp;</span>Fine-tuning your model</a></span><ul class=\"toc-item\"><li><span><a href=\"#How-good-is-your-model?\" data-toc-modified-id=\"How-good-is-your-model?-3.1\"><span class=\"toc-item-num\">3.1&nbsp;&nbsp;</span>How good is your model?</a></span><ul class=\"toc-item\"><li><span><a href=\"#Classification-metrics\" data-toc-modified-id=\"Classification-metrics-3.1.1\"><span class=\"toc-item-num\">3.1.1&nbsp;&nbsp;</span>Classification metrics</a></span></li><li><span><a href=\"#Class-imbalance-example:-Emails\" data-toc-modified-id=\"Class-imbalance-example:-Emails-3.1.2\"><span class=\"toc-item-num\">3.1.2&nbsp;&nbsp;</span>Class imbalance example: Emails</a></span></li><li><span><a href=\"#Diagnosing-classification-predictions\" data-toc-modified-id=\"Diagnosing-classification-predictions-3.1.3\"><span class=\"toc-item-num\">3.1.3&nbsp;&nbsp;</span>Diagnosing classification predictions</a></span></li><li><span><a href=\"#Metrics-from-the-confusion-matrix\" data-toc-modified-id=\"Metrics-from-the-confusion-matrix-3.1.4\"><span class=\"toc-item-num\">3.1.4&nbsp;&nbsp;</span>Metrics from the confusion matrix</a></span></li></ul></li><li><span><a href=\"#Logistic-regression-and-the-ROC-curve\" data-toc-modified-id=\"Logistic-regression-and-the-ROC-curve-3.2\"><span class=\"toc-item-num\">3.2&nbsp;&nbsp;</span>Logistic regression and the ROC curve</a></span><ul class=\"toc-item\"><li><span><a href=\"#Logistic-regression-for-binary-classification\" data-toc-modified-id=\"Logistic-regression-for-binary-classification-3.2.1\"><span class=\"toc-item-num\">3.2.1&nbsp;&nbsp;</span>Logistic regression for binary classification</a></span></li><li><span><a href=\"#Probability-thresholds\" data-toc-modified-id=\"Probability-thresholds-3.2.2\"><span class=\"toc-item-num\">3.2.2&nbsp;&nbsp;</span>Probability thresholds</a></span></li><li><span><a href=\"#Exercise\" data-toc-modified-id=\"Exercise-3.2.3\"><span class=\"toc-item-num\">3.2.3&nbsp;&nbsp;</span>Exercise</a></span><ul class=\"toc-item\"><li><span><a href=\"#Building-a-logistic-regression-model\" data-toc-modified-id=\"Building-a-logistic-regression-model-3.2.3.1\"><span class=\"toc-item-num\">3.2.3.1&nbsp;&nbsp;</span>Building a logistic regression model</a></span></li><li><span><a href=\"#Plotting-an-ROC-curve\" data-toc-modified-id=\"Plotting-an-ROC-curve-3.2.3.2\"><span class=\"toc-item-num\">3.2.3.2&nbsp;&nbsp;</span>Plotting an ROC curve</a></span></li></ul></li></ul></li><li><span><a href=\"#Area-under-the-ROC-curve\" data-toc-modified-id=\"Area-under-the-ROC-curve-3.3\"><span class=\"toc-item-num\">3.3&nbsp;&nbsp;</span>Area under the ROC curve</a></span><ul class=\"toc-item\"><li><span><a href=\"#Exercise\" data-toc-modified-id=\"Exercise-3.3.1\"><span class=\"toc-item-num\">3.3.1&nbsp;&nbsp;</span>Exercise</a></span><ul class=\"toc-item\"><li><span><a href=\"#AUC-computation\" data-toc-modified-id=\"AUC-computation-3.3.1.1\"><span class=\"toc-item-num\">3.3.1.1&nbsp;&nbsp;</span>AUC computation</a></span></li></ul></li></ul></li><li><span><a href=\"#Hyperparameter-tuning\" data-toc-modified-id=\"Hyperparameter-tuning-3.4\"><span class=\"toc-item-num\">3.4&nbsp;&nbsp;</span>Hyperparameter tuning</a></span><ul class=\"toc-item\"><li><span><a href=\"#Choosing-the-correct-hyperparameter\" data-toc-modified-id=\"Choosing-the-correct-hyperparameter-3.4.1\"><span class=\"toc-item-num\">3.4.1&nbsp;&nbsp;</span>Choosing the correct hyperparameter</a></span></li><li><span><a href=\"#GridSearchCV-in-scikit-learn\" data-toc-modified-id=\"GridSearchCV-in-scikit-learn-3.4.2\"><span class=\"toc-item-num\">3.4.2&nbsp;&nbsp;</span>GridSearchCV in scikit-learn</a></span></li><li><span><a href=\"#Exercise\" data-toc-modified-id=\"Exercise-3.4.3\"><span class=\"toc-item-num\">3.4.3&nbsp;&nbsp;</span>Exercise</a></span><ul class=\"toc-item\"><li><span><a href=\"#Hyperparameter-tuning-with-GridSearchCV\" data-toc-modified-id=\"Hyperparameter-tuning-with-GridSearchCV-3.4.3.1\"><span class=\"toc-item-num\">3.4.3.1&nbsp;&nbsp;</span>Hyperparameter tuning with GridSearchCV</a></span></li><li><span><a href=\"#Hyperparameter-tuning-with-RandomizedSearchCV\" data-toc-modified-id=\"Hyperparameter-tuning-with-RandomizedSearchCV-3.4.3.2\"><span class=\"toc-item-num\">3.4.3.2&nbsp;&nbsp;</span>Hyperparameter tuning with RandomizedSearchCV</a></span></li></ul></li></ul></li><li><span><a href=\"#Hold-out-set-for-final-evaluation\" data-toc-modified-id=\"Hold-out-set-for-final-evaluation-3.5\"><span class=\"toc-item-num\">3.5&nbsp;&nbsp;</span>Hold-out set for final evaluation</a></span><ul class=\"toc-item\"><li><span><a href=\"#Hold-out-set-reasoning\" data-toc-modified-id=\"Hold-out-set-reasoning-3.5.1\"><span class=\"toc-item-num\">3.5.1&nbsp;&nbsp;</span>Hold-out set reasoning</a></span></li><li><span><a href=\"#Exercise\" data-toc-modified-id=\"Exercise-3.5.2\"><span class=\"toc-item-num\">3.5.2&nbsp;&nbsp;</span>Exercise</a></span><ul class=\"toc-item\"><li><span><a href=\"#Hold-out-set-in-practice-I:-Classification\" data-toc-modified-id=\"Hold-out-set-in-practice-I:-Classification-3.5.2.1\"><span class=\"toc-item-num\">3.5.2.1&nbsp;&nbsp;</span>Hold-out set in practice I: Classification</a></span></li><li><span><a href=\"#Hold-out-set-in-practice-II:-Regression\" data-toc-modified-id=\"Hold-out-set-in-practice-II:-Regression-3.5.2.2\"><span class=\"toc-item-num\">3.5.2.2&nbsp;&nbsp;</span>Hold-out set in practice II: Regression</a></span></li></ul></li></ul></li></ul></li><li><span><a href=\"#Preprocessing-and-pipelines\" data-toc-modified-id=\"Preprocessing-and-pipelines-4\"><span class=\"toc-item-num\">4&nbsp;&nbsp;</span>Preprocessing and pipelines</a></span><ul class=\"toc-item\"><li><span><a href=\"#Preprocessing-data\" data-toc-modified-id=\"Preprocessing-data-4.1\"><span class=\"toc-item-num\">4.1&nbsp;&nbsp;</span>Preprocessing data</a></span><ul class=\"toc-item\"><li><span><a href=\"#Dealing-with-categorical-features\" data-toc-modified-id=\"Dealing-with-categorical-features-4.1.1\"><span class=\"toc-item-num\">4.1.1&nbsp;&nbsp;</span>Dealing with categorical features</a></span></li><li><span><a href=\"#Dealing-with-categorical-features-in-Python\" data-toc-modified-id=\"Dealing-with-categorical-features-in-Python-4.1.2\"><span class=\"toc-item-num\">4.1.2&nbsp;&nbsp;</span>Dealing with categorical features in Python</a></span></li><li><span><a href=\"#Automobile-dataset\" data-toc-modified-id=\"Automobile-dataset-4.1.3\"><span class=\"toc-item-num\">4.1.3&nbsp;&nbsp;</span>Automobile dataset</a></span></li><li><span><a href=\"#Encoding-dummy-variables\" data-toc-modified-id=\"Encoding-dummy-variables-4.1.4\"><span class=\"toc-item-num\">4.1.4&nbsp;&nbsp;</span>Encoding dummy variables</a></span></li><li><span><a href=\"#Linear-regression-with-dummy-variables\" data-toc-modified-id=\"Linear-regression-with-dummy-variables-4.1.5\"><span class=\"toc-item-num\">4.1.5&nbsp;&nbsp;</span>Linear regression with dummy variables</a></span></li><li><span><a href=\"#Exercise\" data-toc-modified-id=\"Exercise-4.1.6\"><span class=\"toc-item-num\">4.1.6&nbsp;&nbsp;</span>Exercise</a></span><ul class=\"toc-item\"><li><span><a href=\"#Exploring-categorical-features\" data-toc-modified-id=\"Exploring-categorical-features-4.1.6.1\"><span class=\"toc-item-num\">4.1.6.1&nbsp;&nbsp;</span>Exploring categorical features</a></span></li><li><span><a href=\"#Creating-dummy-variables\" data-toc-modified-id=\"Creating-dummy-variables-4.1.6.2\"><span class=\"toc-item-num\">4.1.6.2&nbsp;&nbsp;</span>Creating dummy variables</a></span></li><li><span><a href=\"#Regression-with-categorical-features\" data-toc-modified-id=\"Regression-with-categorical-features-4.1.6.3\"><span class=\"toc-item-num\">4.1.6.3&nbsp;&nbsp;</span>Regression with categorical features</a></span></li></ul></li></ul></li><li><span><a href=\"#Handling-missing-data\" data-toc-modified-id=\"Handling-missing-data-4.2\"><span class=\"toc-item-num\">4.2&nbsp;&nbsp;</span>Handling missing data</a></span><ul class=\"toc-item\"><li><span><a href=\"#PIMA-Indians-dataset\" data-toc-modified-id=\"PIMA-Indians-dataset-4.2.1\"><span class=\"toc-item-num\">4.2.1&nbsp;&nbsp;</span>PIMA Indians dataset</a></span></li><li><span><a href=\"#Dropping-missing-data\" data-toc-modified-id=\"Dropping-missing-data-4.2.2\"><span class=\"toc-item-num\">4.2.2&nbsp;&nbsp;</span>Dropping missing data</a></span></li><li><span><a href=\"#Imputing-missing-data\" data-toc-modified-id=\"Imputing-missing-data-4.2.3\"><span class=\"toc-item-num\">4.2.3&nbsp;&nbsp;</span>Imputing missing data</a></span></li><li><span><a href=\"#Imputing-within-a-pipeline\" data-toc-modified-id=\"Imputing-within-a-pipeline-4.2.4\"><span class=\"toc-item-num\">4.2.4&nbsp;&nbsp;</span>Imputing within a pipeline</a></span></li><li><span><a href=\"#Exercise\" data-toc-modified-id=\"Exercise-4.2.5\"><span class=\"toc-item-num\">4.2.5&nbsp;&nbsp;</span>Exercise</a></span><ul class=\"toc-item\"><li><span><a href=\"#Dropping-missing-data\" data-toc-modified-id=\"Dropping-missing-data-4.2.5.1\"><span class=\"toc-item-num\">4.2.5.1&nbsp;&nbsp;</span>Dropping missing data</a></span></li><li><span><a href=\"#Imputing-missing-data-in-a-ML-Pipeline-I\" data-toc-modified-id=\"Imputing-missing-data-in-a-ML-Pipeline-I-4.2.5.2\"><span class=\"toc-item-num\">4.2.5.2&nbsp;&nbsp;</span>Imputing missing data in a ML Pipeline I</a></span></li><li><span><a href=\"#Imputing-missing-data-in-a-ML-Pipeline-II\" data-toc-modified-id=\"Imputing-missing-data-in-a-ML-Pipeline-II-4.2.5.3\"><span class=\"toc-item-num\">4.2.5.3&nbsp;&nbsp;</span>Imputing missing data in a ML Pipeline II</a></span></li></ul></li></ul></li><li><span><a href=\"#Centering-and-scaling\" data-toc-modified-id=\"Centering-and-scaling-4.3\"><span class=\"toc-item-num\">4.3&nbsp;&nbsp;</span>Centering and scaling</a></span><ul class=\"toc-item\"><li><span><a href=\"#Why-scale-your-data?\" data-toc-modified-id=\"Why-scale-your-data?-4.3.1\"><span class=\"toc-item-num\">4.3.1&nbsp;&nbsp;</span>Why scale your data?</a></span></li></ul></li><li><span><a href=\"#Ways-to-normalize-your-data\" data-toc-modified-id=\"Ways-to-normalize-your-data-4.4\"><span class=\"toc-item-num\">4.4&nbsp;&nbsp;</span>Ways to normalize your data</a></span><ul class=\"toc-item\"><li><span><a href=\"#Scaling-in-scikit-learn\" data-toc-modified-id=\"Scaling-in-scikit-learn-4.4.1\"><span class=\"toc-item-num\">4.4.1&nbsp;&nbsp;</span>Scaling in scikit-learn</a></span></li><li><span><a href=\"#Scaling-in-a-pipeline\" data-toc-modified-id=\"Scaling-in-a-pipeline-4.4.2\"><span class=\"toc-item-num\">4.4.2&nbsp;&nbsp;</span>Scaling in a pipeline</a></span></li><li><span><a href=\"#CV-and-scaling-in-a-pipeline\" data-toc-modified-id=\"CV-and-scaling-in-a-pipeline-4.4.3\"><span class=\"toc-item-num\">4.4.3&nbsp;&nbsp;</span>CV and scaling in a pipeline</a></span></li><li><span><a href=\"#Scaling-and-CV-in-a-pipeline\" data-toc-modified-id=\"Scaling-and-CV-in-a-pipeline-4.4.4\"><span class=\"toc-item-num\">4.4.4&nbsp;&nbsp;</span>Scaling and CV in a pipeline</a></span></li><li><span><a href=\"#Exercise\" data-toc-modified-id=\"Exercise-4.4.5\"><span class=\"toc-item-num\">4.4.5&nbsp;&nbsp;</span>Exercise</a></span><ul class=\"toc-item\"><li><span><a href=\"#Centering-and-scaling-your-data\" data-toc-modified-id=\"Centering-and-scaling-your-data-4.4.5.1\"><span class=\"toc-item-num\">4.4.5.1&nbsp;&nbsp;</span>Centering and scaling your data</a></span></li><li><span><a href=\"#Centering-and-scaling-in-a-pipeline\" data-toc-modified-id=\"Centering-and-scaling-in-a-pipeline-4.4.5.2\"><span class=\"toc-item-num\">4.4.5.2&nbsp;&nbsp;</span>Centering and scaling in a pipeline</a></span></li><li><span><a href=\"#Bringing-it-all-together-I:-Pipeline-for-classification\" data-toc-modified-id=\"Bringing-it-all-together-I:-Pipeline-for-classification-4.4.5.3\"><span class=\"toc-item-num\">4.4.5.3&nbsp;&nbsp;</span>Bringing it all together I: Pipeline for classification</a></span></li><li><span><a href=\"#Bringing-it-all-together-II:-Pipeline-for-regression\" data-toc-modified-id=\"Bringing-it-all-together-II:-Pipeline-for-regression-4.4.5.4\"><span class=\"toc-item-num\">4.4.5.4&nbsp;&nbsp;</span>Bringing it all together II: Pipeline for regression</a></span></li></ul></li></ul></li></ul></li></ul></div>"
   ]
  },
  {
   "cell_type": "markdown",
   "metadata": {},
   "source": [
    "# Classification"
   ]
  },
  {
   "cell_type": "markdown",
   "metadata": {},
   "source": [
    "## Supervised learning"
   ]
  },
  {
   "cell_type": "markdown",
   "metadata": {},
   "source": [
    "### Unsupervised learning: Uses unlabeled data\n",
    "\n",
    "- Uncovering hidden patterns from unlabeled data\n",
    "- Example:\n",
    "    - Grouping customers into distinct categories (Clustering)"
   ]
  },
  {
   "cell_type": "markdown",
   "metadata": {},
   "source": [
    "### Reinforcement learning\n",
    "\n",
    "- Software agents interact with an environment\n",
    "    - Learn how to optimize their behavior\n",
    "    - Given a system of rewards and punishments \n",
    "    - Draws inspiration from behavioral psychology\n",
    "    \n",
    "- Applications\n",
    "    - Economics\n",
    "    - Genetics\n",
    "    - Game playing\n",
    "    \n",
    "- AlphaGo: First computer to defeat the world champion in Go"
   ]
  },
  {
   "cell_type": "markdown",
   "metadata": {},
   "source": [
    "### Supervised learning\n",
    "- Predictor variables/features and a target variable\n",
    "- Aim: Predict the target variable, given the predictor variables\n",
    "    - Classification: Target variable consists of categories\n",
    "    - Regression: Target variable is continuous"
   ]
  },
  {
   "cell_type": "markdown",
   "metadata": {},
   "source": [
    "### Naming conventions\n",
    "\n",
    "- Features = predictor variables = independent variables\n",
    "- Target variable = dependent variable = response variable"
   ]
  },
  {
   "cell_type": "markdown",
   "metadata": {},
   "source": [
    "### Supervised learning in Python\n",
    "- We will use scikit-learn/sklearn\n",
    "    - Integrates well with the SciPy stack\n",
    "    \n",
    "- Other libraries\n",
    "    - TensorFlow\n",
    "    - keras"
   ]
  },
  {
   "cell_type": "markdown",
   "metadata": {},
   "source": [
    "## Exploratory data analysis"
   ]
  },
  {
   "cell_type": "markdown",
   "metadata": {},
   "source": [
    "### The Iris dataset\n",
    "\n",
    "Features:\n",
    "- Petal length\n",
    "- Petal width\n",
    "- Sepal length\n",
    "- Sepal width\n",
    "\n",
    "Target variable: Species:\n",
    "- Versicolor\n",
    "- Virginica\n",
    "- Setosa"
   ]
  },
  {
   "cell_type": "markdown",
   "metadata": {},
   "source": [
    "### The Iris dataset in scikit-learn"
   ]
  },
  {
   "cell_type": "code",
   "execution_count": 1,
   "metadata": {},
   "outputs": [
    {
     "data": {
      "text/plain": [
       "sklearn.utils.Bunch"
      ]
     },
     "execution_count": 1,
     "metadata": {},
     "output_type": "execute_result"
    }
   ],
   "source": [
    "from sklearn import datasets\n",
    "import pandas as pd\n",
    "import numpy as np\n",
    "import matplotlib.pyplot as plt\n",
    "\n",
    "plt.style.use('ggplot') \n",
    "iris = datasets.load_iris() \n",
    "type(iris)"
   ]
  },
  {
   "cell_type": "code",
   "execution_count": 2,
   "metadata": {},
   "outputs": [
    {
     "name": "stdout",
     "output_type": "stream",
     "text": [
      "dict_keys(['data', 'target', 'target_names', 'DESCR', 'feature_names', 'filename'])\n"
     ]
    }
   ],
   "source": [
    "print(iris.keys())"
   ]
  },
  {
   "cell_type": "code",
   "execution_count": 3,
   "metadata": {},
   "outputs": [
    {
     "data": {
      "text/plain": [
       "(numpy.ndarray, numpy.ndarray)"
      ]
     },
     "execution_count": 3,
     "metadata": {},
     "output_type": "execute_result"
    }
   ],
   "source": [
    "type(iris.data), type(iris.target)"
   ]
  },
  {
   "cell_type": "code",
   "execution_count": 4,
   "metadata": {},
   "outputs": [
    {
     "data": {
      "text/plain": [
       "(150, 4)"
      ]
     },
     "execution_count": 4,
     "metadata": {},
     "output_type": "execute_result"
    }
   ],
   "source": [
    "iris.data.shape"
   ]
  },
  {
   "cell_type": "code",
   "execution_count": 5,
   "metadata": {},
   "outputs": [
    {
     "data": {
      "text/plain": [
       "array(['setosa', 'versicolor', 'virginica'], dtype='<U10')"
      ]
     },
     "execution_count": 5,
     "metadata": {},
     "output_type": "execute_result"
    }
   ],
   "source": [
    "iris.target_names"
   ]
  },
  {
   "cell_type": "markdown",
   "metadata": {},
   "source": [
    "### Exploratory data analysis (EDA)"
   ]
  },
  {
   "cell_type": "code",
   "execution_count": 6,
   "metadata": {},
   "outputs": [
    {
     "name": "stdout",
     "output_type": "stream",
     "text": [
      "   sepal length (cm)  sepal width (cm)  petal length (cm)  petal width (cm)\n",
      "0                5.1               3.5                1.4               0.2\n",
      "1                4.9               3.0                1.4               0.2\n",
      "2                4.7               3.2                1.3               0.2\n",
      "3                4.6               3.1                1.5               0.2\n",
      "4                5.0               3.6                1.4               0.2\n"
     ]
    }
   ],
   "source": [
    "X = iris.data\n",
    "y = iris.target\n",
    "df = pd.DataFrame(X, columns=iris.feature_names) \n",
    "print(df.head())"
   ]
  },
  {
   "cell_type": "markdown",
   "metadata": {},
   "source": [
    "### Visual EDA"
   ]
  },
  {
   "cell_type": "code",
   "execution_count": 7,
   "metadata": {},
   "outputs": [
    {
     "data": {
      "image/png": "[encoded data removed]",
      "text/plain": [
       "<Figure size 576x576 with 16 Axes>"
      ]
     },
     "metadata": {
      "needs_background": "light"
     },
     "output_type": "display_data"
    }
   ],
   "source": [
    "_ = pd.plotting.scatter_matrix(df, c = y, figsize = [8, 8], s=150, marker = 'D')"
   ]
  },
  {
   "cell_type": "markdown",
   "metadata": {},
   "source": [
    "## The classification challenge"
   ]
  },
  {
   "cell_type": "markdown",
   "metadata": {},
   "source": [
    "### k-Nearest Neighbors\n",
    "\n",
    "- Basic idea: Predict the label of a data point by\n",
    "    - Looking at the ‘k’ closest labeled data points\n",
    "    - Taking a majority vote"
   ]
  },
  {
   "cell_type": "markdown",
   "metadata": {},
   "source": [
    "### Scikit-learn fit and predict\n",
    "\n",
    "- All machine learning models implemented as Python classes\n",
    "    - They implement the algorithms for learning and predicting\n",
    "    - Store the information learned from the data\n",
    "    \n",
    "- Training a model on the data = ‘\u0000tting’ a model to the data\n",
    "    - `.fit()` method\n",
    "    - To predict the labels of new data: `.predict()` method"
   ]
  },
  {
   "cell_type": "markdown",
   "metadata": {},
   "source": [
    "### Using scikit-learn to fit a classifier"
   ]
  },
  {
   "cell_type": "code",
   "execution_count": 8,
   "metadata": {},
   "outputs": [
    {
     "data": {
      "text/plain": [
       "KNeighborsClassifier(algorithm='auto', leaf_size=30, metric='minkowski',\n",
       "                     metric_params=None, n_jobs=None, n_neighbors=6, p=2,\n",
       "                     weights='uniform')"
      ]
     },
     "execution_count": 8,
     "metadata": {},
     "output_type": "execute_result"
    }
   ],
   "source": [
    "from sklearn.neighbors import KNeighborsClassifier \n",
    "knn = KNeighborsClassifier(n_neighbors=6) \n",
    "knn.fit(iris['data'], iris['target'])"
   ]
  },
  {
   "cell_type": "code",
   "execution_count": 9,
   "metadata": {},
   "outputs": [
    {
     "data": {
      "text/plain": [
       "(150, 4)"
      ]
     },
     "execution_count": 9,
     "metadata": {},
     "output_type": "execute_result"
    }
   ],
   "source": [
    "iris['data'].shape"
   ]
  },
  {
   "cell_type": "code",
   "execution_count": 10,
   "metadata": {},
   "outputs": [
    {
     "data": {
      "text/plain": [
       "(150,)"
      ]
     },
     "execution_count": 10,
     "metadata": {},
     "output_type": "execute_result"
    }
   ],
   "source": [
    "iris['target'].shape # targets needs to be a single column with the same # of observation as the feature data"
   ]
  },
  {
   "cell_type": "markdown",
   "metadata": {},
   "source": [
    "### Predicting on unlabeled data`"
   ]
  },
  {
   "cell_type": "code",
   "execution_count": 11,
   "metadata": {},
   "outputs": [
    {
     "data": {
      "text/plain": [
       "(3, 4)"
      ]
     },
     "execution_count": 11,
     "metadata": {},
     "output_type": "execute_result"
    }
   ],
   "source": [
    "X_new = np.array(\n",
    "[\n",
    "    [5.6, 2.8, 3.9, 1.1],\n",
    "    [5.7, 3.2, 3.8, 1.3],\n",
    "    [4.7, 3.2, 1.3, 0.2]\n",
    "])   # feature in columns and observation in rows\n",
    "prediction = knn.predict(X_new) \n",
    "X_new.shape # 3 obsevation and 4 colums"
   ]
  },
  {
   "cell_type": "code",
   "execution_count": 12,
   "metadata": {},
   "outputs": [
    {
     "name": "stdout",
     "output_type": "stream",
     "text": [
      "Prediction: [1 1 0]\n"
     ]
    }
   ],
   "source": [
    "print('Prediction: {}'.format(prediction))"
   ]
  },
  {
   "cell_type": "markdown",
   "metadata": {},
   "source": [
    "## Measuring model performance\n"
   ]
  },
  {
   "cell_type": "markdown",
   "metadata": {},
   "source": [
    "### Measuring model performance\n",
    "\n",
    "- In classification, accuracy is a commonly used metric\n",
    "- Accuracy = Fraction of correct predictions\n",
    "- Which data should be used to compute accuracy?\n",
    "- How well will the model perform on new data?\n",
    "\n",
    "\n",
    "- Could compute accuracy on data used to fit classifier\n",
    "- NOT indicative of ability to generalize\n",
    "- Split data into **training** and **test** set\n",
    "- Fit/train the classifier on the training set\n",
    "- Make predictions on test set\n",
    "- Compare predictions with the known labels"
   ]
  },
  {
   "cell_type": "markdown",
   "metadata": {},
   "source": [
    "### Train/test split"
   ]
  },
  {
   "cell_type": "code",
   "execution_count": 13,
   "metadata": {},
   "outputs": [
    {
     "name": "stdout",
     "output_type": "stream",
     "text": [
      "Test set predictions:\n",
      "[2 1 2 2 1 0 1 0 0 1 0 2 0 2 2 0 0 0 1 0 2 2 2 0 1 1 1 0 0 1 2 2 0 0 1 2 2\n",
      " 1 1 2 1 1 0 2 1]\n"
     ]
    }
   ],
   "source": [
    "from sklearn.model_selection import train_test_split\n",
    "\n",
    "# use train_test_split function to randomly split data\n",
    "# firast argument is feature data, the second the targets or labels\n",
    "# returns the training data, test data, training labels, test labels\n",
    "# by default split the data into 75% training data and 25% test data, we specify the size using the test_size \n",
    "# stratify=y:perform the split so that the split reflects the labels on your data, that is the labels to be distributed in train and test sets as they are in original dataset.\n",
    "X_train, X_test, y_train, y_test = train_test_split(X, y, test_size=0.3,\n",
    "    random_state=21, stratify=y) \n",
    "knn = KNeighborsClassifier(n_neighbors=8)\n",
    "knn.fit(X_train, y_train)\n",
    "y_pred = knn.predict(X_test)\n",
    "\n",
    "print(\"Test set predictions:\")\n",
    "print(y_pred)"
   ]
  },
  {
   "cell_type": "code",
   "execution_count": 14,
   "metadata": {},
   "outputs": [
    {
     "data": {
      "text/plain": [
       "0.9555555555555556"
      ]
     },
     "execution_count": 14,
     "metadata": {},
     "output_type": "execute_result"
    }
   ],
   "source": [
    "# check out accuracy of the model\n",
    "knn.score(X_test, y_test)"
   ]
  },
  {
   "cell_type": "markdown",
   "metadata": {},
   "source": [
    "### Model complexity\n",
    "\n",
    "- Larger k = smoother decision boundary = less complex model\n",
    "- Smaller k = more complex model = can lead to overfitting"
   ]
  },
  {
   "cell_type": "markdown",
   "metadata": {},
   "source": [
    "### Exercise: The digits recognition dataset"
   ]
  },
  {
   "cell_type": "code",
   "execution_count": 15,
   "metadata": {},
   "outputs": [
    {
     "name": "stdout",
     "output_type": "stream",
     "text": [
      "dict_keys(['data', 'target', 'target_names', 'images', 'DESCR'])\n",
      ".. _digits_dataset:\n",
      "\n",
      "Optical recognition of handwritten digits dataset\n",
      "--------------------------------------------------\n",
      "\n",
      "**Data Set Characteristics:**\n",
      "\n",
      "    :Number of Instances: 5620\n",
      "    :Number of Attributes: 64\n",
      "    :Attribute Information: 8x8 image of integer pixels in the range 0..16.\n",
      "    :Missing Attribute Values: None\n",
      "    :Creator: E. Alpaydin (alpaydin '@' boun.edu.tr)\n",
      "    :Date: July; 1998\n",
      "\n",
      "This is a copy of the test set of the UCI ML hand-written digits datasets\n",
      "https://archive.ics.uci.edu/ml/datasets/Optical+Recognition+of+Handwritten+Digits\n",
      "\n",
      "The data set contains images of hand-written digits: 10 classes where\n",
      "each class refers to a digit.\n",
      "\n",
      "Preprocessing programs made available by NIST were used to extract\n",
      "normalized bitmaps of handwritten digits from a preprinted form. From a\n",
      "total of 43 people, 30 contributed to the training set and different 13\n",
      "to the test set. 32x32 bitmaps are divided into nonoverlapping blocks of\n",
      "4x4 and the number of on pixels are counted in each block. This generates\n",
      "an input matrix of 8x8 where each element is an integer in the range\n",
      "0..16. This reduces dimensionality and gives invariance to small\n",
      "distortions.\n",
      "\n",
      "For info on NIST preprocessing routines, see M. D. Garris, J. L. Blue, G.\n",
      "T. Candela, D. L. Dimmick, J. Geist, P. J. Grother, S. A. Janet, and C.\n",
      "L. Wilson, NIST Form-Based Handprint Recognition System, NISTIR 5469,\n",
      "1994.\n",
      "\n",
      ".. topic:: References\n",
      "\n",
      "  - C. Kaynak (1995) Methods of Combining Multiple Classifiers and Their\n",
      "    Applications to Handwritten Digit Recognition, MSc Thesis, Institute of\n",
      "    Graduate Studies in Science and Engineering, Bogazici University.\n",
      "  - E. Alpaydin, C. Kaynak (1998) Cascading Classifiers, Kybernetika.\n",
      "  - Ken Tang and Ponnuthurai N. Suganthan and Xi Yao and A. Kai Qin.\n",
      "    Linear dimensionalityreduction using relevance weighted LDA. School of\n",
      "    Electrical and Electronic Engineering Nanyang Technological University.\n",
      "    2005.\n",
      "  - Claudio Gentile. A New Approximate Maximal Margin Classification\n",
      "    Algorithm. NIPS. 2000.\n",
      "(1797, 8, 8)\n",
      "(1797, 64)\n"
     ]
    },
    {
     "data": {
      "image/png": "[encoded data removed]",
      "text/plain": [
       "<Figure size 432x288 with 1 Axes>"
      ]
     },
     "metadata": {
      "needs_background": "light"
     },
     "output_type": "display_data"
    }
   ],
   "source": [
    "# Import necessary modules\n",
    "from sklearn import datasets\n",
    "import matplotlib.pyplot as plt\n",
    "\n",
    "# Load the digits dataset: digits\n",
    "digits = datasets.load_digits()\n",
    "\n",
    "# Print the keys and DESCR of the dataset\n",
    "print(digits.keys())\n",
    "print(digits.DESCR)\n",
    "\n",
    "# Print the shape of the images and data keys\n",
    "print(digits.images.shape)\n",
    "print(digits.data.shape)\n",
    "\n",
    "# Display the 1011th image\n",
    "plt.imshow(digits.images[1010], cmap=plt.cm.gray_r, interpolation='nearest')\n",
    "plt.show()"
   ]
  },
  {
   "cell_type": "markdown",
   "metadata": {},
   "source": [
    "Train/Test Split + Fit/Predict/Accuracy"
   ]
  },
  {
   "cell_type": "code",
   "execution_count": 16,
   "metadata": {},
   "outputs": [
    {
     "name": "stdout",
     "output_type": "stream",
     "text": [
      "0.9833333333333333\n"
     ]
    }
   ],
   "source": [
    "# Import necessary modules\n",
    "from sklearn.neighbors import KNeighborsClassifier\n",
    "from sklearn.model_selection import train_test_split\n",
    "\n",
    "# Create feature and target arrays\n",
    "X = digits.data\n",
    "y = digits.target\n",
    "\n",
    "# Split into training and test set\n",
    "X_train, X_test, y_train, y_test = train_test_split(X, y, test_size = 0.2, random_state=42, stratify=y)\n",
    "\n",
    "# Create a k-NN classifier with 7 neighbors: knn\n",
    "knn = KNeighborsClassifier(n_neighbors=7)\n",
    "\n",
    "# Fit the classifier to the training data\n",
    "knn.fit(X_train, y_train)\n",
    "\n",
    "# Print the accuracy\n",
    "print(knn.score(X_test, y_test))"
   ]
  },
  {
   "cell_type": "markdown",
   "metadata": {},
   "source": [
    "Overfitting and underfitting\n",
    "\n",
    "In this exercise, you will compute and plot the training and testing accuracy scores for a variety of different neighbor values. By observing how the accuracy scores differ for the training and testing sets with different values of k, you will develop your intuition for overfitting and underfitting."
   ]
  },
  {
   "cell_type": "code",
   "execution_count": 17,
   "metadata": {},
   "outputs": [
    {
     "data": {
      "image/png": "[encoded data removed]",
      "text/plain": [
       "<Figure size 432x288 with 1 Axes>"
      ]
     },
     "metadata": {
      "needs_background": "light"
     },
     "output_type": "display_data"
    }
   ],
   "source": [
    "# Setup arrays to store train and test accuracies\n",
    "neighbors = np.arange(1, 9)\n",
    "train_accuracy = np.empty(len(neighbors))\n",
    "test_accuracy = np.empty(len(neighbors))\n",
    "\n",
    "# Loop over different values of k\n",
    "for i, k in enumerate(neighbors):\n",
    "    # Setup a k-NN Classifier with k neighbors: knn\n",
    "    knn = KNeighborsClassifier(n_neighbors=k)\n",
    "\n",
    "    # Fit the classifier to the training data\n",
    "    knn.fit(X_train, y_train)\n",
    "    \n",
    "    #Compute accuracy on the training set\n",
    "    train_accuracy[i] = knn.score(X_train, y_train)\n",
    "\n",
    "    #Compute accuracy on the testing set\n",
    "    test_accuracy[i] = knn.score(X_test, y_test)\n",
    "\n",
    "# Generate plot\n",
    "plt.title('k-NN: Varying Number of Neighbors')\n",
    "plt.plot(neighbors, test_accuracy, label = 'Testing Accuracy')\n",
    "plt.plot(neighbors, train_accuracy, label = 'Training Accuracy')\n",
    "plt.legend()\n",
    "plt.xlabel('Number of Neighbors')\n",
    "plt.ylabel('Accuracy')\n",
    "plt.show()\n",
    "\n",
    "# It looks like the test accuracy is highest when using 3 and 5 neighbors. \n",
    "# Using 8 neighbors or more seems to result in a simple model that underfits the data. "
   ]
  },
  {
   "cell_type": "markdown",
   "metadata": {},
   "source": [
    "# Regression"
   ]
  },
  {
   "cell_type": "markdown",
   "metadata": {},
   "source": [
    "## Introduction to regression"
   ]
  },
  {
   "cell_type": "markdown",
   "metadata": {},
   "source": [
    "### Boston housing data"
   ]
  },
  {
   "cell_type": "code",
   "execution_count": 18,
   "metadata": {},
   "outputs": [
    {
     "name": "stdout",
     "output_type": "stream",
     "text": [
      "      CRIM    ZN  INDUS  CHAS    NOX     RM   AGE     DIS  RAD    TAX  \\\n",
      "0  0.00632  18.0   2.31   0.0  0.538  6.575  65.2  4.0900  1.0  296.0   \n",
      "1  0.02731   0.0   7.07   0.0  0.469  6.421  78.9  4.9671  2.0  242.0   \n",
      "2  0.02729   0.0   7.07   0.0  0.469  7.185  61.1  4.9671  2.0  242.0   \n",
      "3  0.03237   0.0   2.18   0.0  0.458  6.998  45.8  6.0622  3.0  222.0   \n",
      "4  0.06905   0.0   2.18   0.0  0.458  7.147  54.2  6.0622  3.0  222.0   \n",
      "\n",
      "   PTRATIO       B  LSTAT  MEDV  \n",
      "0     15.3  396.90   4.98  24.0  \n",
      "1     17.8  396.90   9.14  21.6  \n",
      "2     17.8  392.83   4.03  34.7  \n",
      "3     18.7  394.63   2.94  33.4  \n",
      "4     18.7  396.90   5.33  36.2  \n"
     ]
    }
   ],
   "source": [
    "from sklearn import datasets\n",
    "boston_data = datasets.load_boston()\n",
    "\n",
    "# change to dataframe \n",
    "boston = pd.DataFrame(boston_data.data, columns=boston_data.feature_names)\n",
    "boston['MEDV'] = pd.Series(boston_data.target)\n",
    "print(boston.head())"
   ]
  },
  {
   "cell_type": "markdown",
   "metadata": {},
   "source": [
    "### Creating feature and target arrays"
   ]
  },
  {
   "cell_type": "code",
   "execution_count": 19,
   "metadata": {},
   "outputs": [],
   "source": [
    "X = boston.drop('MEDV', axis=1).values\n",
    "y = boston['MEDV'].values"
   ]
  },
  {
   "cell_type": "markdown",
   "metadata": {},
   "source": [
    "### Predicting house value from a single feature"
   ]
  },
  {
   "cell_type": "code",
   "execution_count": 20,
   "metadata": {},
   "outputs": [
    {
     "data": {
      "text/plain": [
       "(numpy.ndarray, numpy.ndarray)"
      ]
     },
     "execution_count": 20,
     "metadata": {},
     "output_type": "execute_result"
    }
   ],
   "source": [
    "# single feature: the average num of romms in a block\n",
    "X_rooms = X[:,5] # fifth column\n",
    "# check type\n",
    "type(X_rooms), type(y)"
   ]
  },
  {
   "cell_type": "code",
   "execution_count": 21,
   "metadata": {},
   "outputs": [
    {
     "data": {
      "text/plain": [
       "(506, 1)"
      ]
     },
     "execution_count": 21,
     "metadata": {},
     "output_type": "execute_result"
    }
   ],
   "source": [
    "# Keep the first dimension, but add another dimension of size one to X,from (506,) to (506, 1)\n",
    "y = y.reshape(-1, 1)\n",
    "X_rooms = X_rooms.reshape(-1, 1) \n",
    "X_rooms.shape "
   ]
  },
  {
   "cell_type": "markdown",
   "metadata": {},
   "source": [
    "### Plotting house value vs. number of rooms"
   ]
  },
  {
   "cell_type": "code",
   "execution_count": 22,
   "metadata": {},
   "outputs": [
    {
     "data": {
      "image/png": "[encoded data removed]",
      "text/plain": [
       "<Figure size 432x288 with 1 Axes>"
      ]
     },
     "metadata": {
      "needs_background": "light"
     },
     "output_type": "display_data"
    }
   ],
   "source": [
    "plt.scatter(X_rooms, y) \n",
    "plt.ylabel('Value of house /1000 ($)') \n",
    "plt.xlabel('Number of rooms') \n",
    "plt.show();\n",
    "\n",
    "# more rooms leads to higher prices"
   ]
  },
  {
   "cell_type": "markdown",
   "metadata": {},
   "source": [
    "### Fitting a regression model"
   ]
  },
  {
   "cell_type": "code",
   "execution_count": 23,
   "metadata": {},
   "outputs": [],
   "source": [
    "import numpy as np\n",
    "from sklearn.linear_model import LinearRegression\n",
    "\n",
    "# instantiate LinearRegression as reg\n",
    "reg = LinearRegression()\n",
    "# fit regressor to the data\n",
    "reg.fit(X_rooms, y)\n",
    "# check out the regressors predictions over the range of the data by using np.linspace between the maximum\n",
    "# and minimum number of rooms and make prediction for this data\n",
    "prediction_space = np.linspace(min(X_rooms),\n",
    "    max(X_rooms)).reshape(-1, 1)"
   ]
  },
  {
   "cell_type": "code",
   "execution_count": 24,
   "metadata": {},
   "outputs": [
    {
     "data": {
      "image/png": "[encoded data removed]",
      "text/plain": [
       "<Figure size 432x288 with 1 Axes>"
      ]
     },
     "metadata": {
      "needs_background": "light"
     },
     "output_type": "display_data"
    }
   ],
   "source": [
    "plt.scatter(X_rooms, y, color='blue') \n",
    "plt.plot(prediction_space, reg.predict(prediction_space),\n",
    "    color='black', linewidth=3)\n",
    "plt.show()"
   ]
  },
  {
   "cell_type": "markdown",
   "metadata": {},
   "source": [
    "## The basics of linear regression"
   ]
  },
  {
   "cell_type": "markdown",
   "metadata": {},
   "source": [
    "### Regression mechanics\n",
    "\n",
    "- y = ax + b\n",
    "- x = single feature\n",
    "- a, b = parameters of model\n",
    "\n",
    "- How do we choose a and b?\n",
    "- Define an **error functions** for any given line\n",
    "    - Choose the line that minimizes the error function"
   ]
  },
  {
   "cell_type": "markdown",
   "metadata": {},
   "source": [
    "### The loss function\n",
    "\n",
    "Ordinary least squares(OLS): Minimize sum of squares of residuals"
   ]
  },
  {
   "cell_type": "markdown",
   "metadata": {},
   "source": [
    "### Linear regression in higher dimensions\n",
    "\n",
    "$y = a_1x_1 +a_2x_2 + b$\n",
    "\n",
    "- To fit a linear regression model here:\n",
    "    - Need to specify 3 variables\n",
    "    \n",
    "- In higher dimensions:\n",
    "    - Must specify coefficient for each feature and the variable b   \n",
    "       $y = a_1x_1 +a_2x_2 + a_3x_3+ \\dots +a_nx_n +b$\n",
    "       \n",
    "- Scikit-learn API works exactly the same way: \n",
    "    - Pass two arrays: Features, and target"
   ]
  },
  {
   "cell_type": "markdown",
   "metadata": {},
   "source": [
    "### Linear regression on all features"
   ]
  },
  {
   "cell_type": "code",
   "execution_count": 25,
   "metadata": {},
   "outputs": [
    {
     "data": {
      "text/plain": [
       "0.711226005748496"
      ]
     },
     "execution_count": 25,
     "metadata": {},
     "output_type": "execute_result"
    }
   ],
   "source": [
    "from sklearn.model_selection import train_test_split \n",
    "from sklearn.linear_model import LinearRegression\n",
    "\n",
    "X_train, X_test, y_train, y_test = train_test_split(X, y, test_size = 0.3, random_state=42)\n",
    "reg_all = LinearRegression()\n",
    "reg_all.fit(X_train, y_train) \n",
    "y_pred = reg_all.predict(X_test)\n",
    "reg_all.score(X_test, y_test)"
   ]
  },
  {
   "cell_type": "markdown",
   "metadata": {},
   "source": [
    "## Cross-validation\n",
    "Cross-validation is a vital step in evaluating a model. It maximizes the amount of data that is used to train the model, as during the course of training, the model is not only trained, but also tested on all of the available data."
   ]
  },
  {
   "cell_type": "markdown",
   "metadata": {},
   "source": [
    "### Cross-validation motivation\n",
    "\n",
    "- Model performance is dependent on way the data is split\n",
    "- Not representative of the model’s ability to generalize\n",
    "- Solution: Cross-validation!\n",
    "\n",
    "### Cross-validation and model performance\n",
    "- Cross-validation and model performance\n",
    "- 10 folds = 10-fold CV\n",
    "- k folds = k-fold CV\n",
    "- More folds = More computationally expensive"
   ]
  },
  {
   "cell_type": "markdown",
   "metadata": {},
   "source": [
    "### Cross-validation in scikit-learn"
   ]
  },
  {
   "cell_type": "code",
   "execution_count": 26,
   "metadata": {},
   "outputs": [
    {
     "name": "stdout",
     "output_type": "stream",
     "text": [
      "[ 0.63919994  0.71386698  0.58702344  0.07923081 -0.25294154]\n"
     ]
    }
   ],
   "source": [
    "from sklearn.model_selection import cross_val_score \n",
    "from sklearn.linear_model import LinearRegression\n",
    "\n",
    "# instantiate model\n",
    "reg = LinearRegression()\n",
    "# call cross val score with the regressor, the feature data and the target data as the first three positional argument \n",
    "# specify the numver of fold with cv\n",
    "cv_results = cross_val_score(reg, X, y, cv=5) \n",
    "# the length of the array is the number of folds utilized\n",
    "# note that the score reported is R square(default score for linear regression)\n",
    "print(cv_results)"
   ]
  },
  {
   "cell_type": "code",
   "execution_count": 27,
   "metadata": {},
   "outputs": [
    {
     "data": {
      "text/plain": [
       "0.3532759243958772"
      ]
     },
     "execution_count": 27,
     "metadata": {},
     "output_type": "execute_result"
    }
   ],
   "source": [
    "np.mean(cv_results)"
   ]
  },
  {
   "cell_type": "markdown",
   "metadata": {},
   "source": [
    "## Regularized regression\n",
    "\n",
    "[Linear least squares, Lasso,ridge regression有何本质区别?](https://www.zhihu.com/question/38121173)\n",
    "\n",
    "Why regularize?\n",
    "- Recall: Linear regression minimizes a loss function\n",
    "- It chooses a coefficient for each feature variable\n",
    "- Large coefficients can lead to overfitting\n",
    "- Penalizing large coefficients: Regularization"
   ]
  },
  {
   "cell_type": "markdown",
   "metadata": {},
   "source": [
    "### Ridge regression\n",
    "\n",
    "- Loss function = OLS loss function + $\\alpha * \\sum_{i=1}^n \\alpha_i^2$\n",
    "- Alpha: Parameter we need to choose\n",
    "- Picking alpha here is similar to picking k in k-NN\n",
    "- Hyperparameter tuning (More in Chapter 3)\n",
    "- Alpha controls model complexity\n",
    "    - Alpha = 0: We get back OLS (Can lead to overfitting)\n",
    "    - Very high alpha: Can lead to underfitting"
   ]
  },
  {
   "cell_type": "code",
   "execution_count": 28,
   "metadata": {},
   "outputs": [
    {
     "data": {
      "text/plain": [
       "0.6996938275127313"
      ]
     },
     "execution_count": 28,
     "metadata": {},
     "output_type": "execute_result"
    }
   ],
   "source": [
    "from sklearn.linear_model import Ridge\n",
    "\n",
    "X_train, X_test, y_train, y_test = train_test_split(X, y, test_size = 0.3, random_state=42)\n",
    "# set up alpha, normalize insure all the variables are on the same scale \n",
    "ridge = Ridge(alpha=0.1, normalize=True) \n",
    "ridge.fit(X_train, y_train)\n",
    "ridge_pred = ridge.predict(X_test)\n",
    "ridge.score(X_test, y_test)"
   ]
  },
  {
   "cell_type": "markdown",
   "metadata": {},
   "source": [
    "### Lasso regression\n",
    "\n",
    "- Loss function = OLS loss function + $\\alpha * \\sum_{i=1}^n |\\alpha_i|$"
   ]
  },
  {
   "cell_type": "code",
   "execution_count": 29,
   "metadata": {},
   "outputs": [
    {
     "data": {
      "text/plain": [
       "0.5950229535328551"
      ]
     },
     "execution_count": 29,
     "metadata": {},
     "output_type": "execute_result"
    }
   ],
   "source": [
    "from sklearn.linear_model import Lasso\n",
    "\n",
    "X_train, X_test, y_train, y_test = train_test_split(X, y,\n",
    "    test_size = 0.3, random_state=42)\n",
    "lasso = Lasso(alpha=0.1, normalize=True) \n",
    "# Fit the regressor to the data\n",
    "lasso.fit(X_train, y_train)\n",
    "lasso_pred = lasso.predict(X_test) \n",
    "lasso.score(X_test, y_test)"
   ]
  },
  {
   "cell_type": "markdown",
   "metadata": {},
   "source": [
    "### Lasso regression for feature selection\n",
    "\n",
    "- Can be used to **select important features** of a dataset\n",
    "- Shrinks the coefficients of less important features to exactly 0"
   ]
  },
  {
   "cell_type": "code",
   "execution_count": 30,
   "metadata": {},
   "outputs": [
    {
     "data": {
      "image/png": "[encoded data removed]",
      "text/plain": [
       "<Figure size 432x288 with 1 Axes>"
      ]
     },
     "metadata": {
      "needs_background": "light"
     },
     "output_type": "display_data"
    }
   ],
   "source": [
    "from sklearn.linear_model import Lasso \n",
    "names = boston.drop('MEDV', axis=1).columns \n",
    "lasso = Lasso(alpha=0.1)\n",
    "# Compute and print the coefficients,extract the coef attribute and store in lasso coef\n",
    "lasso_coef = lasso.fit(X, y).coef_\n",
    "# plotting the coefficients as a function of feature name\n",
    "_ = plt.plot(range(len(names)), lasso_coef)\n",
    "_ = plt.xticks(range(len(names)), names, rotation=60) \n",
    "_ = plt.ylabel('Coefficients')\n",
    "plt.show()\n",
    "# Lasso selected out the 'RM' feature as being the most important for predicting \n",
    "# Boston house prices, while shrinking the coefficients of certain other features to 0."
   ]
  },
  {
   "cell_type": "markdown",
   "metadata": {},
   "source": [
    "# Fine-tuning your model\n"
   ]
  },
  {
   "cell_type": "markdown",
   "metadata": {},
   "source": [
    "## How good is your model?"
   ]
  },
  {
   "cell_type": "markdown",
   "metadata": {},
   "source": [
    "### Classification metrics\n",
    "\n",
    "- Measuring model performance with accuracy:\n",
    "    - Fraction of correctly classified samples\n",
    "    - Not always a useful metric\n",
    "    \n",
    "### Class imbalance example: Emails\n",
    "\n",
    "- Spam classification\n",
    "    - 99% of emails are real; 1% of emails are spam\n",
    "- Could build a classifier that predicts ALL emails as real\n",
    "    - 99% accurate!\n",
    "    - But horrible at actually classifying spam\n",
    "    - Fails at its original purpose\n",
    "- Need more nuanced metrics\n",
    "\n",
    "### Diagnosing classification predictions\n",
    "\n",
    "- Confusion matrix   \n",
    "\n",
    "|                    | Predicted: Spam Email | Predicted: Real Email |\n",
    "|--------------------|-----------------------|-----------------------|\n",
    "| Actual: Spam Email | True Positive         | False Negative        |\n",
    "| Actual: Real Email | False Positive        | True Negative         |\n",
    "\n",
    "### Metrics from the confusion matrix\n",
    "\n",
    "- Accuracy:$\\frac{tp+tn}{tp+tn+fp+fn}$\n",
    "\n",
    "- Precision:$\\frac{tp}{tp+fp}$\n",
    "\n",
    "- Recall: $\\frac{tp}{tp+fn}$\n",
    "\n",
    "- F1score: $2* \\frac{Precision* Recall}{Precisio+Recall}$\n",
    "\n",
    "- High precision: Not many real emails predicted as spam\n",
    "\n",
    "- High recall: Predicted most spam emails correctly"
   ]
  },
  {
   "cell_type": "code",
   "execution_count": 31,
   "metadata": {},
   "outputs": [],
   "source": [
    "iris = datasets.load_iris() \n",
    "X = iris.data\n",
    "y = iris.target\n",
    "df = pd.DataFrame(X, columns=iris.feature_names) \n",
    "\n",
    "# Import necessary modules\n",
    "from sklearn.metrics import classification_report \n",
    "from sklearn.metrics import confusion_matrix\n",
    "\n",
    "# Instantiate a k-NN classifier: knn\n",
    "knn = KNeighborsClassifier(n_neighbors=8)\n",
    "# Create training and test set\n",
    "X_train, X_test, y_train, y_test = train_test_split(X, y,\n",
    "    test_size=0.4, random_state=42)\n",
    "# Fit the classifier to the training data\n",
    "knn.fit(X_train, y_train)\n",
    "# Predict the labels of the test data: y_pred\n",
    "y_pred = knn.predict(X_test)"
   ]
  },
  {
   "cell_type": "code",
   "execution_count": 32,
   "metadata": {},
   "outputs": [
    {
     "name": "stdout",
     "output_type": "stream",
     "text": [
      "[[23  0  0]\n",
      " [ 0 19  0]\n",
      " [ 0  1 17]]\n"
     ]
    }
   ],
   "source": [
    "# compute confusion matrix\n",
    "print(confusion_matrix(y_test, y_pred))"
   ]
  },
  {
   "cell_type": "code",
   "execution_count": 33,
   "metadata": {},
   "outputs": [
    {
     "name": "stdout",
     "output_type": "stream",
     "text": [
      "              precision    recall  f1-score   support\n",
      "\n",
      "           0       1.00      1.00      1.00        23\n",
      "           1       0.95      1.00      0.97        19\n",
      "           2       1.00      0.94      0.97        18\n",
      "\n",
      "    accuracy                           0.98        60\n",
      "   macro avg       0.98      0.98      0.98        60\n",
      "weighted avg       0.98      0.98      0.98        60\n",
      "\n"
     ]
    }
   ],
   "source": [
    "# compute result matrix\n",
    "print(classification_report(y_test, y_pred))"
   ]
  },
  {
   "cell_type": "markdown",
   "metadata": {},
   "source": [
    "## Logistic regression and the ROC curve"
   ]
  },
  {
   "cell_type": "markdown",
   "metadata": {},
   "source": [
    "### Logistic regression for binary classification\n",
    "\n",
    "- Logistic regression outputs probabilities\n",
    "- If the probability ‘p’ is greater than 0.5:\n",
    "    - The data is labeled ‘1’\n",
    "- If the probability ‘p’ is less than 0.5:\n",
    "    - The data is labeled ‘0’"
   ]
  },
  {
   "cell_type": "code",
   "execution_count": 88,
   "metadata": {},
   "outputs": [],
   "source": [
    "from sklearn.linear_model import LogisticRegression \n",
    "from sklearn.model_selection import train_test_split\n",
    "\n",
    "import warnings\n",
    "warnings.filterwarnings(\"ignore\", category=FutureWarning)\n",
    "\n",
    "logreg = LogisticRegression()\n",
    "X_train, X_test, y_train, y_test = train_test_split(X, y, test_size=0.4, random_state=42)\n",
    "logreg.fit(X_train, y_train) \n",
    "y_pred = logreg.predict(X_test)"
   ]
  },
  {
   "cell_type": "markdown",
   "metadata": {},
   "source": [
    "### Probability thresholds\n",
    "\n",
    "- By default, logistic regression threshold = 0.5\n",
    "- Not specific to logistic regression\n",
    "    - k-NN classifiers also have thresholds\n",
    "- What happens if we vary the threshold?"
   ]
  },
  {
   "cell_type": "markdown",
   "metadata": {},
   "source": [
    "### Exercise\n",
    "\n",
    "#### Building a logistic regression model\n",
    "\n",
    "Time to build your first logistic regression model! scikit-learn makes it very easy to try different models, since the Train-Test-Split/Instantiate/Fit/Predict paradigm applies to all classifiers and regressors - which are known in scikit-learn as 'estimators'. You'll see this now for yourself as you train a logistic regression model on exactly the same data as in the previous exercise. Will it outperform k-NN? There's only one way to find out!"
   ]
  },
  {
   "cell_type": "code",
   "execution_count": 37,
   "metadata": {},
   "outputs": [],
   "source": [
    "diabetes = pd.read_csv(\"data/diabetes.csv\")\n",
    "\n",
    "X = diabetes.drop('diabetes', axis=1).values\n",
    "y = diabetes['diabetes'].values"
   ]
  },
  {
   "cell_type": "code",
   "execution_count": 38,
   "metadata": {},
   "outputs": [
    {
     "name": "stdout",
     "output_type": "stream",
     "text": [
      "[[174  32]\n",
      " [ 36  66]]\n",
      "              precision    recall  f1-score   support\n",
      "\n",
      "           0       0.83      0.84      0.84       206\n",
      "           1       0.67      0.65      0.66       102\n",
      "\n",
      "    accuracy                           0.78       308\n",
      "   macro avg       0.75      0.75      0.75       308\n",
      "weighted avg       0.78      0.78      0.78       308\n",
      "\n"
     ]
    }
   ],
   "source": [
    "# Import the necessary modules\n",
    "from sklearn.linear_model import LogisticRegression \n",
    "from sklearn.metrics import confusion_matrix, classification_report\n",
    "\n",
    "# Create training and test sets\n",
    "X_train, X_test, y_train, y_test = train_test_split(X, y, test_size = 0.4, random_state=42)\n",
    "\n",
    "# Create the classifier: logreg\n",
    "logreg = LogisticRegression()\n",
    "\n",
    "# Fit the classifier to the training data\n",
    "logreg.fit(X_train, y_train)\n",
    "\n",
    "# Predict the labels of the test set: y_pred\n",
    "y_pred = logreg.predict(X_test)\n",
    "\n",
    "# Compute and print the confusion matrix and classification report\n",
    "print(confusion_matrix(y_test, y_pred))\n",
    "print(classification_report(y_test, y_pred))"
   ]
  },
  {
   "cell_type": "markdown",
   "metadata": {},
   "source": [
    "#### Plotting an ROC curve\n",
    "\n",
    "Classification reports and confusion matrices are great methods to quantitatively evaluate model performance, while ROC curves provide a way to visually evaluate models. As Hugo demonstrated in the video, most classifiers in scikit-learn have a `.predict_proba()` method which returns the probability of a given sample being in a particular class. Having built a logistic regression model, you'll now evaluate its performance by plotting an ROC curve. In doing so, you'll make use of the `.predict_proba()` method and become familiar with its functionality.\n",
    "\n",
    "Here, you'll continue working with the PIMA Indians diabetes dataset. The classifier has already been fit to the training data and is available as `logreg`."
   ]
  },
  {
   "cell_type": "code",
   "execution_count": 39,
   "metadata": {},
   "outputs": [
    {
     "data": {
      "image/png": "[encoded data removed]",
      "text/plain": [
       "<Figure size 432x288 with 1 Axes>"
      ]
     },
     "metadata": {
      "needs_background": "light"
     },
     "output_type": "display_data"
    }
   ],
   "source": [
    "# Import necessary modules\n",
    "from sklearn.metrics import roc_curve\n",
    "\n",
    "# Compute predicted probabilities: y_pred_prob\n",
    "y_pred_prob = logreg.predict_proba(X_test)[:,1]\n",
    "\n",
    "# Generate ROC curve values: fpr, tpr, thresholds\n",
    "fpr, tpr, thresholds = roc_curve(y_test, y_pred_prob)\n",
    "\n",
    "# Plot ROC curve\n",
    "plt.plot([0, 1], [0, 1], 'k--')\n",
    "plt.plot(fpr, tpr)\n",
    "plt.xlabel('False Positive Rate')\n",
    "plt.ylabel('True Positive Rate')\n",
    "plt.title('ROC Curve')\n",
    "plt.show()"
   ]
  },
  {
   "cell_type": "markdown",
   "metadata": {},
   "source": [
    "## Area under the ROC curve\n",
    "\n",
    "- Larger area under the ROC curve(AUC) = better model\n",
    "\n",
    "### Exercise\n",
    "\n",
    "\n",
    "#### AUC computation\n",
    "Say you have a binary classifier that in fact is just randomly making guesses. It would be correct approximately 50% of the time, and the resulting ROC curve would be a diagonal line in which the True Positive Rate and False Positive Rate are always equal. The Area under this ROC curve would be 0.5. This is one way in which the AUC, is an informative metric to evaluate a model. If the AUC is greater than 0.5, the model is better than random guessing. Always a good sign!\n",
    "\n",
    "In this exercise, you'll calculate AUC scores using the `roc_auc_score()` function from `sklearn.metrics` as well as by performing cross-validation on the diabetes dataset."
   ]
  },
  {
   "cell_type": "code",
   "execution_count": 40,
   "metadata": {},
   "outputs": [
    {
     "name": "stdout",
     "output_type": "stream",
     "text": [
      "AUC: 0.8268608414239482\n",
      "AUC scores computed using 5-fold cross-validation: [0.7987037  0.80777778 0.81944444 0.86622642 0.85037736]\n"
     ]
    }
   ],
   "source": [
    "# Import necessary modules\n",
    "from sklearn.metrics import roc_auc_score\n",
    "from sklearn.model_selection import cross_val_score\n",
    "\n",
    "# Compute predicted probabilities: y_pred_prob\n",
    "y_pred_prob = logreg.predict_proba(X_test)[:,1]\n",
    "\n",
    "# Compute and print AUC score\n",
    "print(\"AUC: {}\".format(roc_auc_score(y_test, y_pred_prob)))\n",
    "\n",
    "# Compute cross-validated AUC scores: cv_auc\n",
    "cv_auc = cross_val_score(logreg, X, y, cv=5, scoring='roc_auc')\n",
    "\n",
    "# Print list of AUC scores\n",
    "print(\"AUC scores computed using 5-fold cross-validation: {}\".format(cv_auc))"
   ]
  },
  {
   "cell_type": "markdown",
   "metadata": {},
   "source": [
    "## Hyperparameter tuning\n",
    "\n",
    "- Linear regression: Choosing parameters\n",
    "- Ridge/lasso regression: Choosing alpha\n",
    "- k-Nearest Neighbors: Choosing n_neighbors Parameters like alpha and k: Hyperparameters \n",
    "- Hyperparameters cannot be learned by fitting the model\n",
    "\n",
    "### Choosing the correct hyperparameter\n",
    "- Try a bunch of different hyperparameter values Fit all of them separately\n",
    "- See how well each performs\n",
    "- Choose the best performing one\n",
    "- It is essential to use cross-validation\n",
    "\n",
    "### GridSearchCV in scikit-learn"
   ]
  },
  {
   "cell_type": "code",
   "execution_count": 41,
   "metadata": {},
   "outputs": [
    {
     "data": {
      "text/plain": [
       "{'n_neighbors': 14}"
      ]
     },
     "execution_count": 41,
     "metadata": {},
     "output_type": "execute_result"
    }
   ],
   "source": [
    "from sklearn.model_selection import GridSearchCV\n",
    "# specify the hyperparameter as a dictionary in which the keys are the dictionary \n",
    "# which the keys are the hyperparameter names, such as n_neighbors in KNN or alpha in lasso regression.\n",
    "# The values in the grid dictionary are lists containing the values we wish to tune the relevant hyperparameter(s) over\n",
    "# if specify multiple parameters, all possible combinations will be tried\n",
    "param_grid = {'n_neighbors': np.arange(1, 50)} \n",
    "# ibnstantiate classifier\n",
    "knn = KNeighborsClassifier()\n",
    "# pass our model(knn), the gird we wish to tune over(param_grid) and the # of folds that we wish to use\n",
    "knn_cv = GridSearchCV(knn, param_grid, cv=5) # return a GridSearch object that can fit the data\n",
    "# This fit performs the actual grid search inplace\n",
    "knn_cv.fit(X, y)\n",
    "# apply the attributes beat params, to show the hyperparameter perform the best\n",
    "knn_cv.best_params_"
   ]
  },
  {
   "cell_type": "code",
   "execution_count": 42,
   "metadata": {},
   "outputs": [
    {
     "data": {
      "text/plain": [
       "0.7578125"
      ]
     },
     "execution_count": 42,
     "metadata": {},
     "output_type": "execute_result"
    }
   ],
   "source": [
    "# apply the attributes beat score(mean cross validation score over that fold)\n",
    "knn_cv.best_score_"
   ]
  },
  {
   "cell_type": "markdown",
   "metadata": {},
   "source": [
    "### Exercise\n",
    "\n",
    "#### Hyperparameter tuning with GridSearchCV\n",
    "Hugo demonstrated how to tune the `n_neighbors` parameter of the `KNeighborsClassifier()` using GridSearchCV on the voting dataset. You will now practice this yourself, but by using logistic regression on the diabetes dataset instead!\n",
    "\n",
    "Like the alpha parameter of lasso and ridge regularization that you saw earlier, logistic regression also has a regularization parameter: C. C controls the inverse of the regularization strength, and this is what you will tune in this exercise. A large C can lead to an overfit model, while a small C can lead to an underfit model.\n",
    "\n",
    "The hyperparameter space for C has been setup for you. Your job is to use GridSearchCV and logistic regression to find the optimal C in this hyperparameter space. The feature array is available as `X` and target variable array is available as `y`."
   ]
  },
  {
   "cell_type": "code",
   "execution_count": 43,
   "metadata": {},
   "outputs": [
    {
     "name": "stdout",
     "output_type": "stream",
     "text": [
      "Tuned Logistic Regression Parameters: {'C': 268.2695795279727}\n",
      "Best score is 0.7708333333333334\n"
     ]
    }
   ],
   "source": [
    "# Import necessary modules\n",
    "from sklearn.linear_model import LogisticRegression\n",
    "from sklearn.model_selection import GridSearchCV\n",
    "\n",
    "# Setup the hyperparameter grid by using c_space as the grid of values to tune C over.\n",
    "c_space = np.logspace(-5, 8, 15)\n",
    "param_grid = {'C': c_space }\n",
    "\n",
    "# Instantiate a logistic regression classifier: logreg\n",
    "logreg = LogisticRegression()\n",
    "\n",
    "# Instantiate the GridSearchCV object: logreg_cv\n",
    "logreg_cv = GridSearchCV(logreg, param_grid, cv=5) # specify the classifier, parameter grid, and number of folds to use.\n",
    "\n",
    "# Fit it to the data\n",
    "logreg_cv.fit(X, y)\n",
    "\n",
    "# Print the tuned parameters and score\n",
    "print(\"Tuned Logistic Regression Parameters: {}\".format(logreg_cv.best_params_)) \n",
    "print(\"Best score is {}\".format(logreg_cv.best_score_))"
   ]
  },
  {
   "cell_type": "markdown",
   "metadata": {},
   "source": [
    "#### Hyperparameter tuning with RandomizedSearchCV\n",
    "\n",
    "GridSearchCV can be computationally expensive, especially if you are searching over a large hyperparameter space and dealing with multiple hyperparameters. A solution to this is to use `RandomizedSearchCV`, in which not all hyperparameter values are tried out. Instead, a fixed number of hyperparameter settings is sampled from specified probability distributions. You'll practice using `RandomizedSearchCV` in this exercise and see how this works.\n",
    "\n",
    "Here, you'll also be introduced to a new model: the Decision Tree. Don't worry about the specifics of how this model works. Just like k-NN, linear regression, and logistic regression, decision trees in scikit-learn have `.fit()` and `.predict()` methods that you can use in exactly the same way as before. Decision trees have many parameters that can be tuned, such as `max_features`, `max_depth`, and `min_samples_leaf`: This makes it an ideal use case for `RandomizedSearchCV`."
   ]
  },
  {
   "cell_type": "code",
   "execution_count": 44,
   "metadata": {},
   "outputs": [
    {
     "data": {
      "text/plain": [
       "RandomizedSearchCV(cv=5, error_score='raise-deprecating',\n",
       "                   estimator=DecisionTreeClassifier(class_weight=None,\n",
       "                                                    criterion='gini',\n",
       "                                                    max_depth=None,\n",
       "                                                    max_features=None,\n",
       "                                                    max_leaf_nodes=None,\n",
       "                                                    min_impurity_decrease=0.0,\n",
       "                                                    min_impurity_split=None,\n",
       "                                                    min_samples_leaf=1,\n",
       "                                                    min_samples_split=2,\n",
       "                                                    min_weight_fraction_leaf=0.0,\n",
       "                                                    presort=False,\n",
       "                                                    random_state=None,\n",
       "                                                    splitter='best'),\n",
       "                   iid='w...None,\n",
       "                   param_distributions={'criterion': ['gini', 'entropy'],\n",
       "                                        'max_depth': [3, None],\n",
       "                                        'max_features': <scipy.stats._distn_infrastructure.rv_frozen object at 0x7f8a0b827710>,\n",
       "                                        'min_samples_leaf': <scipy.stats._distn_infrastructure.rv_frozen object at 0x7f8a0ccc1f10>},\n",
       "                   pre_dispatch='2*n_jobs', random_state=None, refit=True,\n",
       "                   return_train_score=False, scoring=None, verbose=0)"
      ]
     },
     "execution_count": 44,
     "metadata": {},
     "output_type": "execute_result"
    }
   ],
   "source": [
    "# Import necessary modules\n",
    "from scipy.stats import randint\n",
    "from sklearn.tree import DecisionTreeClassifier\n",
    "from sklearn.model_selection import RandomizedSearchCV\n",
    "\n",
    "# Setup the parameters and distributions to sample from: param_dist\n",
    "param_dist = {\"max_depth\": [3, None],\n",
    "              \"max_features\": randint(1, 9),\n",
    "              \"min_samples_leaf\": randint(1, 9),\n",
    "              \"criterion\": [\"gini\", \"entropy\"]}\n",
    "\n",
    "# Instantiate a Decision Tree classifier: tree\n",
    "tree = DecisionTreeClassifier()\n",
    "\n",
    "# Instantiate the RandomizedSearchCV object: tree_cv\n",
    "tree_cv = RandomizedSearchCV(tree, param_dist, cv=5)\n",
    "\n",
    "# Fit it to the data\n",
    "tree_cv.fit(X, y)"
   ]
  },
  {
   "cell_type": "markdown",
   "metadata": {},
   "source": [
    "Note that RandomizedSearchCV will never outperform GridSearchCV. Instead, it is valuable because it saves on computation time."
   ]
  },
  {
   "cell_type": "markdown",
   "metadata": {},
   "source": [
    "## Hold-out set for final evaluation\n",
    "\n",
    "### Hold-out set reasoning\n",
    "\n",
    "- How well can the model perform on never before seen data? \n",
    "- Using ALL data for cross-validation is not ideal\n",
    "- Split data into training and hold-out set at the beginning \n",
    "- Perform grid search cross-validation on training set \n",
    "- Choose best hyperparameters and evaluate on hold-out set\n",
    "\n",
    "### Exercise\n",
    "\n",
    "#### Hold-out set in practice I: Classification\n",
    "\n",
    "You will now practice evaluating a model with tuned hyperparameters on a hold-out set. The feature array and target variable array from the diabetes dataset have been pre-loaded as `X` and `y`.\n",
    "\n",
    "In addition to C, logistic regression has a `'penalty'` hyperparameter which specifies whether to use `'l1'` or `'l2'` regularization. Your job in this exercise is to create a hold-out set, tune the `'C'` and `'penalty'` hyperparameters of a logistic regression classifier using `GridSearchCV` on the training set."
   ]
  },
  {
   "cell_type": "code",
   "execution_count": 125,
   "metadata": {},
   "outputs": [],
   "source": [
    "diabetes = pd.read_csv(\"data/diabetes.csv\")\n",
    "\n",
    "X = diabetes.drop('diabetes', axis=1)\n",
    "\n",
    "y = diabetes['diabetes']"
   ]
  },
  {
   "cell_type": "code",
   "execution_count": 126,
   "metadata": {},
   "outputs": [],
   "source": [
    "# handle missing data\n",
    "# instaniate an instance of the imputer\n",
    "from sklearn.preprocessing import Imputer\n",
    "imp = Imputer(missing_values=0, strategy='mean', axis=0) # axis=0, impute along columns\n",
    "imp.fit(X)\n",
    "X = imp.transform(X) # due to their ability to transform our data as such, impters are known as transformers"
   ]
  },
  {
   "cell_type": "code",
   "execution_count": 127,
   "metadata": {},
   "outputs": [
    {
     "data": {
      "text/plain": [
       "array([[  6.   , 148.   ,  72.   , ...,  33.6  ,   0.627,  50.   ],\n",
       "       [  1.   ,  85.   ,  66.   , ...,  26.6  ,   0.351,  31.   ],\n",
       "       [  8.   , 183.   ,  64.   , ...,  23.3  ,   0.672,  32.   ],\n",
       "       ...,\n",
       "       [  5.   , 121.   ,  72.   , ...,  26.2  ,   0.245,  30.   ],\n",
       "       [  1.   , 126.   ,  60.   , ...,  30.1  ,   0.349,  47.   ],\n",
       "       [  1.   ,  93.   ,  70.   , ...,  30.4  ,   0.315,  23.   ]])"
      ]
     },
     "execution_count": 127,
     "metadata": {},
     "output_type": "execute_result"
    }
   ],
   "source": [
    "X"
   ]
  },
  {
   "cell_type": "code",
   "execution_count": 128,
   "metadata": {},
   "outputs": [
    {
     "name": "stdout",
     "output_type": "stream",
     "text": [
      "Tuned Logistic Regression Parameter: {'C': 3.727593720314938, 'penalty': 'l1'}\n",
      "Tuned Logistic Regression Accuracy: 0.7695652173913043\n"
     ]
    }
   ],
   "source": [
    "# Import necessary modules\n",
    "from sklearn.model_selection import train_test_split\n",
    "from sklearn.linear_model import LogisticRegression\n",
    "from sklearn.model_selection import GridSearchCV\n",
    "\n",
    "import warnings\n",
    "warnings.filterwarnings(action='ignore',category=DeprecationWarning)\n",
    "\n",
    "# Create the hyperparameter grid\n",
    "c_space = np.logspace(-5, 8, 15)\n",
    "param_grid = {'C': c_space, 'penalty': ['l1', 'l2']}\n",
    "\n",
    "# Instantiate the logistic regression classifier: logreg\n",
    "logreg = LogisticRegression()\n",
    "\n",
    "# Create train and test sets\n",
    "X_train, X_test, y_train, y_test = train_test_split(X, y, test_size = 0.4, random_state=42)\n",
    "\n",
    "# Instantiate the GridSearchCV object: logreg_cv\n",
    "logreg_cv = GridSearchCV(logreg, param_grid, cv=5)\n",
    "\n",
    "# Fit it to the training data\n",
    "logreg_cv.fit(X_train, y_train)\n",
    "\n",
    "# Print the optimal parameters and best score\n",
    "print(\"Tuned Logistic Regression Parameter: {}\".format(logreg_cv.best_params_))\n",
    "print(\"Tuned Logistic Regression Accuracy: {}\".format(logreg_cv.best_score_))"
   ]
  },
  {
   "cell_type": "markdown",
   "metadata": {},
   "source": [
    "???   \n",
    "<script.py> output:   \n",
    "    Tuned Logistic Regression Parameter: {'C': 0.4393970560760795, 'penalty': 'l1'}   \n",
    "    Tuned Logistic Regression Accuracy: 0.7652173913043478\n",
    "    \n",
    "#### Hold-out set in practice II: Regression"
   ]
  },
  {
   "cell_type": "markdown",
   "metadata": {},
   "source": [
    "Remember lasso and ridge regression from the previous chapter? Lasso used the `L1` penalty to regularize, while ridge used the `L2` penalty. There is another type of regularized regression known as the elastic net. In elastic net regularization, the penalty term is a linear combination of the `L1` and `L2` penalties:\n",
    "\n",
    "$a∗L1+b∗L2$\n",
    "In scikit-learn, this term is represented by the `'l1_ratio'` parameter: An `'l1_ratio'` of 1 corresponds to an `L1` penalty, and anything lower is a combination of `L1` and `L2`.\n",
    "\n",
    "In this exercise, you will `GridSearchCV` to tune the `'l1_ratio'` of an elastic net model trained on the Gapminder data. As in the previous exercise, use a hold-out set to evaluate your model's performance."
   ]
  },
  {
   "cell_type": "code",
   "execution_count": 129,
   "metadata": {},
   "outputs": [
    {
     "name": "stderr",
     "output_type": "stream",
     "text": [
      "/usr/local/anaconda3/lib/python3.7/site-packages/sklearn/linear_model/coordinate_descent.py:475: ConvergenceWarning: Objective did not converge. You might want to increase the number of iterations. Duality gap: 28.060343710391344, tolerance: 0.008436684782608696\n",
      "  positive)\n",
      "/usr/local/anaconda3/lib/python3.7/site-packages/sklearn/linear_model/coordinate_descent.py:475: ConvergenceWarning: Objective did not converge. You might want to increase the number of iterations. Duality gap: 27.812907810861557, tolerance: 0.008285869565217392\n",
      "  positive)\n",
      "/usr/local/anaconda3/lib/python3.7/site-packages/sklearn/linear_model/coordinate_descent.py:475: ConvergenceWarning: Objective did not converge. You might want to increase the number of iterations. Duality gap: 29.24917468229504, tolerance: 0.00867391304347826\n",
      "  positive)\n",
      "/usr/local/anaconda3/lib/python3.7/site-packages/sklearn/linear_model/coordinate_descent.py:475: ConvergenceWarning: Objective did not converge. You might want to increase the number of iterations. Duality gap: 28.006652906297635, tolerance: 0.008520652173913044\n",
      "  positive)\n",
      "/usr/local/anaconda3/lib/python3.7/site-packages/sklearn/linear_model/coordinate_descent.py:475: ConvergenceWarning: Objective did not converge. You might want to increase the number of iterations. Duality gap: 28.081160912367384, tolerance: 0.00849320652173913\n",
      "  positive)\n"
     ]
    },
    {
     "name": "stdout",
     "output_type": "stream",
     "text": [
      "Tuned ElasticNet l1 ratio: {'l1_ratio': 0.13793103448275862}\n",
      "Tuned ElasticNet R squared: 0.2508917697155366\n",
      "Tuned ElasticNet MSE: 0.16592450386592536\n"
     ]
    }
   ],
   "source": [
    "# Import necessary modules\n",
    "from sklearn.linear_model import ElasticNet\n",
    "from sklearn.metrics import mean_squared_error\n",
    "from sklearn.model_selection import GridSearchCV\n",
    "from sklearn.model_selection import train_test_split\n",
    "\n",
    "# Create train and test sets\n",
    "X_train, X_test, y_train, y_test = train_test_split(X, y, test_size=0.4, random_state=42)\n",
    "\n",
    "# Create the hyperparameter grid\n",
    "l1_space = np.linspace(0, 1, 30)\n",
    "param_grid = {'l1_ratio': l1_space}\n",
    "\n",
    "# Instantiate the ElasticNet regressor: elastic_net\n",
    "elastic_net = ElasticNet()\n",
    "\n",
    "# Setup the GridSearchCV object: gm_cv\n",
    "gm_cv = GridSearchCV(elastic_net, param_grid, cv=5)\n",
    "\n",
    "# Fit it to the training data\n",
    "gm_cv.fit(X_train, y_train)\n",
    "\n",
    "# Predict on the test set and compute metrics\n",
    "y_pred = gm_cv.predict(X_test)\n",
    "r2 = gm_cv.score(X_test, y_test)\n",
    "mse = mean_squared_error(y_test, y_pred)\n",
    "print(\"Tuned ElasticNet l1 ratio: {}\".format(gm_cv.best_params_))\n",
    "print(\"Tuned ElasticNet R squared: {}\".format(r2))\n",
    "print(\"Tuned ElasticNet MSE: {}\".format(mse))"
   ]
  },
  {
   "cell_type": "markdown",
   "metadata": {},
   "source": [
    "???   \n",
    "Tuned ElasticNet l1 ratio: {'l1_ratio': 0.20689655172413793}   \n",
    "Tuned ElasticNet R squared: 0.8668305372460283   \n",
    "Tuned ElasticNet MSE: 10.05791413339844   "
   ]
  },
  {
   "cell_type": "markdown",
   "metadata": {},
   "source": [
    "# Preprocessing and pipelines\n",
    "\n",
    "## Preprocessing data\n"
   ]
  },
  {
   "cell_type": "markdown",
   "metadata": {},
   "source": [
    "### Dealing with categorical features\n",
    "- Scikit-learn will not accept categorical features by default\n",
    "- Need to encode categorical features numerically\n",
    "- Convert to ‘dummy variables’\n",
    "    - 0: Observation was NOT that category \n",
    "    - 1: Observation was that category\n",
    "    \n",
    "### Dealing with categorical features in Python\n",
    "- scikit-learn: OneHotEncoder() \n",
    "- pandas: get_dummies()\n",
    "\n",
    "### Automobile dataset\n",
    "- mpg: Target Variable \n",
    "- Origin: Categorical Feature\n",
    "\n",
    "### Encoding dummy variables"
   ]
  },
  {
   "cell_type": "code",
   "execution_count": 49,
   "metadata": {},
   "outputs": [
    {
     "name": "stdout",
     "output_type": "stream",
     "text": [
      "    mpg  displ   hp  weight  accel  size  origin_Asia  origin_Europe  \\\n",
      "0  18.0  250.0   88    3139   14.5  15.0            0              0   \n",
      "1   9.0  304.0  193    4732   18.5  20.0            0              0   \n",
      "2  36.1   91.0   60    1800   16.4  10.0            1              0   \n",
      "3  18.5  250.0   98    3525   19.0  15.0            0              0   \n",
      "4  34.3   97.0   78    2188   15.8  10.0            0              1   \n",
      "\n",
      "   origin_US  \n",
      "0          1  \n",
      "1          1  \n",
      "2          0  \n",
      "3          1  \n",
      "4          0  \n"
     ]
    }
   ],
   "source": [
    " import pandas as pd\n",
    "df = pd.read_csv('data/auto.csv')\n",
    "df_origin = pd.get_dummies(df) \n",
    "print(df_origin.head())"
   ]
  },
  {
   "cell_type": "code",
   "execution_count": 50,
   "metadata": {},
   "outputs": [
    {
     "name": "stdout",
     "output_type": "stream",
     "text": [
      "    mpg  displ   hp  weight  accel  size  origin_Europe  origin_US\n",
      "0  18.0  250.0   88    3139   14.5  15.0              0          1\n",
      "1   9.0  304.0  193    4732   18.5  20.0              0          1\n",
      "2  36.1   91.0   60    1800   16.4  10.0              0          0\n",
      "3  18.5  250.0   98    3525   19.0  15.0              0          1\n",
      "4  34.3   97.0   78    2188   15.8  10.0              1          0\n"
     ]
    }
   ],
   "source": [
    "df_origin = df_origin.drop('origin_Asia', axis=1) \n",
    "print(df_origin.head())"
   ]
  },
  {
   "cell_type": "markdown",
   "metadata": {},
   "source": [
    "### Linear regression with dummy variables"
   ]
  },
  {
   "cell_type": "code",
   "execution_count": 51,
   "metadata": {},
   "outputs": [],
   "source": [
    "X = boston.drop('MEDV', axis=1).values\n",
    "y = boston['MEDV'].values"
   ]
  },
  {
   "cell_type": "code",
   "execution_count": 52,
   "metadata": {},
   "outputs": [
    {
     "data": {
      "text/plain": [
       "0.6658827571518846"
      ]
     },
     "execution_count": 52,
     "metadata": {},
     "output_type": "execute_result"
    }
   ],
   "source": [
    "from sklearn.model_selection import train_test_split \n",
    "from sklearn.linear_model import Ridge\n",
    "\n",
    "X_train, X_test, y_train, y_test = train_test_split(X, y, test_size=0.3, random_state=42)\n",
    "ridge = Ridge(alpha=0.5, normalize=True).fit(X_train, y_train)\n",
    "ridge.score(X_test, y_test)"
   ]
  },
  {
   "cell_type": "markdown",
   "metadata": {},
   "source": [
    "### Exercise\n",
    "#### Exploring categorical features\n",
    "The Gapminder dataset that you worked with in previous chapters also contained a categorical `'Region'` feature, which we dropped in previous exercises since you did not have the tools to deal with it. Now however, you do, so we have added it back in!\n",
    "\n",
    "Your job in this exercise is to explore this feature. Boxplots are particularly useful for visualizing categorical features such as this."
   ]
  },
  {
   "cell_type": "code",
   "execution_count": 53,
   "metadata": {},
   "outputs": [
    {
     "data": {
      "image/png": "[encoded data removed]",
      "text/plain": [
       "<Figure size 432x288 with 1 Axes>"
      ]
     },
     "metadata": {
      "needs_background": "light"
     },
     "output_type": "display_data"
    }
   ],
   "source": [
    "# Import pandas\n",
    "import pandas as pd\n",
    "\n",
    "# Read 'gapminder.csv' into a DataFrame: df\n",
    "df = pd.read_csv('data/gapminder.csv')\n",
    "\n",
    "# Create a boxplot of life expectancy per region\n",
    "df.boxplot('life', 'Region', rot=60)\n",
    "\n",
    "# Show the plot\n",
    "plt.show()"
   ]
  },
  {
   "cell_type": "markdown",
   "metadata": {},
   "source": [
    "#### Creating dummy variables\n",
    "As Andy discussed in the video, scikit-learn does not accept non-numerical features. You saw in the previous exercise that the `'Region'` feature contains very useful information that can predict life expectancy. For example, Sub-Saharan Africa has a lower life expectancy compared to Europe and Central Asia. Therefore, if you are trying to predict life expectancy, it would be preferable to retain the `'Region'` feature. To do this, you need to binarize it by creating dummy variables, which is what you will do in this exercise."
   ]
  },
  {
   "cell_type": "code",
   "execution_count": 54,
   "metadata": {},
   "outputs": [
    {
     "name": "stdout",
     "output_type": "stream",
     "text": [
      "Index(['population', 'fertility', 'HIV', 'CO2', 'BMI_male', 'GDP',\n",
      "       'BMI_female', 'life', 'child_mortality', 'Region_America',\n",
      "       'Region_East Asia & Pacific', 'Region_Europe & Central Asia',\n",
      "       'Region_Middle East & North Africa', 'Region_South Asia',\n",
      "       'Region_Sub-Saharan Africa'],\n",
      "      dtype='object')\n",
      "Index(['population', 'fertility', 'HIV', 'CO2', 'BMI_male', 'GDP',\n",
      "       'BMI_female', 'life', 'child_mortality', 'Region_East Asia & Pacific',\n",
      "       'Region_Europe & Central Asia', 'Region_Middle East & North Africa',\n",
      "       'Region_South Asia', 'Region_Sub-Saharan Africa'],\n",
      "      dtype='object')\n"
     ]
    }
   ],
   "source": [
    "# Create dummy variables: df_region\n",
    "df_region = pd.get_dummies(df)\n",
    "\n",
    "# Print the columns of df_region\n",
    "print(df_region.columns)\n",
    "\n",
    "# Create dummy variables with drop_first=True: df_region\n",
    "df_region = df_region.drop('Region_America', axis=1)\n",
    "# or: df_region = pd.get_dummies(df, drop_first=True)\n",
    "\n",
    "# Print the new columns of df_region\n",
    "print(df_region.columns)"
   ]
  },
  {
   "cell_type": "markdown",
   "metadata": {},
   "source": [
    "#### Regression with categorical features\n",
    "Having created the dummy variables from the `'Region'` feature, you can build regression models as you did before. Here, you'll use ridge regression to perform 5-fold cross-validation.\n",
    "\n",
    "The feature array X and target variable array y have been pre-loaded."
   ]
  },
  {
   "cell_type": "code",
   "execution_count": 55,
   "metadata": {},
   "outputs": [
    {
     "name": "stdout",
     "output_type": "stream",
     "text": [
      "[0.66758848 0.69340446 0.47352712 0.24855188 0.29564884]\n"
     ]
    }
   ],
   "source": [
    "# Import necessary modules\n",
    "from sklearn.model_selection import cross_val_score\n",
    "from sklearn.linear_model import Ridge\n",
    "\n",
    "# Instantiate a ridge regressor: ridge\n",
    "ridge = Ridge(alpha=0.5, normalize=True)\n",
    "\n",
    "# Perform 5-fold cross-validation: ridge_cv\n",
    "ridge_cv = cross_val_score(ridge, X, y, cv=5)\n",
    "\n",
    "# Print the cross-validated scores\n",
    "print(ridge_cv)"
   ]
  },
  {
   "cell_type": "markdown",
   "metadata": {},
   "source": [
    "## Handling missing data\n",
    "\n",
    "### PIMA Indians dataset"
   ]
  },
  {
   "cell_type": "code",
   "execution_count": 56,
   "metadata": {},
   "outputs": [
    {
     "name": "stdout",
     "output_type": "stream",
     "text": [
      "<class 'pandas.core.frame.DataFrame'>\n",
      "RangeIndex: 768 entries, 0 to 767\n",
      "Data columns (total 9 columns):\n",
      "pregnancies    768 non-null int64\n",
      "glucose        768 non-null int64\n",
      "diastolic      768 non-null int64\n",
      "triceps        768 non-null int64\n",
      "insulin        768 non-null int64\n",
      "bmi            768 non-null float64\n",
      "dpf            768 non-null float64\n",
      "age            768 non-null int64\n",
      "diabetes       768 non-null int64\n",
      "dtypes: float64(2), int64(7)\n",
      "memory usage: 54.1 KB\n"
     ]
    }
   ],
   "source": [
    "df = pd.read_csv('data/diabetes.csv') \n",
    "df.info()"
   ]
  },
  {
   "cell_type": "code",
   "execution_count": 57,
   "metadata": {},
   "outputs": [
    {
     "name": "stdout",
     "output_type": "stream",
     "text": [
      "   pregnancies  glucose  diastolic  triceps  insulin   bmi    dpf  age  \\\n",
      "0            6      148         72       35        0  33.6  0.627   50   \n",
      "1            1       85         66       29        0  26.6  0.351   31   \n",
      "2            8      183         64        0        0  23.3  0.672   32   \n",
      "3            1       89         66       23       94  28.1  0.167   21   \n",
      "4            0      137         40       35      168  43.1  2.288   33   \n",
      "\n",
      "   diabetes  \n",
      "0         1  \n",
      "1         0  \n",
      "2         1  \n",
      "3         0  \n",
      "4         1  \n"
     ]
    }
   ],
   "source": [
    "print(df.head())"
   ]
  },
  {
   "cell_type": "markdown",
   "metadata": {},
   "source": [
    "### Dropping missing data"
   ]
  },
  {
   "cell_type": "code",
   "execution_count": 58,
   "metadata": {},
   "outputs": [
    {
     "name": "stdout",
     "output_type": "stream",
     "text": [
      "<class 'pandas.core.frame.DataFrame'>\n",
      "RangeIndex: 768 entries, 0 to 767\n",
      "Data columns (total 9 columns):\n",
      "pregnancies    768 non-null int64\n",
      "glucose        768 non-null int64\n",
      "diastolic      768 non-null int64\n",
      "triceps        541 non-null float64\n",
      "insulin        394 non-null float64\n",
      "bmi            757 non-null float64\n",
      "dpf            768 non-null float64\n",
      "age            768 non-null int64\n",
      "diabetes       768 non-null int64\n",
      "dtypes: float64(4), int64(5)\n",
      "memory usage: 54.1 KB\n"
     ]
    }
   ],
   "source": [
    "df.insulin.replace(0, np.nan, inplace=True) \n",
    "df.triceps.replace(0, np.nan, inplace=True) \n",
    "df.bmi.replace(0, np.nan, inplace=True) \n",
    "df.info()"
   ]
  },
  {
   "cell_type": "code",
   "execution_count": 59,
   "metadata": {},
   "outputs": [
    {
     "data": {
      "text/plain": [
       "(393, 9)"
      ]
     },
     "execution_count": 59,
     "metadata": {},
     "output_type": "execute_result"
    }
   ],
   "source": [
    "df = df.dropna() # remove columns contain Nan\n",
    "df.shape # half of rows droped, unacceptable"
   ]
  },
  {
   "cell_type": "markdown",
   "metadata": {},
   "source": [
    "### Imputing missing data\n",
    "\n",
    "- Making an educated guess about the missing values \n",
    "- Example: Using the mean of the non-missing entries"
   ]
  },
  {
   "cell_type": "code",
   "execution_count": 60,
   "metadata": {},
   "outputs": [],
   "source": [
    "# instaniate an instance of the imputer\n",
    "from sklearn.preprocessing import Imputer\n",
    "imp = Imputer(missing_values='NaN', strategy='mean', axis=0) # axis=0, impute along columns\n",
    "imp.fit(X)\n",
    "X = imp.transform(X) # due to their ability to transform our data as such, impters are known as transformers"
   ]
  },
  {
   "cell_type": "markdown",
   "metadata": {},
   "source": [
    "### Imputing within a pipeline\n",
    "\n",
    "- Making an educated guess about the missing values \n",
    "- Example: Using the mean of the non-missing entries"
   ]
  },
  {
   "cell_type": "code",
   "execution_count": 61,
   "metadata": {},
   "outputs": [],
   "source": [
    "from sklearn.pipeline import Pipeline\n",
    "from sklearn.preprocessing import Imputer\n",
    "\n",
    "imp = Imputer(missing_values='NaN', strategy='mean', axis=0) \n",
    "logreg = LogisticRegression()\n",
    "# construct a list of steps in the pipeline, where each step is a 2-tuple containing the name you wish to give the relevant step and the estimator\n",
    "steps = [('imputation', imp), ('logistic_regression', logreg)]\n",
    "# pass the list to the pipeline constructor\n",
    "pipeline = Pipeline(steps)\n",
    "X_train, X_test, y_train, y_test = train_test_split(X, y, test_size=0.3, random_state=42)"
   ]
  },
  {
   "cell_type": "code",
   "execution_count": 70,
   "metadata": {},
   "outputs": [
    {
     "data": {
      "text/plain": [
       "0.06578947368421052"
      ]
     },
     "execution_count": 70,
     "metadata": {},
     "output_type": "execute_result"
    }
   ],
   "source": [
    "pipeline.fit(X_train, y_train.astype('int')) \n",
    "y_pred = pipeline.predict(X_test) \n",
    "# compute acurracy\n",
    "pipeline.score(X_test, y_test.astype('int'))"
   ]
  },
  {
   "cell_type": "markdown",
   "metadata": {},
   "source": [
    "Note: in a pipeline, each step but the last must be a transformer and the last must be an estimator, such as, a classifier or a regressor\n",
    "\n",
    "### Exercise\n",
    "\n",
    "#### Dropping missing data\n",
    "\n",
    "The voting dataset from Chapter 1 contained a bunch of missing values that we dealt with for you behind the scenes. Now, it's time for you to take care of these yourself!\n",
    "\n",
    "The unprocessed dataset has been loaded into a DataFrame `df`. Explore it in the IPython Shell with the `.head()` method. You will see that there are certain data points labeled with a '`?'`. These denote missing values. As you saw in the video, different datasets encode missing values in different ways. Sometimes it may be a `'9999'`, other times a `0` - real-world data can be very messy! If you're lucky, the missing values will already be encoded as `NaN`. We use `NaN` because it is an efficient and simplified way of internally representing missing data, and it lets us take advantage of pandas methods such as `.dropna()` and `.fillna()`, as well as scikit-learn's Imputation transformer `Imputer().`\n",
    "\n",
    "In this exercise, your job is to convert the `'?'`s to NaNs, and then drop the rows that contain them from the DataFrame."
   ]
  },
  {
   "cell_type": "code",
   "execution_count": 64,
   "metadata": {},
   "outputs": [
    {
     "name": "stdout",
     "output_type": "stream",
     "text": [
      "party                  0\n",
      "infants               12\n",
      "water                 48\n",
      "budget                11\n",
      "physician             11\n",
      "salvador              15\n",
      "religious             11\n",
      "satellite             14\n",
      "aid                   15\n",
      "missile               22\n",
      "immigration            7\n",
      "synfuels              21\n",
      "education             31\n",
      "superfund             25\n",
      "crime                 17\n",
      "duty_free_exports     28\n",
      "eaa_rsa              104\n",
      "dtype: int64\n",
      "Shape of Original DataFrame: (435, 17)\n",
      "Shape of DataFrame After Dropping All Rows with Missing Values: (232, 17)\n"
     ]
    }
   ],
   "source": [
    "df = voting\n",
    "\n",
    "# Convert '?' to NaN\n",
    "df[df == '?'] = np.nan\n",
    "\n",
    "# Print the number of NaNs\n",
    "print(df.isnull().sum())\n",
    "\n",
    "# Print shape of original DataFrame\n",
    "print(\"Shape of Original DataFrame: {}\".format(df.shape))\n",
    "\n",
    "# Drop missing values and print shape of new DataFrame\n",
    "df = df.dropna()\n",
    "\n",
    "# Print shape of new DataFrame\n",
    "print(\"Shape of DataFrame After Dropping All Rows with Missing Values: {}\".format(df.shape))"
   ]
  },
  {
   "cell_type": "markdown",
   "metadata": {},
   "source": [
    "When many values in your dataset are missing, if you drop them, you may end up throwing away valuable information along with the missing data. It's better instead to develop an imputation strategy. This is where domain knowledge is useful, but in the absence of it, you can impute missing values with the mean or the median of the row or column that the missing value is in.\n",
    "\n",
    "#### Imputing missing data in a ML Pipeline I\n",
    "As you've come to appreciate, there are many steps to building a model, from creating training and test sets, to fitting a classifier or regressor, to tuning its parameters, to evaluating its performance on new data. Imputation can be seen as the first step of this machine learning process, the entirety of which can be viewed within the context of a pipeline. Scikit-learn provides a pipeline constructor that allows you to piece together these steps into one process and thereby simplify your workflow.\n",
    "\n",
    "You'll now practice setting up a pipeline with two steps: the imputation step, followed by the instantiation of a classifier. You've seen three classifiers in this course so far: k-NN, logistic regression, and the decision tree. You will now be introduced to a fourth one - the Support Vector Machine, or SVM. For now, do not worry about how it works under the hood. It works exactly as you would expect of the scikit-learn estimators that you have worked with previously, in that it has the same `.fit()` and `.predict()` methods as before."
   ]
  },
  {
   "cell_type": "code",
   "execution_count": 111,
   "metadata": {},
   "outputs": [],
   "source": [
    "df = voting\n",
    "df[df == 'y'] = 1\n",
    "df[df == 'n'] = 0\n",
    "df[df == '?'] = \"NaN\""
   ]
  },
  {
   "cell_type": "code",
   "execution_count": 112,
   "metadata": {},
   "outputs": [],
   "source": [
    "# Import the Imputer module\n",
    "from sklearn.svm import SVC\n",
    "from sklearn.preprocessing import Imputer\n",
    "\n",
    "# Setup the Imputation transformer: imp\n",
    "imp = Imputer(missing_values='NaN', strategy='most_frequent', axis=0)\n",
    "\n",
    "# Instantiate the SVC classifier: clf\n",
    "clf = SVC()\n",
    "\n",
    "# Setup the pipeline with the required steps: steps\n",
    "steps = [('imputation', imp),\n",
    "        ('SVM', clf)]\n"
   ]
  },
  {
   "cell_type": "markdown",
   "metadata": {},
   "source": [
    "#### Imputing missing data in a ML Pipeline II\n",
    "Having setup the steps of the pipeline in the previous exercise, you will now use it on the voting dataset to classify a Congressman's party affiliation. What makes pipelines so incredibly useful is the simple interface that they provide. You can use the `.fit()` and `.predict()` methods on pipelines just as you did with your classifiers and regressors!\n",
    "\n",
    "Practice this for yourself now and generate a classification report of your predictions. The steps of the pipeline have been set up for you, and the feature array `X` and target variable array `y` have been pre-loaded. Additionally, `train_test_split` and `classification_report` have been imported from `sklearn.model_selection` and `sklearn.metrics` respectively."
   ]
  },
  {
   "cell_type": "code",
   "execution_count": 114,
   "metadata": {},
   "outputs": [],
   "source": [
    "X = df.drop('party', axis=1)\n",
    "y = df['party']"
   ]
  },
  {
   "cell_type": "code",
   "execution_count": 115,
   "metadata": {},
   "outputs": [
    {
     "name": "stdout",
     "output_type": "stream",
     "text": [
      "              precision    recall  f1-score   support\n",
      "\n",
      "    democrat       0.99      0.96      0.98        85\n",
      "  republican       0.94      0.98      0.96        46\n",
      "\n",
      "    accuracy                           0.97       131\n",
      "   macro avg       0.96      0.97      0.97       131\n",
      "weighted avg       0.97      0.97      0.97       131\n",
      "\n"
     ]
    }
   ],
   "source": [
    "# Import necessary modules\n",
    "from sklearn.preprocessing import Imputer\n",
    "from sklearn.pipeline import Pipeline\n",
    "from sklearn.svm import SVC\n",
    "\n",
    "# Setup the pipeline steps: steps\n",
    "steps = [('imputation', Imputer(missing_values='NaN', strategy='most_frequent', axis=0)),\n",
    "        ('SVM', SVC())]\n",
    "\n",
    "# Create the pipeline: pipeline\n",
    "pipeline = Pipeline(steps)\n",
    "\n",
    "# Create training and test sets\n",
    "X_train, X_test, y_train, y_test = train_test_split(X, y, test_size=0.3, random_state=42)\n",
    "\n",
    "# Fit the pipeline to the train set\n",
    "pipeline.fit(X_train, y_train) \n",
    "\n",
    "# Predict the labels of the test set\n",
    "y_pred = pipeline.predict(X_test) \n",
    "\n",
    "# Compute metrics\n",
    "print(classification_report(y_test, y_pred))"
   ]
  },
  {
   "cell_type": "markdown",
   "metadata": {},
   "source": [
    "## Centering and scaling\n",
    "\n",
    "### Why scale your data?\n",
    "\n",
    "- Many models use some form of distance to inform them \n",
    "- Features on larger scales can unduly infiuence the model \n",
    "- Example: k-NN uses distance explicitly when making predictions \n",
    "- We want features to be on a similar scale\n",
    "- Normalizing (or scaling and centering)\n",
    "\n",
    "## Ways to normalize your data\n",
    "- Standardization: Subtract the mean and divide by variance \n",
    "- All features are centered around zero and have variance one \n",
    "- Can also subtract the minimum and divide by the range Minimum zero and maximum one\n",
    "- Can also normalize so the data ranges from -1 to +1 \n",
    "- See scikit-learn docs for further details\n",
    "\n",
    "### Scaling in scikit-learn"
   ]
  },
  {
   "cell_type": "code",
   "execution_count": 134,
   "metadata": {},
   "outputs": [],
   "source": [
    "winequality_red = pd.read_csv(\"data/winequality-red.csv\")"
   ]
  },
  {
   "cell_type": "code",
   "execution_count": 135,
   "metadata": {},
   "outputs": [
    {
     "data": {
      "text/html": [
       "<div>\n",
       "<style scoped>\n",
       "    .dataframe tbody tr th:only-of-type {\n",
       "        vertical-align: middle;\n",
       "    }\n",
       "\n",
       "    .dataframe tbody tr th {\n",
       "        vertical-align: top;\n",
       "    }\n",
       "\n",
       "    .dataframe thead th {\n",
       "        text-align: right;\n",
       "    }\n",
       "</style>\n",
       "<table border=\"1\" class=\"dataframe\">\n",
       "  <thead>\n",
       "    <tr style=\"text-align: right;\">\n",
       "      <th></th>\n",
       "      <th>fixed acidity</th>\n",
       "      <th>volatile acidity</th>\n",
       "      <th>citric acid</th>\n",
       "      <th>residual sugar</th>\n",
       "      <th>chlorides</th>\n",
       "      <th>free sulfur dioxide</th>\n",
       "      <th>total sulfur dioxide</th>\n",
       "      <th>density</th>\n",
       "      <th>pH</th>\n",
       "      <th>sulphates</th>\n",
       "      <th>alcohol</th>\n",
       "      <th>quality</th>\n",
       "    </tr>\n",
       "  </thead>\n",
       "  <tbody>\n",
       "    <tr>\n",
       "      <td>0</td>\n",
       "      <td>7.4</td>\n",
       "      <td>0.700</td>\n",
       "      <td>0.00</td>\n",
       "      <td>1.9</td>\n",
       "      <td>0.076</td>\n",
       "      <td>11.0</td>\n",
       "      <td>34.0</td>\n",
       "      <td>0.99780</td>\n",
       "      <td>3.51</td>\n",
       "      <td>0.56</td>\n",
       "      <td>9.4</td>\n",
       "      <td>5</td>\n",
       "    </tr>\n",
       "    <tr>\n",
       "      <td>1</td>\n",
       "      <td>7.8</td>\n",
       "      <td>0.880</td>\n",
       "      <td>0.00</td>\n",
       "      <td>2.6</td>\n",
       "      <td>0.098</td>\n",
       "      <td>25.0</td>\n",
       "      <td>67.0</td>\n",
       "      <td>0.99680</td>\n",
       "      <td>3.20</td>\n",
       "      <td>0.68</td>\n",
       "      <td>9.8</td>\n",
       "      <td>5</td>\n",
       "    </tr>\n",
       "    <tr>\n",
       "      <td>2</td>\n",
       "      <td>7.8</td>\n",
       "      <td>0.760</td>\n",
       "      <td>0.04</td>\n",
       "      <td>2.3</td>\n",
       "      <td>0.092</td>\n",
       "      <td>15.0</td>\n",
       "      <td>54.0</td>\n",
       "      <td>0.99700</td>\n",
       "      <td>3.26</td>\n",
       "      <td>0.65</td>\n",
       "      <td>9.8</td>\n",
       "      <td>5</td>\n",
       "    </tr>\n",
       "    <tr>\n",
       "      <td>3</td>\n",
       "      <td>11.2</td>\n",
       "      <td>0.280</td>\n",
       "      <td>0.56</td>\n",
       "      <td>1.9</td>\n",
       "      <td>0.075</td>\n",
       "      <td>17.0</td>\n",
       "      <td>60.0</td>\n",
       "      <td>0.99800</td>\n",
       "      <td>3.16</td>\n",
       "      <td>0.58</td>\n",
       "      <td>9.8</td>\n",
       "      <td>6</td>\n",
       "    </tr>\n",
       "    <tr>\n",
       "      <td>4</td>\n",
       "      <td>7.4</td>\n",
       "      <td>0.700</td>\n",
       "      <td>0.00</td>\n",
       "      <td>1.9</td>\n",
       "      <td>0.076</td>\n",
       "      <td>11.0</td>\n",
       "      <td>34.0</td>\n",
       "      <td>0.99780</td>\n",
       "      <td>3.51</td>\n",
       "      <td>0.56</td>\n",
       "      <td>9.4</td>\n",
       "      <td>5</td>\n",
       "    </tr>\n",
       "    <tr>\n",
       "      <td>...</td>\n",
       "      <td>...</td>\n",
       "      <td>...</td>\n",
       "      <td>...</td>\n",
       "      <td>...</td>\n",
       "      <td>...</td>\n",
       "      <td>...</td>\n",
       "      <td>...</td>\n",
       "      <td>...</td>\n",
       "      <td>...</td>\n",
       "      <td>...</td>\n",
       "      <td>...</td>\n",
       "      <td>...</td>\n",
       "    </tr>\n",
       "    <tr>\n",
       "      <td>1594</td>\n",
       "      <td>6.2</td>\n",
       "      <td>0.600</td>\n",
       "      <td>0.08</td>\n",
       "      <td>2.0</td>\n",
       "      <td>0.090</td>\n",
       "      <td>32.0</td>\n",
       "      <td>44.0</td>\n",
       "      <td>0.99490</td>\n",
       "      <td>3.45</td>\n",
       "      <td>0.58</td>\n",
       "      <td>10.5</td>\n",
       "      <td>5</td>\n",
       "    </tr>\n",
       "    <tr>\n",
       "      <td>1595</td>\n",
       "      <td>5.9</td>\n",
       "      <td>0.550</td>\n",
       "      <td>0.10</td>\n",
       "      <td>2.2</td>\n",
       "      <td>0.062</td>\n",
       "      <td>39.0</td>\n",
       "      <td>51.0</td>\n",
       "      <td>0.99512</td>\n",
       "      <td>3.52</td>\n",
       "      <td>0.76</td>\n",
       "      <td>11.2</td>\n",
       "      <td>6</td>\n",
       "    </tr>\n",
       "    <tr>\n",
       "      <td>1596</td>\n",
       "      <td>6.3</td>\n",
       "      <td>0.510</td>\n",
       "      <td>0.13</td>\n",
       "      <td>2.3</td>\n",
       "      <td>0.076</td>\n",
       "      <td>29.0</td>\n",
       "      <td>40.0</td>\n",
       "      <td>0.99574</td>\n",
       "      <td>3.42</td>\n",
       "      <td>0.75</td>\n",
       "      <td>11.0</td>\n",
       "      <td>6</td>\n",
       "    </tr>\n",
       "    <tr>\n",
       "      <td>1597</td>\n",
       "      <td>5.9</td>\n",
       "      <td>0.645</td>\n",
       "      <td>0.12</td>\n",
       "      <td>2.0</td>\n",
       "      <td>0.075</td>\n",
       "      <td>32.0</td>\n",
       "      <td>44.0</td>\n",
       "      <td>0.99547</td>\n",
       "      <td>3.57</td>\n",
       "      <td>0.71</td>\n",
       "      <td>10.2</td>\n",
       "      <td>5</td>\n",
       "    </tr>\n",
       "    <tr>\n",
       "      <td>1598</td>\n",
       "      <td>6.0</td>\n",
       "      <td>0.310</td>\n",
       "      <td>0.47</td>\n",
       "      <td>3.6</td>\n",
       "      <td>0.067</td>\n",
       "      <td>18.0</td>\n",
       "      <td>42.0</td>\n",
       "      <td>0.99549</td>\n",
       "      <td>3.39</td>\n",
       "      <td>0.66</td>\n",
       "      <td>11.0</td>\n",
       "      <td>6</td>\n",
       "    </tr>\n",
       "  </tbody>\n",
       "</table>\n",
       "<p>1599 rows × 12 columns</p>\n",
       "</div>"
      ],
      "text/plain": [
       "      fixed acidity  volatile acidity  citric acid  residual sugar  chlorides  \\\n",
       "0               7.4             0.700         0.00             1.9      0.076   \n",
       "1               7.8             0.880         0.00             2.6      0.098   \n",
       "2               7.8             0.760         0.04             2.3      0.092   \n",
       "3              11.2             0.280         0.56             1.9      0.075   \n",
       "4               7.4             0.700         0.00             1.9      0.076   \n",
       "...             ...               ...          ...             ...        ...   \n",
       "1594            6.2             0.600         0.08             2.0      0.090   \n",
       "1595            5.9             0.550         0.10             2.2      0.062   \n",
       "1596            6.3             0.510         0.13             2.3      0.076   \n",
       "1597            5.9             0.645         0.12             2.0      0.075   \n",
       "1598            6.0             0.310         0.47             3.6      0.067   \n",
       "\n",
       "      free sulfur dioxide  total sulfur dioxide  density    pH  sulphates  \\\n",
       "0                    11.0                  34.0  0.99780  3.51       0.56   \n",
       "1                    25.0                  67.0  0.99680  3.20       0.68   \n",
       "2                    15.0                  54.0  0.99700  3.26       0.65   \n",
       "3                    17.0                  60.0  0.99800  3.16       0.58   \n",
       "4                    11.0                  34.0  0.99780  3.51       0.56   \n",
       "...                   ...                   ...      ...   ...        ...   \n",
       "1594                 32.0                  44.0  0.99490  3.45       0.58   \n",
       "1595                 39.0                  51.0  0.99512  3.52       0.76   \n",
       "1596                 29.0                  40.0  0.99574  3.42       0.75   \n",
       "1597                 32.0                  44.0  0.99547  3.57       0.71   \n",
       "1598                 18.0                  42.0  0.99549  3.39       0.66   \n",
       "\n",
       "      alcohol  quality  \n",
       "0         9.4        5  \n",
       "1         9.8        5  \n",
       "2         9.8        5  \n",
       "3         9.8        6  \n",
       "4         9.4        5  \n",
       "...       ...      ...  \n",
       "1594     10.5        5  \n",
       "1595     11.2        6  \n",
       "1596     11.0        6  \n",
       "1597     10.2        5  \n",
       "1598     11.0        6  \n",
       "\n",
       "[1599 rows x 12 columns]"
      ]
     },
     "execution_count": 135,
     "metadata": {},
     "output_type": "execute_result"
    }
   ],
   "source": [
    "winequality_red"
   ]
  },
  {
   "cell_type": "code",
   "execution_count": 153,
   "metadata": {},
   "outputs": [
    {
     "name": "stdout",
     "output_type": "stream",
     "text": [
      "       fixed acidity  volatile acidity  citric acid  residual sugar  \\\n",
      "count    1599.000000       1599.000000  1599.000000     1599.000000   \n",
      "mean        8.319637          0.527821     0.270976        2.538806   \n",
      "std         1.741096          0.179060     0.194801        1.409928   \n",
      "min         4.600000          0.120000     0.000000        0.900000   \n",
      "25%         7.100000          0.390000     0.090000        1.900000   \n",
      "50%         7.900000          0.520000     0.260000        2.200000   \n",
      "75%         9.200000          0.640000     0.420000        2.600000   \n",
      "max        15.900000          1.580000     1.000000       15.500000   \n",
      "\n",
      "         chlorides  free sulfur dioxide  total sulfur dioxide      density  \\\n",
      "count  1599.000000          1599.000000           1599.000000  1599.000000   \n",
      "mean      0.087467            15.874922             46.467792     0.996747   \n",
      "std       0.047065            10.460157             32.895324     0.001887   \n",
      "min       0.012000             1.000000              6.000000     0.990070   \n",
      "25%       0.070000             7.000000             22.000000     0.995600   \n",
      "50%       0.079000            14.000000             38.000000     0.996750   \n",
      "75%       0.090000            21.000000             62.000000     0.997835   \n",
      "max       0.611000            72.000000            289.000000     1.003690   \n",
      "\n",
      "                pH    sulphates      alcohol      quality  \n",
      "count  1599.000000  1599.000000  1599.000000  1599.000000  \n",
      "mean      3.311113     0.658149    10.422983     5.636023  \n",
      "std       0.154386     0.169507     1.065668     0.807569  \n",
      "min       2.740000     0.330000     8.400000     3.000000  \n",
      "25%       3.210000     0.550000     9.500000     5.000000  \n",
      "50%       3.310000     0.620000    10.200000     6.000000  \n",
      "75%       3.400000     0.730000    11.100000     6.000000  \n",
      "max       4.010000     2.000000    14.900000     8.000000  \n"
     ]
    }
   ],
   "source": [
    "print(winequality_red.describe())"
   ]
  },
  {
   "cell_type": "code",
   "execution_count": 166,
   "metadata": {},
   "outputs": [],
   "source": [
    "X = winequality_red.drop('quality', axis=1).values\n",
    "y = winequality_red['quality'].values\n",
    "y = np.where(y<5, 1, 0)"
   ]
  },
  {
   "cell_type": "code",
   "execution_count": 167,
   "metadata": {},
   "outputs": [],
   "source": [
    "from sklearn.preprocessing import scale \n",
    "X_scaled = scale(X)"
   ]
  },
  {
   "cell_type": "code",
   "execution_count": 168,
   "metadata": {},
   "outputs": [
    {
     "data": {
      "text/plain": [
       "(8.134219224515322, 16.726533979432848)"
      ]
     },
     "execution_count": 168,
     "metadata": {},
     "output_type": "execute_result"
    }
   ],
   "source": [
    "np.mean(X), np.std(X)"
   ]
  },
  {
   "cell_type": "code",
   "execution_count": 169,
   "metadata": {},
   "outputs": [
    {
     "data": {
      "text/plain": [
       "(2.546626531486538e-15, 1.0)"
      ]
     },
     "execution_count": 169,
     "metadata": {},
     "output_type": "execute_result"
    }
   ],
   "source": [
    "np.mean(X_scaled), np.std(X_scaled)"
   ]
  },
  {
   "cell_type": "markdown",
   "metadata": {},
   "source": [
    "### Scaling in a pipeline"
   ]
  },
  {
   "cell_type": "code",
   "execution_count": 170,
   "metadata": {},
   "outputs": [
    {
     "ename": "NameError",
     "evalue": "name 'accuracy_score' is not defined",
     "output_type": "error",
     "traceback": [
      "\u001b[0;31m---------------------------------------------------------------------------\u001b[0m",
      "\u001b[0;31mNameError\u001b[0m                                 Traceback (most recent call last)",
      "\u001b[0;32m<ipython-input-170-08c2ab57cd10>\u001b[0m in \u001b[0;36m<module>\u001b[0;34m\u001b[0m\n\u001b[1;32m      9\u001b[0m \u001b[0my_pred\u001b[0m \u001b[0;34m=\u001b[0m \u001b[0mpipeline\u001b[0m\u001b[0;34m.\u001b[0m\u001b[0mpredict\u001b[0m\u001b[0;34m(\u001b[0m\u001b[0mX_test\u001b[0m\u001b[0;34m)\u001b[0m\u001b[0;34m\u001b[0m\u001b[0;34m\u001b[0m\u001b[0m\n\u001b[1;32m     10\u001b[0m \u001b[0;31m# compute accuracy\u001b[0m\u001b[0;34m\u001b[0m\u001b[0;34m\u001b[0m\u001b[0;34m\u001b[0m\u001b[0m\n\u001b[0;32m---> 11\u001b[0;31m \u001b[0maccuracy_score\u001b[0m\u001b[0;34m(\u001b[0m\u001b[0my_test\u001b[0m\u001b[0;34m,\u001b[0m \u001b[0my_pred\u001b[0m\u001b[0;34m)\u001b[0m \u001b[0;31m# 0.956\u001b[0m\u001b[0;34m\u001b[0m\u001b[0;34m\u001b[0m\u001b[0m\n\u001b[0m",
      "\u001b[0;31mNameError\u001b[0m: name 'accuracy_score' is not defined"
     ]
    }
   ],
   "source": [
    "from sklearn.preprocessing import StandardScaler\n",
    "steps = [('scaler', StandardScaler()),('knn', KNeighborsClassifier())] \n",
    "pipeline = Pipeline(steps)\n",
    "# split dartaset in training and test set\n",
    "X_train, X_test, y_train, y_test = train_test_split(X, y, test_size=0.2, random_state=21)\n",
    "# fit the pipeline to training set\n",
    "knn_scaled = pipeline.fit(X_train, y_train) \n",
    "# predict test set\n",
    "y_pred = pipeline.predict(X_test)\n",
    "# compute accuracy\n",
    "accuracy_score(y_test, y_pred) # 0.956"
   ]
  },
  {
   "cell_type": "code",
   "execution_count": 171,
   "metadata": {},
   "outputs": [
    {
     "data": {
      "text/plain": [
       "0.946875"
      ]
     },
     "execution_count": 171,
     "metadata": {},
     "output_type": "execute_result"
    }
   ],
   "source": [
    "# perform KNN without scaling\n",
    "knn_unscaled = KNeighborsClassifier().fit(X_train, y_train) \n",
    "knn_unscaled.score(X_test, y_test) # result accurancy of 0.928, scaling did improve our model performance"
   ]
  },
  {
   "cell_type": "markdown",
   "metadata": {},
   "source": [
    "### CV and scaling in a pipeline"
   ]
  },
  {
   "cell_type": "code",
   "execution_count": 172,
   "metadata": {},
   "outputs": [
    {
     "ename": "NameError",
     "evalue": "name 'knn__n_neighbors' is not defined",
     "output_type": "error",
     "traceback": [
      "\u001b[0;31m---------------------------------------------------------------------------\u001b[0m",
      "\u001b[0;31mNameError\u001b[0m                                 Traceback (most recent call last)",
      "\u001b[0;32m<ipython-input-172-ff5826dbe345>\u001b[0m in \u001b[0;36m<module>\u001b[0;34m\u001b[0m\n\u001b[1;32m      5\u001b[0m \u001b[0;31m# followed by the hyperparameter name, the corresponding vale is a list or an array of the values to try for that\u001b[0m\u001b[0;34m\u001b[0m\u001b[0;34m\u001b[0m\u001b[0;34m\u001b[0m\u001b[0m\n\u001b[1;32m      6\u001b[0m \u001b[0;31m# particular hyperparameter. In this case, we are tuning only the n neighbours in the KNN model\u001b[0m\u001b[0;34m\u001b[0m\u001b[0;34m\u001b[0m\u001b[0;34m\u001b[0m\u001b[0m\n\u001b[0;32m----> 7\u001b[0;31m \u001b[0mparameters\u001b[0m \u001b[0;34m=\u001b[0m \u001b[0;34m{\u001b[0m\u001b[0mknn__n_neighbors\u001b[0m\u001b[0;34m:\u001b[0m \u001b[0mnp\u001b[0m\u001b[0;34m.\u001b[0m\u001b[0marange\u001b[0m\u001b[0;34m(\u001b[0m\u001b[0;36m1\u001b[0m\u001b[0;34m,\u001b[0m \u001b[0;36m50\u001b[0m\u001b[0;34m)\u001b[0m\u001b[0;34m}\u001b[0m\u001b[0;34m\u001b[0m\u001b[0;34m\u001b[0m\u001b[0m\n\u001b[0m\u001b[1;32m      8\u001b[0m \u001b[0;31m# split data into cross-validation and hold-out set\u001b[0m\u001b[0;34m\u001b[0m\u001b[0;34m\u001b[0m\u001b[0;34m\u001b[0m\u001b[0m\n\u001b[1;32m      9\u001b[0m \u001b[0mX_train\u001b[0m\u001b[0;34m,\u001b[0m \u001b[0mX_test\u001b[0m\u001b[0;34m,\u001b[0m \u001b[0my_train\u001b[0m\u001b[0;34m,\u001b[0m \u001b[0my_test\u001b[0m \u001b[0;34m=\u001b[0m \u001b[0mtrain_test_split\u001b[0m\u001b[0;34m(\u001b[0m\u001b[0mX\u001b[0m\u001b[0;34m,\u001b[0m \u001b[0my\u001b[0m\u001b[0;34m,\u001b[0m \u001b[0mtest_size\u001b[0m\u001b[0;34m=\u001b[0m\u001b[0;36m0.2\u001b[0m\u001b[0;34m,\u001b[0m \u001b[0mrandom_state\u001b[0m\u001b[0;34m=\u001b[0m\u001b[0;36m21\u001b[0m\u001b[0;34m)\u001b[0m\u001b[0;34m\u001b[0m\u001b[0;34m\u001b[0m\u001b[0m\n",
      "\u001b[0;31mNameError\u001b[0m: name 'knn__n_neighbors' is not defined"
     ]
    }
   ],
   "source": [
    "# build pipeline\n",
    "steps = [('scaler', StandardScaler()), (('knn', KNeighborsClassifier()))]\n",
    "pipeline = Pipeline(steps)\n",
    "# specify yhperparameter space by creating a dictionary: the keys are pipeline step name followed by a double underscore,\n",
    "# followed by the hyperparameter name, the corresponding vale is a list or an array of the values to try for that\n",
    "# particular hyperparameter. In this case, we are tuning only the n neighbours in the KNN model\n",
    "parameters = {knn__n_neighbors: np.arange(1, 50)}\n",
    "# split data into cross-validation and hold-out set \n",
    "X_train, X_test, y_train, y_test = train_test_split(X, y, test_size=0.2, random_state=21)\n",
    "# perform gridsearch over the parameters in the pipeline by instantiating the GridSearchCV object\n",
    "cv = GridSearchCV(pipeline, param_grid=parameters)\n",
    "# fit to training data\n",
    "cv.fit(X_train, y_train)\n",
    "# The predict method will call predict on the estimator with the best found parameters and we do this on the hold-out set\n",
    "y_pred = cv.predict(X_test)"
   ]
  },
  {
   "cell_type": "markdown",
   "metadata": {},
   "source": [
    "### Scaling and CV in a pipeline"
   ]
  },
  {
   "cell_type": "code",
   "execution_count": null,
   "metadata": {},
   "outputs": [],
   "source": [
    "print(cv.best_params_) # {'knn__n_neighbors': 41}"
   ]
  },
  {
   "cell_type": "code",
   "execution_count": null,
   "metadata": {},
   "outputs": [],
   "source": [
    "print(cv.score(X_test, y_test) )# 0.956"
   ]
  },
  {
   "cell_type": "code",
   "execution_count": null,
   "metadata": {},
   "outputs": [],
   "source": [
    "print(classification_report(y_test, y_pred))"
   ]
  },
  {
   "cell_type": "markdown",
   "metadata": {},
   "source": [
    "### Exercise\n",
    "\n",
    "#### Centering and scaling your data\n",
    "\n",
    "In the video, Hugo demonstrated how significantly the performance of a model can improve if the features are scaled. Note that this is not always the case: In the Congressional voting records dataset, for example, all of the features are binary. In such a situation, scaling will have minimal impact.\n",
    "\n",
    "You will now explore scaling for yourself on a new dataset - White Wine Quality! Hugo used the Red Wine Quality dataset in the video. We have used the `'quality'` feature of the wine to create a binary target variable: If `'quality'` is less than `5`, the target variable is `1`, and otherwise, it is `0`.\n",
    "\n",
    "The DataFrame has been pre-loaded as `df`, along with the feature and target variable arrays `X` and `y`. Explore it in the IPython Shell. Notice how some features seem to have different units of measurement. `'density'`, for instance, takes values between 0.98 and 1.04, while `'total sulfur dioxide'` ranges from 9 to 440. As a result, it may be worth scaling the features here. Your job in this exercise is to scale the features and compute the mean and standard deviation of the unscaled features compared to the scaled features."
   ]
  },
  {
   "cell_type": "code",
   "execution_count": 208,
   "metadata": {},
   "outputs": [],
   "source": [
    "winequality_white = pd.read_csv(\"data/winequality-white.csv\")\n",
    "\n",
    "X = winequality_white.drop('quality', axis=1).values\n",
    "y = winequality_white['quality'].values\n",
    "y = np.where(y<5, 0, 1)"
   ]
  },
  {
   "cell_type": "code",
   "execution_count": 210,
   "metadata": {},
   "outputs": [
    {
     "name": "stdout",
     "output_type": "stream",
     "text": [
      "Mean of Unscaled Features: 18.432687072460002\n",
      "Standard Deviation of Unscaled Features: 41.54494764094571\n",
      "Mean of Scaled Features: 2.739937614267761e-15\n",
      "Standard Deviation of Scaled Features: 0.9999999999999999\n"
     ]
    }
   ],
   "source": [
    "# Import scale\n",
    "from sklearn.preprocessing import scale\n",
    "\n",
    "# Scale the features: X_scaled\n",
    "X_scaled = scale(X)\n",
    "\n",
    "# Print the mean and standard deviation of the unscaled features\n",
    "print(\"Mean of Unscaled Features: {}\".format(np.mean(X))) \n",
    "print(\"Standard Deviation of Unscaled Features: {}\".format(np.std(X)))\n",
    "\n",
    "# Print the mean and standard deviation of the scaled features\n",
    "print(\"Mean of Scaled Features: {}\".format(np.mean(X_scaled))) \n",
    "print(\"Standard Deviation of Scaled Features: {}\".format(np.std(X_scaled)))"
   ]
  },
  {
   "cell_type": "markdown",
   "metadata": {},
   "source": [
    "#### Centering and scaling in a pipeline\n",
    "With regard to whether or not scaling is effective, the proof is in the pudding! See for yourself whether or not scaling the features of the White Wine Quality dataset has any impact on its performance. You will use a k-NN classifier as part of a pipeline that includes scaling, and for the purposes of comparison, a k-NN classifier trained on the unscaled data has been provided.\n",
    "\n",
    "The feature array and target variable array have been pre-loaded as `X` and `y`. Additionally, `KNeighborsClassifier` and `train_test_split` have been imported from `sklearn.neighbors` and `sklearn.model_selection`, respectively."
   ]
  },
  {
   "cell_type": "code",
   "execution_count": 211,
   "metadata": {},
   "outputs": [
    {
     "name": "stdout",
     "output_type": "stream",
     "text": [
      "Accuracy with Scaling: 0.964625850340136\n",
      "Accuracy without Scaling: 0.9666666666666667\n"
     ]
    }
   ],
   "source": [
    "# Import the necessary modules\n",
    "from sklearn.preprocessing import StandardScaler\n",
    "from sklearn.pipeline import Pipeline\n",
    "\n",
    "# Setup the pipeline steps: steps\n",
    "steps = [('scaler', StandardScaler()),\n",
    "        ('knn', KNeighborsClassifier())]\n",
    "        \n",
    "# Create the pipeline: pipeline\n",
    "pipeline = Pipeline(steps)\n",
    "\n",
    "# Create train and test sets\n",
    "X_train, X_test, y_train, y_test = train_test_split(X, y, test_size=0.3, random_state=42)\n",
    "\n",
    "# Fit the pipeline to the training set: knn_scaled\n",
    "knn_scaled = pipeline.fit(X_train, y_train)\n",
    "\n",
    "# Instantiate and fit a k-NN classifier to the unscaled data\n",
    "knn_unscaled = KNeighborsClassifier().fit(X_train, y_train)\n",
    "\n",
    "# Compute and print metrics\n",
    "print('Accuracy with Scaling: {}'.format(knn_scaled.score(X_test, y_test)))\n",
    "print('Accuracy without Scaling: {}'.format(knn_unscaled.score(X_test, y_test)))"
   ]
  },
  {
   "cell_type": "markdown",
   "metadata": {},
   "source": [
    " It looks like scaling has improved model performance!"
   ]
  },
  {
   "cell_type": "markdown",
   "metadata": {},
   "source": [
    "#### Bringing it all together I: Pipeline for classification\n",
    "It is time now to piece together everything you have learned so far into a pipeline for classification! Your job in this exercise is to build a pipeline that includes scaling and hyperparameter tuning to classify wine quality.\n",
    "\n",
    "You'll return to using the SVM classifier you were briefly introduced to earlier in this chapter. The hyperparameters you will tune are C and gamma. C controls the regularization strength. It is analogous to the C you tuned for logistic regression in Chapter 3, while gamma controls the kernel coefficient: Do not worry about this now as it is beyond the scope of this course."
   ]
  },
  {
   "cell_type": "code",
   "execution_count": 212,
   "metadata": {},
   "outputs": [
    {
     "name": "stdout",
     "output_type": "stream",
     "text": [
      "Accuracy: 0.9693877551020408\n",
      "              precision    recall  f1-score   support\n",
      "\n",
      "           0       0.43      0.10      0.17        29\n",
      "           1       0.97      1.00      0.98       951\n",
      "\n",
      "    accuracy                           0.97       980\n",
      "   macro avg       0.70      0.55      0.58       980\n",
      "weighted avg       0.96      0.97      0.96       980\n",
      "\n",
      "Tuned Model Parameters: {'SVM__C': 100, 'SVM__gamma': 0.01}\n"
     ]
    }
   ],
   "source": [
    "# Setup the pipeline\n",
    "steps = [('scaler', StandardScaler()),\n",
    "         ('SVM', SVC())]\n",
    "\n",
    "pipeline = Pipeline(steps)\n",
    "\n",
    "# Specify the hyperparameter space\n",
    "# Specify the hyperparameter space using the following notation: 'step_name__parameter_name'. \n",
    "# Here, the step_name is SVM, and the parameter_names are C and gamma.\n",
    "parameters = {'SVM__C':[1, 10, 100],\n",
    "              'SVM__gamma':[0.1, 0.01]}\n",
    "\n",
    "# Create train and test sets\n",
    "X_train, X_test, y_train, y_test = train_test_split(X, y, test_size=0.2, random_state=21)\n",
    "\n",
    "# Instantiate the GridSearchCV object: cv\n",
    "cv = GridSearchCV(pipeline, param_grid=parameters)\n",
    "\n",
    "# Fit to the training set\n",
    "cv.fit(X_train, y_train)\n",
    "\n",
    "# Predict the labels of the test set: y_pred\n",
    "y_pred = cv.predict(X_test)\n",
    "\n",
    "# Compute and print metrics\n",
    "print(\"Accuracy: {}\".format(cv.score(X_test, y_test)))\n",
    "print(classification_report(y_test, y_pred))\n",
    "print(\"Tuned Model Parameters: {}\".format(cv.best_params_))"
   ]
  },
  {
   "cell_type": "markdown",
   "metadata": {},
   "source": [
    "#### Bringing it all together II: Pipeline for regression\n",
    "For this final exercise, you will return to the Gapminder dataset. Guess what? Even this dataset has missing values that we dealt with for you in earlier chapters! Now, you have all the tools to take care of them yourself!\n",
    "\n",
    "Your job is to build a pipeline that imputes the missing data, scales the features, and fits an ElasticNet to the Gapminder data. You will then tune the `l1_ratio` of your ElasticNet using GridSearchCV.\n",
    "\n",
    "All the necessary modules have been imported, and the feature and target variable arrays have been pre-loaded as `X` and `y`."
   ]
  },
  {
   "cell_type": "code",
   "execution_count": 213,
   "metadata": {},
   "outputs": [
    {
     "name": "stderr",
     "output_type": "stream",
     "text": [
      "/usr/local/anaconda3/lib/python3.7/site-packages/sklearn/linear_model/coordinate_descent.py:475: ConvergenceWarning: Objective did not converge. You might want to increase the number of iterations. Duality gap: 38.15732229391255, tolerance: 0.008039632277834519\n",
      "  positive)\n",
      "/usr/local/anaconda3/lib/python3.7/site-packages/sklearn/linear_model/coordinate_descent.py:475: ConvergenceWarning: Objective did not converge. You might want to increase the number of iterations. Duality gap: 35.61440274967071, tolerance: 0.007305155691679429\n",
      "  positive)\n",
      "/usr/local/anaconda3/lib/python3.7/site-packages/sklearn/linear_model/coordinate_descent.py:475: ConvergenceWarning: Objective did not converge. You might want to increase the number of iterations. Duality gap: 38.245617131922145, tolerance: 0.008039816232771816\n",
      "  positive)\n"
     ]
    },
    {
     "name": "stdout",
     "output_type": "stream",
     "text": [
      "Tuned ElasticNet Alpha: {'elasticnet__l1_ratio': 0.0}\n",
      "Tuned ElasticNet R squared: 0.03467831194788973\n"
     ]
    },
    {
     "name": "stderr",
     "output_type": "stream",
     "text": [
      "/usr/local/anaconda3/lib/python3.7/site-packages/sklearn/linear_model/coordinate_descent.py:475: ConvergenceWarning: Objective did not converge. You might want to increase the number of iterations. Duality gap: 56.10538682498414, tolerance: 0.011693396868618106\n",
      "  positive)\n"
     ]
    }
   ],
   "source": [
    "# Setup the pipeline steps: steps\n",
    "steps = [('imputation', Imputer(missing_values='NaN', strategy='mean', axis=0)),\n",
    "         ('scaler', StandardScaler()),\n",
    "         ('elasticnet', ElasticNet())]\n",
    "\n",
    "# Create the pipeline: pipeline \n",
    "pipeline = Pipeline(steps)\n",
    "\n",
    "# Specify the hyperparameter space\n",
    "# Specify the hyperparameter space for the l1 ratio using the following notation: \n",
    "# 'step_name__parameter_name'. Here, the step_name is elasticnet, and the parameter_name is l1_ratio.\n",
    "parameters = {'elasticnet__l1_ratio':np.linspace(0,1,30)}\n",
    "\n",
    "# Create train and test sets\n",
    "X_train, X_test, y_train, y_test = train_test_split(X, y, test_size=0.4, random_state=42)\n",
    "\n",
    "# Create the GridSearchCV object: gm_cv\n",
    "gm_cv = GridSearchCV(pipeline, param_grid=parameters)\n",
    "\n",
    "# Fit to the training set\n",
    "gm_cv.fit(X_train, y_train)\n",
    "\n",
    "# Compute and print the metrics\n",
    "r2 = gm_cv.score(X_test, y_test)\n",
    "print(\"Tuned ElasticNet Alpha: {}\".format(gm_cv.best_params_))\n",
    "print(\"Tuned ElasticNet R squared: {}\".format(r2))"
   ]
  },
  {
   "cell_type": "code",
   "execution_count": null,
   "metadata": {},
   "outputs": [],
   "source": []
  }
 ],
 "metadata": {
  "kernelspec": {
   "display_name": "Python 3",
   "language": "python",
   "name": "python3"
  },
  "language_info": {
   "codemirror_mode": {
    "name": "ipython",
    "version": 3
   },
   "file_extension": ".py",
   "mimetype": "text/x-python",
   "name": "python",
   "nbconvert_exporter": "python",
   "pygments_lexer": "ipython3",
   "version": "3.7.4"
  },
  "toc": {
   "base_numbering": 1,
   "nav_menu": {},
   "number_sections": true,
   "sideBar": true,
   "skip_h1_title": false,
   "title_cell": "Table of Contents",
   "title_sidebar": "Contents",
   "toc_cell": true,
   "toc_position": {
    "height": "calc(100% - 180px)",
    "left": "10px",
    "top": "150px",
    "width": "288px"
   },
   "toc_section_display": true,
   "toc_window_display": true
  }
 },
 "nbformat": 4,
 "nbformat_minor": 2
}
