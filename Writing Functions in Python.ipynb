{
 "cells": [
  {
   "cell_type": "markdown",
   "metadata": {
    "toc": true
   },
   "source": [
    "<h1>Table of Contents<span class=\"tocSkip\"></span></h1>\n",
    "<div class=\"toc\"><ul class=\"toc-item\"><li><span><a href=\"#Best-Practices\" data-toc-modified-id=\"Best-Practices-1\"><span class=\"toc-item-num\">1&nbsp;&nbsp;</span>Best Practices</a></span><ul class=\"toc-item\"><li><span><a href=\"#Docstrings\" data-toc-modified-id=\"Docstrings-1.1\"><span class=\"toc-item-num\">1.1&nbsp;&nbsp;</span>Docstrings</a></span><ul class=\"toc-item\"><li><span><a href=\"#Anatomy-of-a-docstring\" data-toc-modified-id=\"Anatomy-of-a-docstring-1.1.1\"><span class=\"toc-item-num\">1.1.1&nbsp;&nbsp;</span>Anatomy of a docstring</a></span></li><li><span><a href=\"#Docstring-formats\" data-toc-modified-id=\"Docstring-formats-1.1.2\"><span class=\"toc-item-num\">1.1.2&nbsp;&nbsp;</span>Docstring formats</a></span><ul class=\"toc-item\"><li><span><a href=\"#Google-style\" data-toc-modified-id=\"Google-style-1.1.2.1\"><span class=\"toc-item-num\">1.1.2.1&nbsp;&nbsp;</span>Google style</a></span></li><li><span><a href=\"#Numpydoc\" data-toc-modified-id=\"Numpydoc-1.1.2.2\"><span class=\"toc-item-num\">1.1.2.2&nbsp;&nbsp;</span><a href=\"https://numpydoc.readthedocs.io/en/latest/format.html\" target=\"_blank\">Numpydoc</a></a></span></li></ul></li><li><span><a href=\"#Retrieving-docstrings\" data-toc-modified-id=\"Retrieving-docstrings-1.1.3\"><span class=\"toc-item-num\">1.1.3&nbsp;&nbsp;</span>Retrieving docstrings</a></span></li><li><span><a href=\"#Exercise-1\" data-toc-modified-id=\"Exercise-1-1.1.4\"><span class=\"toc-item-num\">1.1.4&nbsp;&nbsp;</span>Exercise 1</a></span></li><li><span><a href=\"#Exercise-2\" data-toc-modified-id=\"Exercise-2-1.1.5\"><span class=\"toc-item-num\">1.1.5&nbsp;&nbsp;</span>Exercise 2</a></span></li></ul></li><li><span><a href=\"#DRY-and-&quot;Do-One-Thing&quot;\" data-toc-modified-id=\"DRY-and-&quot;Do-One-Thing&quot;-1.2\"><span class=\"toc-item-num\">1.2&nbsp;&nbsp;</span>DRY and \"Do One Thing\"</a></span><ul class=\"toc-item\"><li><span><a href=\"#Don't-repeat-yourself-(DRY)\" data-toc-modified-id=\"Don't-repeat-yourself-(DRY)-1.2.1\"><span class=\"toc-item-num\">1.2.1&nbsp;&nbsp;</span>Don't repeat yourself (DRY)</a></span></li><li><span><a href=\"#Do-One-Thing\" data-toc-modified-id=\"Do-One-Thing-1.2.2\"><span class=\"toc-item-num\">1.2.2&nbsp;&nbsp;</span>Do One Thing</a></span></li></ul></li><li><span><a href=\"#Pass-by-assignment\" data-toc-modified-id=\"Pass-by-assignment-1.3\"><span class=\"toc-item-num\">1.3&nbsp;&nbsp;</span>Pass by assignment</a></span><ul class=\"toc-item\"><li><span><a href=\"#surprising-example\" data-toc-modified-id=\"surprising-example-1.3.1\"><span class=\"toc-item-num\">1.3.1&nbsp;&nbsp;</span>surprising example</a></span></li><li><span><a href=\"#Mutable-default-arguments-are-dangerous\" data-toc-modified-id=\"Mutable-default-arguments-are-dangerous-1.3.2\"><span class=\"toc-item-num\">1.3.2&nbsp;&nbsp;</span>Mutable default arguments are dangerous</a></span></li><li><span><a href=\"#Best-practice-for-default-arguments\" data-toc-modified-id=\"Best-practice-for-default-arguments-1.3.3\"><span class=\"toc-item-num\">1.3.3&nbsp;&nbsp;</span>Best practice for default arguments</a></span></li></ul></li></ul></li><li><span><a href=\"#Using-context-managers\" data-toc-modified-id=\"Using-context-managers-2\"><span class=\"toc-item-num\">2&nbsp;&nbsp;</span>Using context managers</a></span></li></ul></div>"
   ]
  },
  {
   "cell_type": "markdown",
   "metadata": {},
   "source": [
    "# Best Practices"
   ]
  },
  {
   "cell_type": "markdown",
   "metadata": {},
   "source": [
    "## Docstrings"
   ]
  },
  {
   "cell_type": "markdown",
   "metadata": {},
   "source": [
    "### Anatomy of a docstring"
   ]
  },
  {
   "cell_type": "code",
   "execution_count": 2,
   "metadata": {},
   "outputs": [],
   "source": [
    "def function_name(arguments):\n",
    "    \"\"\"  \n",
    "    Description of what the function does.\n",
    "    \n",
    "    Description of the arguments, if any. \n",
    "    \n",
    "    Description of the return value(s), if any.  \n",
    "    \n",
    "    Description of errors raised, if any.  \n",
    "    \n",
    "    Optional extra notes or examples of usage.  \n",
    "    \"\"\""
   ]
  },
  {
   "cell_type": "markdown",
   "metadata": {},
   "source": [
    "### Docstring formats\n",
    "\n",
    "- Google Style\n",
    "\n",
    "- Numpydoc\n",
    "\n",
    "- reStructuredText\n",
    "\n",
    "- EpyText"
   ]
  },
  {
   "cell_type": "markdown",
   "metadata": {},
   "source": [
    "#### Google style "
   ]
  },
  {
   "cell_type": "code",
   "execution_count": 3,
   "metadata": {},
   "outputs": [],
   "source": [
    "def function(arg_1, arg_2=42):\n",
    "    \"\"\"Description of what the function does. \n",
    "    \n",
    "    Args:   arg_1 (str): Description of arg_1 that can break onto the next line     \n",
    "        if needed.   \n",
    "    arg_2 (int, optional): Write optional when an argument has a default     \n",
    "        value. \n",
    "        \n",
    "    Returns:   \n",
    "        bool: Optional description of the return value   \n",
    "        Extra lines are not indented. \n",
    "        \n",
    "    Raises:   \n",
    "        ValueError: Include any error types that the function intentionally\n",
    "            raises. \n",
    "            \n",
    "    Notes:   \n",
    "        See https://www.datacamp.com/community/tutorials/docstrings-python   \n",
    "        for more info.   \n",
    "    \"\"\"\n"
   ]
  },
  {
   "cell_type": "markdown",
   "metadata": {},
   "source": [
    "#### [Numpydoc](https://numpydoc.readthedocs.io/en/latest/format.html)"
   ]
  },
  {
   "cell_type": "code",
   "execution_count": 4,
   "metadata": {},
   "outputs": [],
   "source": [
    "def function(arg_1, arg_2=42):\n",
    "    \"\"\" Description of what the function does.\n",
    "    \n",
    "    Parameters \n",
    "    ---------- \n",
    "    arg_1 : expected type of arg_1   \n",
    "        Description of arg_1. \n",
    "    arg_2 : int, optional   \n",
    "        Write optional when an argument has a default value.\n",
    "        Default=42.\n",
    "      \n",
    "    Returns \n",
    "    ------- \n",
    "    The type of the return value\n",
    "        Can include a description of the return value.\n",
    "        Replace \"Returns\" with \"Yields\" if this function is a generator. \n",
    "    \"\"\""
   ]
  },
  {
   "cell_type": "markdown",
   "metadata": {},
   "source": [
    "### Retrieving docstrings"
   ]
  },
  {
   "cell_type": "code",
   "execution_count": 7,
   "metadata": {},
   "outputs": [
    {
     "name": "stdout",
     "output_type": "stream",
     "text": [
      "Return the answer to life, the universe, and everything.\n",
      "    \n",
      "    Returns:    \n",
      "        int\n",
      "    \n"
     ]
    }
   ],
   "source": [
    "def the_answer():\n",
    "    \"\"\"Return the answer to life, the universe, and everything.\n",
    "    \n",
    "    Returns:    \n",
    "        int\n",
    "    \"\"\"\n",
    "    return 42\n",
    "print(the_answer.__doc__)"
   ]
  },
  {
   "cell_type": "code",
   "execution_count": 9,
   "metadata": {},
   "outputs": [
    {
     "name": "stdout",
     "output_type": "stream",
     "text": [
      "Return the answer to life, the universe, and everything.\n",
      "\n",
      "Returns:    \n",
      "    int\n"
     ]
    }
   ],
   "source": [
    "import inspect \n",
    "print(inspect.getdoc(the_answer))"
   ]
  },
  {
   "cell_type": "markdown",
   "metadata": {},
   "source": [
    "### Exercise 1"
   ]
  },
  {
   "cell_type": "code",
   "execution_count": 11,
   "metadata": {},
   "outputs": [],
   "source": [
    "def count_letter(content, letter):\n",
    "    \"\"\"Count the number of times `letter` appears in `content`.\n",
    "\n",
    "    Args:\n",
    "        content (str): The string to search.\n",
    "        letter (str): The letter to search for.\n",
    "\n",
    "    Returns:\n",
    "        int\n",
    "\n",
    "    # Add a section detailing what errors might be raised\n",
    "    Raises:\n",
    "        ValueError: If `letter` is not a one-character string.\n",
    "    \"\"\"\n",
    "    if (not isinstance(letter, str)) or len(letter) != 1:\n",
    "        raise ValueError('`letter` must be a single character string.')\n",
    "    return len([char for char in content if char == letter])"
   ]
  },
  {
   "cell_type": "markdown",
   "metadata": {},
   "source": [
    "### Exercise 2"
   ]
  },
  {
   "cell_type": "code",
   "execution_count": 12,
   "metadata": {},
   "outputs": [
    {
     "name": "stdout",
     "output_type": "stream",
     "text": [
      "############################\n",
      "Count the number of times `letter` appears in `content`.\n",
      "\n",
      "    Args:\n",
      "        content (str): The string to search.\n",
      "        letter (str): The letter to search for.\n",
      "\n",
      "    Returns:\n",
      "        int\n",
      "\n",
      "    # Add a section detailing what errors might be raised\n",
      "    Raises:\n",
      "        ValueError: If `letter` is not a one-character string.\n",
      "    \n",
      "############################\n"
     ]
    }
   ],
   "source": [
    "# Get the docstring with an attribute of count_letter()\n",
    "docstring = count_letter.__doc__\n",
    "\n",
    "border = '#' * 28\n",
    "print('{}\\n{}\\n{}'.format(border, docstring, border))"
   ]
  },
  {
   "cell_type": "code",
   "execution_count": 13,
   "metadata": {},
   "outputs": [
    {
     "name": "stdout",
     "output_type": "stream",
     "text": [
      "############################\n",
      "Count the number of times `letter` appears in `content`.\n",
      "\n",
      "Args:\n",
      "    content (str): The string to search.\n",
      "    letter (str): The letter to search for.\n",
      "\n",
      "Returns:\n",
      "    int\n",
      "\n",
      "# Add a section detailing what errors might be raised\n",
      "Raises:\n",
      "    ValueError: If `letter` is not a one-character string.\n",
      "############################\n"
     ]
    }
   ],
   "source": [
    "import inspect\n",
    "\n",
    "# Get the docstring with a function from the inspect module\n",
    "docstring = inspect.getdoc(count_letter)\n",
    "\n",
    "border = '#' * 28\n",
    "print('{}\\n{}\\n{}'.format(border, docstring, border))"
   ]
  },
  {
   "cell_type": "code",
   "execution_count": 14,
   "metadata": {},
   "outputs": [
    {
     "name": "stdout",
     "output_type": "stream",
     "text": [
      "############################\n",
      "Count the number of times `letter` appears in `content`.\n",
      "\n",
      "Args:\n",
      "    content (str): The string to search.\n",
      "    letter (str): The letter to search for.\n",
      "\n",
      "Returns:\n",
      "    int\n",
      "\n",
      "# Add a section detailing what errors might be raised\n",
      "Raises:\n",
      "    ValueError: If `letter` is not a one-character string.\n",
      "############################\n",
      "############################\n",
      "range(stop) -> range object\n",
      "range(start, stop[, step]) -> range object\n",
      "\n",
      "Return an object that produces a sequence of integers from start (inclusive)\n",
      "to stop (exclusive) by step.  range(i, j) produces i, i+1, i+2, ..., j-1.\n",
      "start defaults to 0, and stop is omitted!  range(4) produces 0, 1, 2, 3.\n",
      "These are exactly the valid indices for a list of 4 elements.\n",
      "When step is given, it specifies the increment (or decrement).\n",
      "############################\n",
      "############################\n",
      "print(value, ..., sep=' ', end='\\n', file=sys.stdout, flush=False)\n",
      "\n",
      "Prints the values to a stream, or to sys.stdout by default.\n",
      "Optional keyword arguments:\n",
      "file:  a file-like object (stream); defaults to the current sys.stdout.\n",
      "sep:   string inserted between values, default a space.\n",
      "end:   string appended after the last value, default a newline.\n",
      "flush: whether to forcibly flush the stream.\n",
      "############################\n"
     ]
    }
   ],
   "source": [
    "# Use the inspect module again to get the docstring for any function being passed to the build_tooltip() function.\n",
    "\n",
    "def build_tooltip(function):\n",
    "    \"\"\"Create a tooltip for any function that shows the \n",
    "    function's docstring.\n",
    "\n",
    "    Args:\n",
    "        function (callable): The function we want a tooltip for.\n",
    "\n",
    "    Returns:\n",
    "        str\n",
    "    \"\"\"\n",
    "    # Use 'inspect' to get the docstring\n",
    "    docstring = inspect.getdoc(function)\n",
    "    border = '#' * 28\n",
    "    return '{}\\n{}\\n{}'.format(border, docstring, border)\n",
    "\n",
    "print(build_tooltip(count_letter))\n",
    "print(build_tooltip(range))\n",
    "print(build_tooltip(print))"
   ]
  },
  {
   "cell_type": "markdown",
   "metadata": {},
   "source": [
    "## DRY and \"Do One Thing\""
   ]
  },
  {
   "cell_type": "markdown",
   "metadata": {},
   "source": [
    "### Don't repeat yourself (DRY)"
   ]
  },
  {
   "cell_type": "code",
   "execution_count": 16,
   "metadata": {},
   "outputs": [],
   "source": [
    "def load_and_plot(path):\n",
    "    \"\"\"Load a data set and plot the first two principal components. \n",
    "    \n",
    "    Args:   \n",
    "        path (str): The location of a CSV file. \n",
    "        \n",
    "    Returns:   \n",
    "        tuple of ndarray: (features, labels) \n",
    "    \"\"\"\n",
    "    # load the data\n",
    "    data = pd.read_csv(path) \n",
    "    y = data['label'].values \n",
    "    X = data[col for col in train.columns if col != 'label'].values \n",
    "    \n",
    "    # plot the first two principal components\n",
    "    pca = PCA(n_components=2).fit_transform(X) \n",
    "    plt.scatter(pca[:,0], pca[:,1])\n",
    "    \n",
    "    # return loaded dat\n",
    "    return X, y\n",
    "\n",
    "\n",
    "train_X, train_y = load_and_plot('train.csv')\n",
    "val_X, val_y = load_and_plot('validation.csv')\n",
    "test_X, test_y = load_and_plot('test.csv')"
   ]
  },
  {
   "cell_type": "markdown",
   "metadata": {},
   "source": [
    "### Do One Thing"
   ]
  },
  {
   "cell_type": "code",
   "execution_count": null,
   "metadata": {},
   "outputs": [],
   "source": [
    "def load_data(path):\n",
    "    \"\"\"Load a data set. \n",
    "    Args:   \n",
    "        path (str): The location of a CSV file. \n",
    "    \n",
    "    Returns:   \n",
    "        tuple of ndarray: (features, labels) \n",
    "    \"\"\" \n",
    "    data = pd.read_csv(path) \n",
    "    y = data['labels'].values \n",
    "    X = data[col for col in data.columns if col != 'labels'].values\n",
    "    \n",
    "    return X, y\n",
    "\n",
    "\n",
    "def plot_data(X):\n",
    "    \"\"\"Plot the first two principal components of a matrix.\n",
    "    \n",
    "        Args:   \n",
    "            X (numpy.ndarray): The data to plot. \n",
    "    \"\"\" \n",
    "    pca = PCA(n_components=2).fit_transform(X) \n",
    "    plt.scatter(pca[:,0], pca[:,1])"
   ]
  },
  {
   "cell_type": "markdown",
   "metadata": {},
   "source": [
    "## Pass by assignment"
   ]
  },
  {
   "cell_type": "markdown",
   "metadata": {},
   "source": [
    "### surprising example"
   ]
  },
  {
   "cell_type": "markdown",
   "metadata": {},
   "source": [
    "Immutable\n",
    "- int\n",
    "- float\n",
    "- bool\n",
    "- string\n",
    "- bytes\n",
    "- tuple\n",
    "- frozenset\n",
    "- None\n",
    "\n",
    "Mutable\n",
    "- list\n",
    "- dict\n",
    "- set\n",
    "- bytearray\n",
    "- objects\n",
    "- functions\n",
    "- almost everything else!"
   ]
  },
  {
   "cell_type": "code",
   "execution_count": 17,
   "metadata": {},
   "outputs": [
    {
     "name": "stdout",
     "output_type": "stream",
     "text": [
      "[99, 2, 3]\n"
     ]
    }
   ],
   "source": [
    "def foo(x):  \n",
    "    x[0] = 99\n",
    "    \n",
    "my_list = [1, 2, 3]\n",
    "foo(my_list)\n",
    "print(my_list)"
   ]
  },
  {
   "cell_type": "code",
   "execution_count": 19,
   "metadata": {},
   "outputs": [
    {
     "name": "stdout",
     "output_type": "stream",
     "text": [
      "3\n"
     ]
    }
   ],
   "source": [
    "# intergers are Immutable\n",
    "def bar(x):\n",
    "    x = x + 90\n",
    "    \n",
    "my_var = 3\n",
    "bar(my_var)\n",
    "print(my_var)"
   ]
  },
  {
   "cell_type": "markdown",
   "metadata": {},
   "source": [
    "### Mutable default arguments are dangerous"
   ]
  },
  {
   "cell_type": "code",
   "execution_count": 20,
   "metadata": {},
   "outputs": [
    {
     "data": {
      "text/plain": [
       "[1]"
      ]
     },
     "execution_count": 20,
     "metadata": {},
     "output_type": "execute_result"
    }
   ],
   "source": [
    "def foo(var=[]):\n",
    "    var.append(1)\n",
    "    return var\n",
    "\n",
    "foo()"
   ]
  },
  {
   "cell_type": "code",
   "execution_count": 21,
   "metadata": {},
   "outputs": [
    {
     "data": {
      "text/plain": [
       "[1, 1]"
      ]
     },
     "execution_count": 21,
     "metadata": {},
     "output_type": "execute_result"
    }
   ],
   "source": [
    "foo()"
   ]
  },
  {
   "cell_type": "code",
   "execution_count": 22,
   "metadata": {},
   "outputs": [
    {
     "data": {
      "text/plain": [
       "[1]"
      ]
     },
     "execution_count": 22,
     "metadata": {},
     "output_type": "execute_result"
    }
   ],
   "source": [
    "def foo(var=None):\n",
    "    if var is None:\n",
    "        var = []\n",
    "    var.append(1)\n",
    "    return var\n",
    "\n",
    "foo()"
   ]
  },
  {
   "cell_type": "code",
   "execution_count": 23,
   "metadata": {},
   "outputs": [
    {
     "data": {
      "text/plain": [
       "[1]"
      ]
     },
     "execution_count": 23,
     "metadata": {},
     "output_type": "execute_result"
    }
   ],
   "source": [
    "foo()"
   ]
  },
  {
   "cell_type": "markdown",
   "metadata": {},
   "source": [
    "### Best practice for default arguments"
   ]
  },
  {
   "cell_type": "markdown",
   "metadata": {},
   "source": [
    "Bad way to assign mutable default arguments"
   ]
  },
  {
   "cell_type": "code",
   "execution_count": 25,
   "metadata": {},
   "outputs": [],
   "source": [
    "def add_column(values, df=pandas.DataFrame()):\n",
    "    \"\"\"Add a column of `values` to a DataFrame `df`.\n",
    "    The column will be named \"col_<n>\" where \"n\" is\n",
    "    the numerical index of the column.\n",
    "\n",
    "    Args:\n",
    "        values (iterable): The values of the new column\n",
    "        df (DataFrame, optional): The DataFrame to update.\n",
    "          If no DataFrame is passed, one is created by default.\n",
    "\n",
    "    Returns:\n",
    "        DataFrame\n",
    "    \"\"\"\n",
    "    df['col_{}'.format(len(df.columns))] = values\n",
    "    return df"
   ]
  },
  {
   "cell_type": "markdown",
   "metadata": {},
   "source": [
    "Good way to assign mutable default arguments"
   ]
  },
  {
   "cell_type": "code",
   "execution_count": null,
   "metadata": {},
   "outputs": [],
   "source": [
    "# Use an immutable variable for the default argument \n",
    "def better_add_column(values, df=None):\n",
    "    \"\"\"Add a column of `values` to a DataFrame `df`.\n",
    "    The column will be named \"col_<n>\" where \"n\" is\n",
    "    the numerical index of the column.\n",
    "\n",
    "    Args:\n",
    "        values (iterable): The values of the new column\n",
    "        df (DataFrame, optional): The DataFrame to update.\n",
    "        If no DataFrame is passed, one is created by default.\n",
    "\n",
    "    Returns:\n",
    "        DataFrame\n",
    "    \"\"\"\n",
    "    # Update the function to create a default DataFrame\n",
    "    if df is None:\n",
    "        df = pandas.DataFrame()\n",
    "    df['col_{}'.format(len(df.columns))] = values\n",
    "    return df"
   ]
  },
  {
   "cell_type": "markdown",
   "metadata": {},
   "source": [
    "# Using context managers"
   ]
  },
  {
   "cell_type": "code",
   "execution_count": null,
   "metadata": {},
   "outputs": [],
   "source": []
  }
 ],
 "metadata": {
  "kernelspec": {
   "display_name": "Python 3",
   "language": "python",
   "name": "python3"
  },
  "language_info": {
   "codemirror_mode": {
    "name": "ipython",
    "version": 3
   },
   "file_extension": ".py",
   "mimetype": "text/x-python",
   "name": "python",
   "nbconvert_exporter": "python",
   "pygments_lexer": "ipython3",
   "version": "3.7.4"
  },
  "toc": {
   "base_numbering": 1,
   "nav_menu": {},
   "number_sections": true,
   "sideBar": true,
   "skip_h1_title": false,
   "title_cell": "Table of Contents",
   "title_sidebar": "Contents",
   "toc_cell": true,
   "toc_position": {},
   "toc_section_display": true,
   "toc_window_display": true
  }
 },
 "nbformat": 4,
 "nbformat_minor": 2
}
